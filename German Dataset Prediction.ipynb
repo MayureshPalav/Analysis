{
 "cells": [
  {
   "cell_type": "code",
   "execution_count": 1,
   "metadata": {},
   "outputs": [],
   "source": [
    "import pandas as pd\n",
    "import numpy as np \n",
    "import seaborn as sns\n",
    "import matplotlib.pyplot as plt\n",
    "from sklearn.feature_selection import RFECV\n",
    "plt.rc('font')\n",
    "%matplotlib inline\n",
    "import warnings\n",
    "warnings.filterwarnings('ignore')\n",
    "sns.set(style='darkgrid')\n"
   ]
  },
  {
   "cell_type": "markdown",
   "metadata": {},
   "source": [
    "## We need to make sure that the False Positives(marking a customer good risk when they are bad) is a great loss."
   ]
  },
  {
   "cell_type": "code",
   "execution_count": 2,
   "metadata": {},
   "outputs": [],
   "source": [
    "df=pd.read_csv('German_Credit_data.csv')\n"
   ]
  },
  {
   "cell_type": "code",
   "execution_count": 3,
   "metadata": {},
   "outputs": [
    {
     "data": {
      "text/plain": [
       "Creditability                                        0\n",
       "Status_of_existing_account                           0\n",
       "Duration_of_Credit_month                             0\n",
       "Payment_Status_of_Previous_Credit(Credit_history)    0\n",
       "Purpose_of_loan                                      0\n",
       "Credit_Amount                                        0\n",
       "Value_of_Savings_account&bonds                       0\n",
       "Years_of_Present_Employment                          0\n",
       "Percentage_of_disposable_income                      0\n",
       "Sex_&_Marital_Status                                 0\n",
       "Guarantors/Debtors                                   0\n",
       "Duration_in_Present_Residence                        0\n",
       "Property                                             0\n",
       "Age_in_years                                         0\n",
       "Concurrent_Credits                                   0\n",
       "Housing                                              0\n",
       "No_of_Credits_at_this__Bank                          0\n",
       "Occupation                                           0\n",
       "No_of_dependents                                     0\n",
       "Telephone                                            0\n",
       "Foreign_Worker                                       0\n",
       "dtype: int64"
      ]
     },
     "execution_count": 3,
     "metadata": {},
     "output_type": "execute_result"
    }
   ],
   "source": [
    "df.isna().sum()"
   ]
  },
  {
   "cell_type": "code",
   "execution_count": 4,
   "metadata": {},
   "outputs": [
    {
     "data": {
      "text/html": [
       "<div>\n",
       "<style scoped>\n",
       "    .dataframe tbody tr th:only-of-type {\n",
       "        vertical-align: middle;\n",
       "    }\n",
       "\n",
       "    .dataframe tbody tr th {\n",
       "        vertical-align: top;\n",
       "    }\n",
       "\n",
       "    .dataframe thead th {\n",
       "        text-align: right;\n",
       "    }\n",
       "</style>\n",
       "<table border=\"1\" class=\"dataframe\">\n",
       "  <thead>\n",
       "    <tr style=\"text-align: right;\">\n",
       "      <th></th>\n",
       "      <th>Creditability</th>\n",
       "      <th>Status_of_existing_account</th>\n",
       "      <th>Duration_of_Credit_month</th>\n",
       "      <th>Payment_Status_of_Previous_Credit(Credit_history)</th>\n",
       "      <th>Purpose_of_loan</th>\n",
       "      <th>Credit_Amount</th>\n",
       "      <th>Value_of_Savings_account&amp;bonds</th>\n",
       "      <th>Years_of_Present_Employment</th>\n",
       "      <th>Percentage_of_disposable_income</th>\n",
       "      <th>Sex_&amp;_Marital_Status</th>\n",
       "      <th>...</th>\n",
       "      <th>Duration_in_Present_Residence</th>\n",
       "      <th>Property</th>\n",
       "      <th>Age_in_years</th>\n",
       "      <th>Concurrent_Credits</th>\n",
       "      <th>Housing</th>\n",
       "      <th>No_of_Credits_at_this__Bank</th>\n",
       "      <th>Occupation</th>\n",
       "      <th>No_of_dependents</th>\n",
       "      <th>Telephone</th>\n",
       "      <th>Foreign_Worker</th>\n",
       "    </tr>\n",
       "  </thead>\n",
       "  <tbody>\n",
       "    <tr>\n",
       "      <th>count</th>\n",
       "      <td>1000.000000</td>\n",
       "      <td>1000.000000</td>\n",
       "      <td>1000.000000</td>\n",
       "      <td>1000.00000</td>\n",
       "      <td>1000.000000</td>\n",
       "      <td>1000.00000</td>\n",
       "      <td>1000.000000</td>\n",
       "      <td>1000.000000</td>\n",
       "      <td>1000.000000</td>\n",
       "      <td>1000.00000</td>\n",
       "      <td>...</td>\n",
       "      <td>1000.000000</td>\n",
       "      <td>1000.000000</td>\n",
       "      <td>1000.00000</td>\n",
       "      <td>1000.000000</td>\n",
       "      <td>1000.000000</td>\n",
       "      <td>1000.000000</td>\n",
       "      <td>1000.000000</td>\n",
       "      <td>1000.000000</td>\n",
       "      <td>1000.000000</td>\n",
       "      <td>1000.000000</td>\n",
       "    </tr>\n",
       "    <tr>\n",
       "      <th>mean</th>\n",
       "      <td>0.700000</td>\n",
       "      <td>2.577000</td>\n",
       "      <td>20.903000</td>\n",
       "      <td>2.54500</td>\n",
       "      <td>2.828000</td>\n",
       "      <td>3271.24800</td>\n",
       "      <td>2.105000</td>\n",
       "      <td>3.384000</td>\n",
       "      <td>2.973000</td>\n",
       "      <td>2.68200</td>\n",
       "      <td>...</td>\n",
       "      <td>2.845000</td>\n",
       "      <td>2.358000</td>\n",
       "      <td>35.54200</td>\n",
       "      <td>2.675000</td>\n",
       "      <td>1.928000</td>\n",
       "      <td>1.407000</td>\n",
       "      <td>2.904000</td>\n",
       "      <td>1.155000</td>\n",
       "      <td>1.404000</td>\n",
       "      <td>1.037000</td>\n",
       "    </tr>\n",
       "    <tr>\n",
       "      <th>std</th>\n",
       "      <td>0.458487</td>\n",
       "      <td>1.257638</td>\n",
       "      <td>12.058814</td>\n",
       "      <td>1.08312</td>\n",
       "      <td>2.744439</td>\n",
       "      <td>2822.75176</td>\n",
       "      <td>1.580023</td>\n",
       "      <td>1.208306</td>\n",
       "      <td>1.118715</td>\n",
       "      <td>0.70808</td>\n",
       "      <td>...</td>\n",
       "      <td>1.103718</td>\n",
       "      <td>1.050209</td>\n",
       "      <td>11.35267</td>\n",
       "      <td>0.705601</td>\n",
       "      <td>0.530186</td>\n",
       "      <td>0.577654</td>\n",
       "      <td>0.653614</td>\n",
       "      <td>0.362086</td>\n",
       "      <td>0.490943</td>\n",
       "      <td>0.188856</td>\n",
       "    </tr>\n",
       "    <tr>\n",
       "      <th>min</th>\n",
       "      <td>0.000000</td>\n",
       "      <td>1.000000</td>\n",
       "      <td>4.000000</td>\n",
       "      <td>0.00000</td>\n",
       "      <td>0.000000</td>\n",
       "      <td>250.00000</td>\n",
       "      <td>1.000000</td>\n",
       "      <td>1.000000</td>\n",
       "      <td>1.000000</td>\n",
       "      <td>1.00000</td>\n",
       "      <td>...</td>\n",
       "      <td>1.000000</td>\n",
       "      <td>1.000000</td>\n",
       "      <td>19.00000</td>\n",
       "      <td>1.000000</td>\n",
       "      <td>1.000000</td>\n",
       "      <td>1.000000</td>\n",
       "      <td>1.000000</td>\n",
       "      <td>1.000000</td>\n",
       "      <td>1.000000</td>\n",
       "      <td>1.000000</td>\n",
       "    </tr>\n",
       "    <tr>\n",
       "      <th>25%</th>\n",
       "      <td>0.000000</td>\n",
       "      <td>1.000000</td>\n",
       "      <td>12.000000</td>\n",
       "      <td>2.00000</td>\n",
       "      <td>1.000000</td>\n",
       "      <td>1365.50000</td>\n",
       "      <td>1.000000</td>\n",
       "      <td>3.000000</td>\n",
       "      <td>2.000000</td>\n",
       "      <td>2.00000</td>\n",
       "      <td>...</td>\n",
       "      <td>2.000000</td>\n",
       "      <td>1.000000</td>\n",
       "      <td>27.00000</td>\n",
       "      <td>3.000000</td>\n",
       "      <td>2.000000</td>\n",
       "      <td>1.000000</td>\n",
       "      <td>3.000000</td>\n",
       "      <td>1.000000</td>\n",
       "      <td>1.000000</td>\n",
       "      <td>1.000000</td>\n",
       "    </tr>\n",
       "    <tr>\n",
       "      <th>50%</th>\n",
       "      <td>1.000000</td>\n",
       "      <td>2.000000</td>\n",
       "      <td>18.000000</td>\n",
       "      <td>2.00000</td>\n",
       "      <td>2.000000</td>\n",
       "      <td>2319.50000</td>\n",
       "      <td>1.000000</td>\n",
       "      <td>3.000000</td>\n",
       "      <td>3.000000</td>\n",
       "      <td>3.00000</td>\n",
       "      <td>...</td>\n",
       "      <td>3.000000</td>\n",
       "      <td>2.000000</td>\n",
       "      <td>33.00000</td>\n",
       "      <td>3.000000</td>\n",
       "      <td>2.000000</td>\n",
       "      <td>1.000000</td>\n",
       "      <td>3.000000</td>\n",
       "      <td>1.000000</td>\n",
       "      <td>1.000000</td>\n",
       "      <td>1.000000</td>\n",
       "    </tr>\n",
       "    <tr>\n",
       "      <th>75%</th>\n",
       "      <td>1.000000</td>\n",
       "      <td>4.000000</td>\n",
       "      <td>24.000000</td>\n",
       "      <td>4.00000</td>\n",
       "      <td>3.000000</td>\n",
       "      <td>3972.25000</td>\n",
       "      <td>3.000000</td>\n",
       "      <td>5.000000</td>\n",
       "      <td>4.000000</td>\n",
       "      <td>3.00000</td>\n",
       "      <td>...</td>\n",
       "      <td>4.000000</td>\n",
       "      <td>3.000000</td>\n",
       "      <td>42.00000</td>\n",
       "      <td>3.000000</td>\n",
       "      <td>2.000000</td>\n",
       "      <td>2.000000</td>\n",
       "      <td>3.000000</td>\n",
       "      <td>1.000000</td>\n",
       "      <td>2.000000</td>\n",
       "      <td>1.000000</td>\n",
       "    </tr>\n",
       "    <tr>\n",
       "      <th>max</th>\n",
       "      <td>1.000000</td>\n",
       "      <td>4.000000</td>\n",
       "      <td>72.000000</td>\n",
       "      <td>4.00000</td>\n",
       "      <td>10.000000</td>\n",
       "      <td>18424.00000</td>\n",
       "      <td>5.000000</td>\n",
       "      <td>5.000000</td>\n",
       "      <td>4.000000</td>\n",
       "      <td>4.00000</td>\n",
       "      <td>...</td>\n",
       "      <td>4.000000</td>\n",
       "      <td>4.000000</td>\n",
       "      <td>75.00000</td>\n",
       "      <td>3.000000</td>\n",
       "      <td>3.000000</td>\n",
       "      <td>4.000000</td>\n",
       "      <td>4.000000</td>\n",
       "      <td>2.000000</td>\n",
       "      <td>2.000000</td>\n",
       "      <td>2.000000</td>\n",
       "    </tr>\n",
       "  </tbody>\n",
       "</table>\n",
       "<p>8 rows × 21 columns</p>\n",
       "</div>"
      ],
      "text/plain": [
       "       Creditability  Status_of_existing_account  Duration_of_Credit_month  \\\n",
       "count    1000.000000                 1000.000000               1000.000000   \n",
       "mean        0.700000                    2.577000                 20.903000   \n",
       "std         0.458487                    1.257638                 12.058814   \n",
       "min         0.000000                    1.000000                  4.000000   \n",
       "25%         0.000000                    1.000000                 12.000000   \n",
       "50%         1.000000                    2.000000                 18.000000   \n",
       "75%         1.000000                    4.000000                 24.000000   \n",
       "max         1.000000                    4.000000                 72.000000   \n",
       "\n",
       "       Payment_Status_of_Previous_Credit(Credit_history)  Purpose_of_loan  \\\n",
       "count                                         1000.00000      1000.000000   \n",
       "mean                                             2.54500         2.828000   \n",
       "std                                              1.08312         2.744439   \n",
       "min                                              0.00000         0.000000   \n",
       "25%                                              2.00000         1.000000   \n",
       "50%                                              2.00000         2.000000   \n",
       "75%                                              4.00000         3.000000   \n",
       "max                                              4.00000        10.000000   \n",
       "\n",
       "       Credit_Amount  Value_of_Savings_account&bonds  \\\n",
       "count     1000.00000                     1000.000000   \n",
       "mean      3271.24800                        2.105000   \n",
       "std       2822.75176                        1.580023   \n",
       "min        250.00000                        1.000000   \n",
       "25%       1365.50000                        1.000000   \n",
       "50%       2319.50000                        1.000000   \n",
       "75%       3972.25000                        3.000000   \n",
       "max      18424.00000                        5.000000   \n",
       "\n",
       "       Years_of_Present_Employment  Percentage_of_disposable_income  \\\n",
       "count                  1000.000000                      1000.000000   \n",
       "mean                      3.384000                         2.973000   \n",
       "std                       1.208306                         1.118715   \n",
       "min                       1.000000                         1.000000   \n",
       "25%                       3.000000                         2.000000   \n",
       "50%                       3.000000                         3.000000   \n",
       "75%                       5.000000                         4.000000   \n",
       "max                       5.000000                         4.000000   \n",
       "\n",
       "       Sex_&_Marital_Status  ...  Duration_in_Present_Residence     Property  \\\n",
       "count            1000.00000  ...                    1000.000000  1000.000000   \n",
       "mean                2.68200  ...                       2.845000     2.358000   \n",
       "std                 0.70808  ...                       1.103718     1.050209   \n",
       "min                 1.00000  ...                       1.000000     1.000000   \n",
       "25%                 2.00000  ...                       2.000000     1.000000   \n",
       "50%                 3.00000  ...                       3.000000     2.000000   \n",
       "75%                 3.00000  ...                       4.000000     3.000000   \n",
       "max                 4.00000  ...                       4.000000     4.000000   \n",
       "\n",
       "       Age_in_years  Concurrent_Credits      Housing  \\\n",
       "count    1000.00000         1000.000000  1000.000000   \n",
       "mean       35.54200            2.675000     1.928000   \n",
       "std        11.35267            0.705601     0.530186   \n",
       "min        19.00000            1.000000     1.000000   \n",
       "25%        27.00000            3.000000     2.000000   \n",
       "50%        33.00000            3.000000     2.000000   \n",
       "75%        42.00000            3.000000     2.000000   \n",
       "max        75.00000            3.000000     3.000000   \n",
       "\n",
       "       No_of_Credits_at_this__Bank   Occupation  No_of_dependents  \\\n",
       "count                  1000.000000  1000.000000       1000.000000   \n",
       "mean                      1.407000     2.904000          1.155000   \n",
       "std                       0.577654     0.653614          0.362086   \n",
       "min                       1.000000     1.000000          1.000000   \n",
       "25%                       1.000000     3.000000          1.000000   \n",
       "50%                       1.000000     3.000000          1.000000   \n",
       "75%                       2.000000     3.000000          1.000000   \n",
       "max                       4.000000     4.000000          2.000000   \n",
       "\n",
       "         Telephone  Foreign_Worker  \n",
       "count  1000.000000     1000.000000  \n",
       "mean      1.404000        1.037000  \n",
       "std       0.490943        0.188856  \n",
       "min       1.000000        1.000000  \n",
       "25%       1.000000        1.000000  \n",
       "50%       1.000000        1.000000  \n",
       "75%       2.000000        1.000000  \n",
       "max       2.000000        2.000000  \n",
       "\n",
       "[8 rows x 21 columns]"
      ]
     },
     "execution_count": 4,
     "metadata": {},
     "output_type": "execute_result"
    }
   ],
   "source": [
    "df.describe()"
   ]
  },
  {
   "cell_type": "markdown",
   "metadata": {},
   "source": [
    "## Replacing column names to understand better"
   ]
  },
  {
   "cell_type": "code",
   "execution_count": 5,
   "metadata": {},
   "outputs": [
    {
     "data": {
      "text/html": [
       "<div>\n",
       "<style scoped>\n",
       "    .dataframe tbody tr th:only-of-type {\n",
       "        vertical-align: middle;\n",
       "    }\n",
       "\n",
       "    .dataframe tbody tr th {\n",
       "        vertical-align: top;\n",
       "    }\n",
       "\n",
       "    .dataframe thead th {\n",
       "        text-align: right;\n",
       "    }\n",
       "</style>\n",
       "<table border=\"1\" class=\"dataframe\">\n",
       "  <thead>\n",
       "    <tr style=\"text-align: right;\">\n",
       "      <th></th>\n",
       "      <th>Creditability</th>\n",
       "      <th>Status_of_existing_account</th>\n",
       "      <th>Duration_of_Credit_month</th>\n",
       "      <th>Credit_History</th>\n",
       "      <th>Purpose</th>\n",
       "      <th>Credit_Amount</th>\n",
       "      <th>Savings_account</th>\n",
       "      <th>Years_of_Present_Employment</th>\n",
       "      <th>Percentage_of_disposable_income</th>\n",
       "      <th>Sex_&amp;_Marital_Status</th>\n",
       "      <th>...</th>\n",
       "      <th>Duration_in_Present_Residence</th>\n",
       "      <th>Property</th>\n",
       "      <th>Age</th>\n",
       "      <th>Concurrent_Credits</th>\n",
       "      <th>Housing</th>\n",
       "      <th>No_of_Credits_at_this__Bank</th>\n",
       "      <th>Occupation</th>\n",
       "      <th>No_of_dependents</th>\n",
       "      <th>Telephone</th>\n",
       "      <th>Foreign_Worker</th>\n",
       "    </tr>\n",
       "  </thead>\n",
       "  <tbody>\n",
       "    <tr>\n",
       "      <th>0</th>\n",
       "      <td>1</td>\n",
       "      <td>1</td>\n",
       "      <td>18</td>\n",
       "      <td>4</td>\n",
       "      <td>2</td>\n",
       "      <td>1049</td>\n",
       "      <td>1</td>\n",
       "      <td>2</td>\n",
       "      <td>4</td>\n",
       "      <td>2</td>\n",
       "      <td>...</td>\n",
       "      <td>4</td>\n",
       "      <td>2</td>\n",
       "      <td>21</td>\n",
       "      <td>3</td>\n",
       "      <td>1</td>\n",
       "      <td>1</td>\n",
       "      <td>3</td>\n",
       "      <td>1</td>\n",
       "      <td>1</td>\n",
       "      <td>1</td>\n",
       "    </tr>\n",
       "    <tr>\n",
       "      <th>1</th>\n",
       "      <td>1</td>\n",
       "      <td>1</td>\n",
       "      <td>9</td>\n",
       "      <td>4</td>\n",
       "      <td>0</td>\n",
       "      <td>2799</td>\n",
       "      <td>1</td>\n",
       "      <td>3</td>\n",
       "      <td>2</td>\n",
       "      <td>3</td>\n",
       "      <td>...</td>\n",
       "      <td>2</td>\n",
       "      <td>1</td>\n",
       "      <td>36</td>\n",
       "      <td>3</td>\n",
       "      <td>1</td>\n",
       "      <td>2</td>\n",
       "      <td>3</td>\n",
       "      <td>2</td>\n",
       "      <td>1</td>\n",
       "      <td>1</td>\n",
       "    </tr>\n",
       "    <tr>\n",
       "      <th>2</th>\n",
       "      <td>1</td>\n",
       "      <td>2</td>\n",
       "      <td>12</td>\n",
       "      <td>2</td>\n",
       "      <td>9</td>\n",
       "      <td>841</td>\n",
       "      <td>2</td>\n",
       "      <td>4</td>\n",
       "      <td>2</td>\n",
       "      <td>2</td>\n",
       "      <td>...</td>\n",
       "      <td>4</td>\n",
       "      <td>1</td>\n",
       "      <td>23</td>\n",
       "      <td>3</td>\n",
       "      <td>1</td>\n",
       "      <td>1</td>\n",
       "      <td>2</td>\n",
       "      <td>1</td>\n",
       "      <td>1</td>\n",
       "      <td>1</td>\n",
       "    </tr>\n",
       "    <tr>\n",
       "      <th>3</th>\n",
       "      <td>1</td>\n",
       "      <td>1</td>\n",
       "      <td>12</td>\n",
       "      <td>4</td>\n",
       "      <td>0</td>\n",
       "      <td>2122</td>\n",
       "      <td>1</td>\n",
       "      <td>3</td>\n",
       "      <td>3</td>\n",
       "      <td>3</td>\n",
       "      <td>...</td>\n",
       "      <td>2</td>\n",
       "      <td>1</td>\n",
       "      <td>39</td>\n",
       "      <td>3</td>\n",
       "      <td>1</td>\n",
       "      <td>2</td>\n",
       "      <td>2</td>\n",
       "      <td>2</td>\n",
       "      <td>1</td>\n",
       "      <td>2</td>\n",
       "    </tr>\n",
       "    <tr>\n",
       "      <th>4</th>\n",
       "      <td>1</td>\n",
       "      <td>1</td>\n",
       "      <td>12</td>\n",
       "      <td>4</td>\n",
       "      <td>0</td>\n",
       "      <td>2171</td>\n",
       "      <td>1</td>\n",
       "      <td>3</td>\n",
       "      <td>4</td>\n",
       "      <td>3</td>\n",
       "      <td>...</td>\n",
       "      <td>4</td>\n",
       "      <td>2</td>\n",
       "      <td>38</td>\n",
       "      <td>1</td>\n",
       "      <td>2</td>\n",
       "      <td>2</td>\n",
       "      <td>2</td>\n",
       "      <td>1</td>\n",
       "      <td>1</td>\n",
       "      <td>2</td>\n",
       "    </tr>\n",
       "  </tbody>\n",
       "</table>\n",
       "<p>5 rows × 21 columns</p>\n",
       "</div>"
      ],
      "text/plain": [
       "   Creditability  Status_of_existing_account  Duration_of_Credit_month  \\\n",
       "0              1                           1                        18   \n",
       "1              1                           1                         9   \n",
       "2              1                           2                        12   \n",
       "3              1                           1                        12   \n",
       "4              1                           1                        12   \n",
       "\n",
       "   Credit_History  Purpose  Credit_Amount  Savings_account  \\\n",
       "0               4        2           1049                1   \n",
       "1               4        0           2799                1   \n",
       "2               2        9            841                2   \n",
       "3               4        0           2122                1   \n",
       "4               4        0           2171                1   \n",
       "\n",
       "   Years_of_Present_Employment  Percentage_of_disposable_income  \\\n",
       "0                            2                                4   \n",
       "1                            3                                2   \n",
       "2                            4                                2   \n",
       "3                            3                                3   \n",
       "4                            3                                4   \n",
       "\n",
       "   Sex_&_Marital_Status  ...  Duration_in_Present_Residence  Property  Age  \\\n",
       "0                     2  ...                              4         2   21   \n",
       "1                     3  ...                              2         1   36   \n",
       "2                     2  ...                              4         1   23   \n",
       "3                     3  ...                              2         1   39   \n",
       "4                     3  ...                              4         2   38   \n",
       "\n",
       "   Concurrent_Credits  Housing  No_of_Credits_at_this__Bank  Occupation  \\\n",
       "0                   3        1                            1           3   \n",
       "1                   3        1                            2           3   \n",
       "2                   3        1                            1           2   \n",
       "3                   3        1                            2           2   \n",
       "4                   1        2                            2           2   \n",
       "\n",
       "   No_of_dependents  Telephone  Foreign_Worker  \n",
       "0                 1          1               1  \n",
       "1                 2          1               1  \n",
       "2                 1          1               1  \n",
       "3                 2          1               2  \n",
       "4                 1          1               2  \n",
       "\n",
       "[5 rows x 21 columns]"
      ]
     },
     "execution_count": 5,
     "metadata": {},
     "output_type": "execute_result"
    }
   ],
   "source": [
    "df.rename(columns={'Payment_Status_of_Previous_Credit(Credit_history)':'Credit_History'},inplace=True)\n",
    "df.rename(columns={'Purpose_of_loan':'Purpose'},inplace=True)\n",
    "df.rename(columns={'Value_of_Savings_account&bonds':'Savings_account'},inplace=True)\n",
    "df.rename(columns={'Age_in_years':'Age'},inplace=True)\n",
    "df.head()"
   ]
  },
  {
   "cell_type": "code",
   "execution_count": 6,
   "metadata": {},
   "outputs": [
    {
     "data": {
      "text/plain": [
       "Creditability                      int64\n",
       "Status_of_existing_account         int64\n",
       "Duration_of_Credit_month           int64\n",
       "Credit_History                     int64\n",
       "Purpose                            int64\n",
       "Credit_Amount                      int64\n",
       "Savings_account                    int64\n",
       "Years_of_Present_Employment        int64\n",
       "Percentage_of_disposable_income    int64\n",
       "Sex_&_Marital_Status               int64\n",
       "Guarantors/Debtors                 int64\n",
       "Duration_in_Present_Residence      int64\n",
       "Property                           int64\n",
       "Age                                int64\n",
       "Concurrent_Credits                 int64\n",
       "Housing                            int64\n",
       "No_of_Credits_at_this__Bank        int64\n",
       "Occupation                         int64\n",
       "No_of_dependents                   int64\n",
       "Telephone                          int64\n",
       "Foreign_Worker                     int64\n",
       "dtype: object"
      ]
     },
     "execution_count": 6,
     "metadata": {},
     "output_type": "execute_result"
    }
   ],
   "source": [
    "df.dtypes "
   ]
  },
  {
   "cell_type": "markdown",
   "metadata": {},
   "source": [
    "## There are both numerical as well as qualitative data included in the form of numbers.We need to map  the qualitative data accordingly for each feature.(for understading)\n"
   ]
  },
  {
   "cell_type": "code",
   "execution_count": 7,
   "metadata": {},
   "outputs": [
    {
     "data": {
      "text/plain": [
       "4    394\n",
       "1    274\n",
       "2    269\n",
       "3     63\n",
       "Name: Status_of_existing_account, dtype: int64"
      ]
     },
     "execution_count": 7,
     "metadata": {},
     "output_type": "execute_result"
    }
   ],
   "source": [
    "df.Status_of_existing_account.value_counts() #Has 4 categorical values which we need to assign"
   ]
  },
  {
   "cell_type": "code",
   "execution_count": 8,
   "metadata": {},
   "outputs": [],
   "source": [
    "\n",
    "existing_accout={1:'<0DM',2:'0 <= .. <200DM',3:'>=200DM',4:'no chking acc'}\n",
    "df['Status_of_existing_account']=df['Status_of_existing_account'].map(existing_accout) "
   ]
  },
  {
   "cell_type": "code",
   "execution_count": 9,
   "metadata": {},
   "outputs": [
    {
     "data": {
      "text/plain": [
       "no chking acc     394\n",
       "<0DM              274\n",
       "0 <= .. <200DM    269\n",
       ">=200DM            63\n",
       "Name: Status_of_existing_account, dtype: int64"
      ]
     },
     "execution_count": 9,
     "metadata": {},
     "output_type": "execute_result"
    }
   ],
   "source": [
    "df.Status_of_existing_account.value_counts() "
   ]
  },
  {
   "cell_type": "markdown",
   "metadata": {},
   "source": [
    "## Doing this for all the qualitative features\n"
   ]
  },
  {
   "cell_type": "code",
   "execution_count": 10,
   "metadata": {},
   "outputs": [
    {
     "data": {
      "text/plain": [
       "2    530\n",
       "4    293\n",
       "3     88\n",
       "1     49\n",
       "0     40\n",
       "Name: Credit_History, dtype: int64"
      ]
     },
     "execution_count": 10,
     "metadata": {},
     "output_type": "execute_result"
    }
   ],
   "source": [
    "df['Credit_History'].value_counts()"
   ]
  },
  {
   "cell_type": "code",
   "execution_count": 11,
   "metadata": {},
   "outputs": [],
   "source": [
    "payment_status={0:'no credits taken',1:'all credits paid back duly',2:'all credits paid back duly til now',3:'delay in paying off in the past',4:'critical account/ other credits existing (not at this bank)'}\n",
    "df['Credit_History']=df['Credit_History'].map(payment_status)"
   ]
  },
  {
   "cell_type": "code",
   "execution_count": 12,
   "metadata": {},
   "outputs": [
    {
     "data": {
      "text/plain": [
       "all credits paid back duly til now                             530\n",
       "critical account/ other credits existing (not at this bank)    293\n",
       "delay in paying off in the past                                 88\n",
       "all credits paid back duly                                      49\n",
       "no credits taken                                                40\n",
       "Name: Credit_History, dtype: int64"
      ]
     },
     "execution_count": 12,
     "metadata": {},
     "output_type": "execute_result"
    }
   ],
   "source": [
    "df['Credit_History'].value_counts()"
   ]
  },
  {
   "cell_type": "code",
   "execution_count": 13,
   "metadata": {},
   "outputs": [
    {
     "data": {
      "text/plain": [
       "3     280\n",
       "0     234\n",
       "2     181\n",
       "1     103\n",
       "9      97\n",
       "6      50\n",
       "5      22\n",
       "10     12\n",
       "4      12\n",
       "8       9\n",
       "Name: Purpose, dtype: int64"
      ]
     },
     "execution_count": 13,
     "metadata": {},
     "output_type": "execute_result"
    }
   ],
   "source": [
    "df.Purpose.value_counts()"
   ]
  },
  {
   "cell_type": "code",
   "execution_count": 14,
   "metadata": {},
   "outputs": [],
   "source": [
    "purpose={0:'car(new)',1:'car(old)',2:'furniture/equipment',3:'radio/television',4:'domestic appliances',5:'repairs',6:'education',7:'(vacation - does not exist?)',8:'retraining',9:'business',10:'others'}\n",
    "df['Purpose']=df['Purpose'].map(purpose)"
   ]
  },
  {
   "cell_type": "code",
   "execution_count": 15,
   "metadata": {},
   "outputs": [
    {
     "data": {
      "text/plain": [
       "radio/television       280\n",
       "car(new)               234\n",
       "furniture/equipment    181\n",
       "car(old)               103\n",
       "business                97\n",
       "education               50\n",
       "repairs                 22\n",
       "others                  12\n",
       "domestic appliances     12\n",
       "retraining               9\n",
       "Name: Purpose, dtype: int64"
      ]
     },
     "execution_count": 15,
     "metadata": {},
     "output_type": "execute_result"
    }
   ],
   "source": [
    "df.Purpose.value_counts()"
   ]
  },
  {
   "cell_type": "code",
   "execution_count": 16,
   "metadata": {},
   "outputs": [],
   "source": [
    "value={1:'..<100 DM',2:'100 <= ..<500 DM',3:'500 <=..<=1000',4:'.. >= 1000 DM',5:'unknown/ no savings account'}\n",
    "df['Savings_account']=df['Savings_account'].map(value)"
   ]
  },
  {
   "cell_type": "code",
   "execution_count": 17,
   "metadata": {},
   "outputs": [
    {
     "data": {
      "text/plain": [
       "..<100 DM                      603\n",
       "unknown/ no savings account    183\n",
       "100 <= ..<500 DM               103\n",
       "500 <=..<=1000                  63\n",
       ".. >= 1000 DM                   48\n",
       "Name: Savings_account, dtype: int64"
      ]
     },
     "execution_count": 17,
     "metadata": {},
     "output_type": "execute_result"
    }
   ],
   "source": [
    "df['Savings_account'].value_counts()"
   ]
  },
  {
   "cell_type": "code",
   "execution_count": 18,
   "metadata": {},
   "outputs": [],
   "source": [
    "employment={1:'unemployed',2:'..<=1year',3:'1 <= ... < 4 years',4:'4 <= ... < 7 years',5:'.. >= 7 years'}\n",
    "df['Years_of_Present_Employment']=df['Years_of_Present_Employment'].map(employment)"
   ]
  },
  {
   "cell_type": "code",
   "execution_count": 19,
   "metadata": {},
   "outputs": [
    {
     "data": {
      "text/plain": [
       "1 <= ... < 4 years    339\n",
       ".. >= 7 years         253\n",
       "4 <= ... < 7 years    174\n",
       "..<=1year             172\n",
       "unemployed             62\n",
       "Name: Years_of_Present_Employment, dtype: int64"
      ]
     },
     "execution_count": 19,
     "metadata": {},
     "output_type": "execute_result"
    }
   ],
   "source": [
    "df.Years_of_Present_Employment.value_counts()"
   ]
  },
  {
   "cell_type": "code",
   "execution_count": 20,
   "metadata": {},
   "outputs": [],
   "source": [
    "Sex_Marital={1:'male : divorced/separated',2:'female : divorced/separated/married',3:'male : single',4:'male : married/widowed',5:'female : single'}\n",
    "df['Sex_&_Marital_Status']=df['Sex_&_Marital_Status'].map(Sex_Marital)"
   ]
  },
  {
   "cell_type": "code",
   "execution_count": 21,
   "metadata": {},
   "outputs": [
    {
     "data": {
      "text/plain": [
       "array(['female : divorced/separated/married', 'male : single',\n",
       "       'male : married/widowed', 'male : divorced/separated'],\n",
       "      dtype=object)"
      ]
     },
     "execution_count": 21,
     "metadata": {},
     "output_type": "execute_result"
    }
   ],
   "source": [
    "df['Sex_&_Marital_Status'].unique()"
   ]
  },
  {
   "cell_type": "code",
   "execution_count": 22,
   "metadata": {},
   "outputs": [
    {
     "data": {
      "text/plain": [
       "3    332\n",
       "1    282\n",
       "2    232\n",
       "4    154\n",
       "Name: Property, dtype: int64"
      ]
     },
     "execution_count": 22,
     "metadata": {},
     "output_type": "execute_result"
    }
   ],
   "source": [
    "df.Property.value_counts()"
   ]
  },
  {
   "cell_type": "code",
   "execution_count": 23,
   "metadata": {},
   "outputs": [],
   "source": [
    "propert={1:'real_estate',2:'if not 1 : building society savings agreement/ lifeinsurance',3:'if not A121/A122 : car or other, not in attribute 6',4:'unknown/noproperty'}\n",
    "df['Property']=df['Property'].map(propert)"
   ]
  },
  {
   "cell_type": "code",
   "execution_count": 24,
   "metadata": {},
   "outputs": [
    {
     "data": {
      "text/plain": [
       "if not A121/A122 : car or other, not in attribute 6             332\n",
       "real_estate                                                     282\n",
       "if not 1 : building society savings agreement/ lifeinsurance    232\n",
       "unknown/noproperty                                              154\n",
       "Name: Property, dtype: int64"
      ]
     },
     "execution_count": 24,
     "metadata": {},
     "output_type": "execute_result"
    }
   ],
   "source": [
    "df['Property'].value_counts()"
   ]
  },
  {
   "cell_type": "code",
   "execution_count": 25,
   "metadata": {},
   "outputs": [
    {
     "data": {
      "text/plain": [
       "3    814\n",
       "1    139\n",
       "2     47\n",
       "Name: Concurrent_Credits, dtype: int64"
      ]
     },
     "execution_count": 25,
     "metadata": {},
     "output_type": "execute_result"
    }
   ],
   "source": [
    "df['Concurrent_Credits'].value_counts()"
   ]
  },
  {
   "cell_type": "code",
   "execution_count": 26,
   "metadata": {},
   "outputs": [],
   "source": [
    "other_plans={1:'bank',2:'stores',3:'none'}\n",
    "df['Concurrent_Credits']=df['Concurrent_Credits'].map(other_plans)"
   ]
  },
  {
   "cell_type": "code",
   "execution_count": 27,
   "metadata": {},
   "outputs": [],
   "source": [
    "house={1:'rent',2:'own',3:'for free'}\n",
    "df['Housing']=df['Housing'].map(house)"
   ]
  },
  {
   "cell_type": "code",
   "execution_count": 28,
   "metadata": {},
   "outputs": [],
   "source": [
    "job={1:'unemployed/ unskilled - non-resident',2:'unskilled - resident',3:': skilled employee / official',4:'management/ self-employed/highly'}\n",
    "df['Occupation']=df['Occupation'].map(job)     "
   ]
  },
  {
   "cell_type": "code",
   "execution_count": 29,
   "metadata": {},
   "outputs": [],
   "source": [
    "tel={1:'No',2:'yes, registered under the customers name'}\n",
    "df['Telephone']=df['Telephone'].map(tel)"
   ]
  },
  {
   "cell_type": "code",
   "execution_count": 30,
   "metadata": {},
   "outputs": [],
   "source": [
    "foreign={1:'Yes',2:'No'}\n",
    "df['Foreign_Worker']=df['Foreign_Worker'].map(foreign)"
   ]
  },
  {
   "cell_type": "code",
   "execution_count": 31,
   "metadata": {},
   "outputs": [],
   "source": [
    "df['Guarantors/Debtors'].value_counts()\n",
    "gurant={1:'None',2:'Co-applicant',3:'Guarntor'}\n",
    "df['Guarantors/Debtors']=df['Guarantors/Debtors'].map(gurant)"
   ]
  },
  {
   "cell_type": "markdown",
   "metadata": {},
   "source": [
    "## We have successfully converted all the number data to categorical data which can be understood"
   ]
  },
  {
   "cell_type": "code",
   "execution_count": 32,
   "metadata": {},
   "outputs": [],
   "source": [
    "\n",
    "clus=df.copy()\n",
    "df.to_csv('German Data')"
   ]
  },
  {
   "cell_type": "markdown",
   "metadata": {},
   "source": [
    "## Lets perform Some EDA"
   ]
  },
  {
   "cell_type": "code",
   "execution_count": 33,
   "metadata": {},
   "outputs": [
    {
     "name": "stdout",
     "output_type": "stream",
     "text": [
      "Number of continous feature are \n",
      " Creditability                      int64\n",
      "Duration_of_Credit_month           int64\n",
      "Credit_Amount                      int64\n",
      "Percentage_of_disposable_income    int64\n",
      "Duration_in_Present_Residence      int64\n",
      "Age                                int64\n",
      "No_of_Credits_at_this__Bank        int64\n",
      "No_of_dependents                   int64\n",
      "dtype: object\n"
     ]
    }
   ],
   "source": [
    "print('Number of continous feature are \\n',df.select_dtypes(include=['int64']).dtypes)"
   ]
  },
  {
   "cell_type": "code",
   "execution_count": 34,
   "metadata": {},
   "outputs": [
    {
     "data": {
      "text/plain": [
       "1    0.7\n",
       "0    0.3\n",
       "Name: Creditability, dtype: float64"
      ]
     },
     "execution_count": 34,
     "metadata": {},
     "output_type": "execute_result"
    }
   ],
   "source": [
    "#Here we need to predict the creditability \n",
    "df['Creditability'].value_counts(normalize=True) #The data is not highly imbalaned"
   ]
  },
  {
   "cell_type": "code",
   "execution_count": 35,
   "metadata": {},
   "outputs": [
    {
     "data": {
      "image/png": "[encoded data removed]",
      "text/plain": [
       "<Figure size 432x288 with 1 Axes>"
      ]
     },
     "metadata": {},
     "output_type": "display_data"
    }
   ],
   "source": [
    "sns.countplot(df['Creditability'])#Here 1 is good risk 0 is bad risk\n",
    "plt.savefig('Creditability')\n",
    "plt.show()"
   ]
  },
  {
   "cell_type": "code",
   "execution_count": 36,
   "metadata": {},
   "outputs": [
    {
     "data": {
      "text/html": [
       "<div>\n",
       "<style scoped>\n",
       "    .dataframe tbody tr th:only-of-type {\n",
       "        vertical-align: middle;\n",
       "    }\n",
       "\n",
       "    .dataframe tbody tr th {\n",
       "        vertical-align: top;\n",
       "    }\n",
       "\n",
       "    .dataframe thead th {\n",
       "        text-align: right;\n",
       "    }\n",
       "</style>\n",
       "<table border=\"1\" class=\"dataframe\">\n",
       "  <thead>\n",
       "    <tr style=\"text-align: right;\">\n",
       "      <th></th>\n",
       "      <th>Duration_of_Credit_month</th>\n",
       "      <th>Credit_Amount</th>\n",
       "      <th>Percentage_of_disposable_income</th>\n",
       "      <th>Duration_in_Present_Residence</th>\n",
       "      <th>Age</th>\n",
       "      <th>No_of_Credits_at_this__Bank</th>\n",
       "      <th>No_of_dependents</th>\n",
       "    </tr>\n",
       "    <tr>\n",
       "      <th>Creditability</th>\n",
       "      <th></th>\n",
       "      <th></th>\n",
       "      <th></th>\n",
       "      <th></th>\n",
       "      <th></th>\n",
       "      <th></th>\n",
       "      <th></th>\n",
       "    </tr>\n",
       "  </thead>\n",
       "  <tbody>\n",
       "    <tr>\n",
       "      <th>0</th>\n",
       "      <td>24.860000</td>\n",
       "      <td>3938.126667</td>\n",
       "      <td>3.096667</td>\n",
       "      <td>2.850000</td>\n",
       "      <td>33.96</td>\n",
       "      <td>1.366667</td>\n",
       "      <td>1.153333</td>\n",
       "    </tr>\n",
       "    <tr>\n",
       "      <th>1</th>\n",
       "      <td>19.207143</td>\n",
       "      <td>2985.442857</td>\n",
       "      <td>2.920000</td>\n",
       "      <td>2.842857</td>\n",
       "      <td>36.22</td>\n",
       "      <td>1.424286</td>\n",
       "      <td>1.155714</td>\n",
       "    </tr>\n",
       "  </tbody>\n",
       "</table>\n",
       "</div>"
      ],
      "text/plain": [
       "               Duration_of_Credit_month  Credit_Amount  \\\n",
       "Creditability                                            \n",
       "0                             24.860000    3938.126667   \n",
       "1                             19.207143    2985.442857   \n",
       "\n",
       "               Percentage_of_disposable_income  Duration_in_Present_Residence  \\\n",
       "Creditability                                                                   \n",
       "0                                     3.096667                       2.850000   \n",
       "1                                     2.920000                       2.842857   \n",
       "\n",
       "                 Age  No_of_Credits_at_this__Bank  No_of_dependents  \n",
       "Creditability                                                        \n",
       "0              33.96                     1.366667          1.153333  \n",
       "1              36.22                     1.424286          1.155714  "
      ]
     },
     "execution_count": 36,
     "metadata": {},
     "output_type": "execute_result"
    }
   ],
   "source": [
    "df.groupby('Creditability').mean()\n"
   ]
  },
  {
   "cell_type": "code",
   "execution_count": 37,
   "metadata": {},
   "outputs": [
    {
     "data": {
      "image/png": "[encoded data removed]",
      "text/plain": [
       "<Figure size 576x432 with 1 Axes>"
      ]
     },
     "metadata": {},
     "output_type": "display_data"
    }
   ],
   "source": [
    "plt.figure(figsize=(8,6))\n",
    "sns.countplot(df.Purpose,hue=df.Creditability)\n",
    "plt.xticks(rotation=90)\n",
    "plt.title('Purpose vs Creditability')\n",
    "plt.savefig('Purpose vs Creditability',bbox_inches='tight')\n",
    "#Good Credits are higher for particular purposes like Radio/Telivision or car(new)"
   ]
  },
  {
   "cell_type": "code",
   "execution_count": null,
   "metadata": {},
   "outputs": [],
   "source": []
  },
  {
   "cell_type": "code",
   "execution_count": 38,
   "metadata": {},
   "outputs": [
    {
     "data": {
      "image/png": "[encoded data removed]",
      "text/plain": [
       "<Figure size 432x288 with 1 Axes>"
      ]
     },
     "metadata": {},
     "output_type": "display_data"
    }
   ],
   "source": [
    "sns.countplot(x='Status_of_existing_account',data=df,hue='Creditability')\n",
    "plt.savefig('Status of Account',bbox_inches='tight')\n",
    "plt.title('Status of Account vs Creditability')\n",
    "plt.show()"
   ]
  },
  {
   "cell_type": "code",
   "execution_count": 39,
   "metadata": {},
   "outputs": [
    {
     "data": {
      "image/png": "[encoded data removed]",
      "text/plain": [
       "<Figure size 432x288 with 1 Axes>"
      ]
     },
     "metadata": {},
     "output_type": "display_data"
    }
   ],
   "source": [
    "plt.scatter(df['Credit_Amount'],df['Age'])\n",
    "plt.xlabel('Credit Amount')\n",
    "plt.ylabel('Age')\n",
    "plt.title('Age vs Credit Amount')\n",
    "plt.savefig('Age vs Credit Amount')\n",
    "plt.grid(True)\n",
    "\n"
   ]
  },
  {
   "cell_type": "code",
   "execution_count": 40,
   "metadata": {},
   "outputs": [
    {
     "data": {
      "text/plain": [
       "<Figure size 576x432 with 0 Axes>"
      ]
     },
     "metadata": {},
     "output_type": "display_data"
    },
    {
     "data": {
      "image/png": "[encoded data removed]",
      "text/plain": [
       "<Figure size 422.05x360 with 1 Axes>"
      ]
     },
     "metadata": {},
     "output_type": "display_data"
    }
   ],
   "source": [
    "plt.figure(figsize=(8,6))\n",
    "sns.catplot(x='Sex_&_Marital_Status',y='Age',hue='Creditability',data=df,kind='violin',height=5)\n",
    "plt.xticks(rotation=90)\n",
    "\n",
    "plt.savefig('Age vs Sex_Martial status',bbox_inches='tight')"
   ]
  },
  {
   "cell_type": "code",
   "execution_count": 41,
   "metadata": {},
   "outputs": [
    {
     "data": {
      "text/plain": [
       "(array([0, 1, 2, 3]), <a list of 4 Text xticklabel objects>)"
      ]
     },
     "execution_count": 41,
     "metadata": {},
     "output_type": "execute_result"
    },
    {
     "data": {
      "image/png": "[encoded data removed]",
      "text/plain": [
       "<Figure size 432x288 with 1 Axes>"
      ]
     },
     "metadata": {},
     "output_type": "display_data"
    }
   ],
   "source": [
    "#Visualizing all Count plots for all categorical Features\n",
    "sns.countplot(x='Sex_&_Marital_Status',data=df,hue='Creditability')\n",
    "plt.xticks(rotation=90)"
   ]
  },
  {
   "cell_type": "code",
   "execution_count": 42,
   "metadata": {},
   "outputs": [
    {
     "data": {
      "image/png": "[encoded data removed]",
      "text/plain": [
       "<Figure size 432x288 with 1 Axes>"
      ]
     },
     "metadata": {},
     "output_type": "display_data"
    }
   ],
   "source": [
    "sns.countplot(x='Occupation',data=df,hue='Creditability')\n",
    "plt.xticks(rotation=90)\n",
    "plt.savefig('Creditability vs Occupation',bbox_inches='tight')\n",
    "plt.show()\n",
    "#It can be mentioned that skilled employee has a high good credit score"
   ]
  },
  {
   "cell_type": "code",
   "execution_count": 43,
   "metadata": {},
   "outputs": [
    {
     "data": {
      "image/png": "[encoded data removed]",
      "text/plain": [
       "<Figure size 432x288 with 1 Axes>"
      ]
     },
     "metadata": {},
     "output_type": "display_data"
    }
   ],
   "source": [
    "sns.countplot(x='Guarantors/Debtors',data=df,hue='Creditability')\n",
    "plt.show()"
   ]
  },
  {
   "cell_type": "code",
   "execution_count": 44,
   "metadata": {},
   "outputs": [],
   "source": [
    "#CategoriaL Variables"
   ]
  },
  {
   "cell_type": "code",
   "execution_count": 45,
   "metadata": {
    "scrolled": false
   },
   "outputs": [
    {
     "data": {
      "image/png": "[encoded data removed]",
      "text/plain": [
       "<Figure size 432x288 with 1 Axes>"
      ]
     },
     "metadata": {},
     "output_type": "display_data"
    },
    {
     "data": {
      "image/png": "[encoded data removed]",
      "text/plain": [
       "<Figure size 432x288 with 1 Axes>"
      ]
     },
     "metadata": {},
     "output_type": "display_data"
    },
    {
     "data": {
      "image/png": "[encoded data removed]",
      "text/plain": [
       "<Figure size 432x288 with 1 Axes>"
      ]
     },
     "metadata": {},
     "output_type": "display_data"
    },
    {
     "data": {
      "image/png": "[encoded data removed]",
      "text/plain": [
       "<Figure size 432x288 with 1 Axes>"
      ]
     },
     "metadata": {},
     "output_type": "display_data"
    },
    {
     "data": {
      "image/png": "[encoded data removed]",
      "text/plain": [
       "<Figure size 432x288 with 1 Axes>"
      ]
     },
     "metadata": {},
     "output_type": "display_data"
    },
    {
     "data": {
      "image/png": "[encoded data removed]",
      "text/plain": [
       "<Figure size 432x288 with 1 Axes>"
      ]
     },
     "metadata": {},
     "output_type": "display_data"
    }
   ],
   "source": [
    "\n",
    "Eda=['Status_of_existing_account','Purpose','Sex_&_Marital_Status','Occupation','Telephone','Foreign_Worker']\n",
    "for col in Eda:\n",
    "    sns.countplot(x=col,data=df)\n",
    "    plt.xticks(rotation=45)\n",
    "    plt.savefig('{} Count'.format(col),bbox_inches='tight')\n",
    "    plt.show()    \n",
    "        "
   ]
  },
  {
   "cell_type": "code",
   "execution_count": 46,
   "metadata": {},
   "outputs": [
    {
     "data": {
      "text/plain": [
       "Creditability                        2\n",
       "Status_of_existing_account           4\n",
       "Duration_of_Credit_month            33\n",
       "Credit_History                       5\n",
       "Purpose                             10\n",
       "Credit_Amount                      923\n",
       "Savings_account                      5\n",
       "Years_of_Present_Employment          5\n",
       "Percentage_of_disposable_income      4\n",
       "Sex_&_Marital_Status                 4\n",
       "Guarantors/Debtors                   3\n",
       "Duration_in_Present_Residence        4\n",
       "Property                             4\n",
       "Age                                 53\n",
       "Concurrent_Credits                   3\n",
       "Housing                              3\n",
       "No_of_Credits_at_this__Bank          4\n",
       "Occupation                           4\n",
       "No_of_dependents                     2\n",
       "Telephone                            2\n",
       "Foreign_Worker                       2\n",
       "dtype: int64"
      ]
     },
     "execution_count": 46,
     "metadata": {},
     "output_type": "execute_result"
    }
   ],
   "source": [
    "df.nunique()"
   ]
  },
  {
   "cell_type": "code",
   "execution_count": 47,
   "metadata": {},
   "outputs": [
    {
     "data": {
      "text/plain": [
       "if not A121/A122 : car or other, not in attribute 6             332\n",
       "real_estate                                                     282\n",
       "if not 1 : building society savings agreement/ lifeinsurance    232\n",
       "unknown/noproperty                                              154\n",
       "Name: Property, dtype: int64"
      ]
     },
     "execution_count": 47,
     "metadata": {},
     "output_type": "execute_result"
    }
   ],
   "source": [
    "df.Property.value_counts()"
   ]
  },
  {
   "cell_type": "code",
   "execution_count": 48,
   "metadata": {},
   "outputs": [
    {
     "data": {
      "image/png": "[encoded data removed]",
      "text/plain": [
       "<Figure size 432x288 with 1 Axes>"
      ]
     },
     "metadata": {},
     "output_type": "display_data"
    }
   ],
   "source": [
    "sns.boxplot(x='Foreign_Worker',y='Age',hue='Creditability',data=df,dodge=True)\n",
    "plt.legend(loc='upper right')\n",
    "plt.savefig('Foreign_Worker vs Age')\n",
    "plt.show()"
   ]
  },
  {
   "cell_type": "code",
   "execution_count": 49,
   "metadata": {},
   "outputs": [
    {
     "data": {
      "image/png": "[encoded data removed]",
      "text/plain": [
       "<Figure size 432x288 with 1 Axes>"
      ]
     },
     "metadata": {},
     "output_type": "display_data"
    }
   ],
   "source": [
    "sns.boxplot(x='Years_of_Present_Employment',y='Credit_Amount',hue='Creditability',data=df,dodge=True)\n",
    "plt.legend(loc='upper right')\n",
    "plt.xticks(rotation=45)\n",
    "plt.savefig('Years_of_Present_Employment vs Credit Amount',bbox_inches='tight')\n",
    "\n",
    "plt.show()"
   ]
  },
  {
   "cell_type": "markdown",
   "metadata": {},
   "source": [
    "## Lets look at the Age distribution for Good and Bad customers"
   ]
  },
  {
   "cell_type": "code",
   "execution_count": 50,
   "metadata": {},
   "outputs": [],
   "source": [
    "good=df.loc[df['Creditability']==1]['Age'].values.tolist()\n",
    "bad=df.loc[df['Creditability']==0]['Age'].values.tolist()"
   ]
  },
  {
   "cell_type": "code",
   "execution_count": 51,
   "metadata": {},
   "outputs": [
    {
     "data": {
      "image/png": "[encoded data removed]",
      "text/plain": [
       "<Figure size 432x288 with 1 Axes>"
      ]
     },
     "metadata": {},
     "output_type": "display_data"
    }
   ],
   "source": [
    "plt.hist(bad,bins=10,histtype='bar')\n",
    "plt.title('Bad')\n",
    "plt.show()"
   ]
  },
  {
   "cell_type": "code",
   "execution_count": 52,
   "metadata": {},
   "outputs": [
    {
     "data": {
      "image/png": "[encoded data removed]",
      "text/plain": [
       "<Figure size 432x288 with 1 Axes>"
      ]
     },
     "metadata": {},
     "output_type": "display_data"
    }
   ],
   "source": [
    "plt.hist(good,bins=10,histtype='bar')\n",
    "plt.title('Good')\n",
    "plt.show() \n",
    "#There is not much difference in Age Distribution"
   ]
  },
  {
   "cell_type": "markdown",
   "metadata": {},
   "source": [
    "## Creating Dummy Variables for Categorical Features\n"
   ]
  },
  {
   "cell_type": "code",
   "execution_count": 53,
   "metadata": {},
   "outputs": [],
   "source": [
    "Categorical=['Status_of_existing_account','Credit_History','Purpose','Savings_account','Years_of_Present_Employment','Sex_&_Marital_Status','Guarantors/Debtors','Property','Concurrent_Credits','Housing','Occupation','Telephone','Foreign_Worker']\n"
   ]
  },
  {
   "cell_type": "code",
   "execution_count": 54,
   "metadata": {},
   "outputs": [],
   "source": [
    "for cat in Categorical:\n",
    "    pre='var'+'_'+cat\n",
    "    cat_list=pd.get_dummies(df[cat],prefix=pre)\n",
    "    data1=df.join(cat_list)\n",
    "    df=data1"
   ]
  },
  {
   "cell_type": "code",
   "execution_count": 55,
   "metadata": {},
   "outputs": [
    {
     "data": {
      "text/html": [
       "<div>\n",
       "<style scoped>\n",
       "    .dataframe tbody tr th:only-of-type {\n",
       "        vertical-align: middle;\n",
       "    }\n",
       "\n",
       "    .dataframe tbody tr th {\n",
       "        vertical-align: top;\n",
       "    }\n",
       "\n",
       "    .dataframe thead th {\n",
       "        text-align: right;\n",
       "    }\n",
       "</style>\n",
       "<table border=\"1\" class=\"dataframe\">\n",
       "  <thead>\n",
       "    <tr style=\"text-align: right;\">\n",
       "      <th></th>\n",
       "      <th>Creditability</th>\n",
       "      <th>Status_of_existing_account</th>\n",
       "      <th>Duration_of_Credit_month</th>\n",
       "      <th>Credit_History</th>\n",
       "      <th>Purpose</th>\n",
       "      <th>Credit_Amount</th>\n",
       "      <th>Savings_account</th>\n",
       "      <th>Years_of_Present_Employment</th>\n",
       "      <th>Percentage_of_disposable_income</th>\n",
       "      <th>Sex_&amp;_Marital_Status</th>\n",
       "      <th>...</th>\n",
       "      <th>var_Housing_own</th>\n",
       "      <th>var_Housing_rent</th>\n",
       "      <th>var_Occupation_: skilled employee / official</th>\n",
       "      <th>var_Occupation_management/ self-employed/highly</th>\n",
       "      <th>var_Occupation_unemployed/ unskilled - non-resident</th>\n",
       "      <th>var_Occupation_unskilled - resident</th>\n",
       "      <th>var_Telephone_No</th>\n",
       "      <th>var_Telephone_yes, registered under the customers name</th>\n",
       "      <th>var_Foreign_Worker_No</th>\n",
       "      <th>var_Foreign_Worker_Yes</th>\n",
       "    </tr>\n",
       "  </thead>\n",
       "  <tbody>\n",
       "    <tr>\n",
       "      <th>0</th>\n",
       "      <td>1</td>\n",
       "      <td>&lt;0DM</td>\n",
       "      <td>18</td>\n",
       "      <td>critical account/ other credits existing (not ...</td>\n",
       "      <td>furniture/equipment</td>\n",
       "      <td>1049</td>\n",
       "      <td>..&lt;100 DM</td>\n",
       "      <td>..&lt;=1year</td>\n",
       "      <td>4</td>\n",
       "      <td>female : divorced/separated/married</td>\n",
       "      <td>...</td>\n",
       "      <td>0</td>\n",
       "      <td>1</td>\n",
       "      <td>1</td>\n",
       "      <td>0</td>\n",
       "      <td>0</td>\n",
       "      <td>0</td>\n",
       "      <td>1</td>\n",
       "      <td>0</td>\n",
       "      <td>0</td>\n",
       "      <td>1</td>\n",
       "    </tr>\n",
       "    <tr>\n",
       "      <th>1</th>\n",
       "      <td>1</td>\n",
       "      <td>&lt;0DM</td>\n",
       "      <td>9</td>\n",
       "      <td>critical account/ other credits existing (not ...</td>\n",
       "      <td>car(new)</td>\n",
       "      <td>2799</td>\n",
       "      <td>..&lt;100 DM</td>\n",
       "      <td>1 &lt;= ... &lt; 4 years</td>\n",
       "      <td>2</td>\n",
       "      <td>male : single</td>\n",
       "      <td>...</td>\n",
       "      <td>0</td>\n",
       "      <td>1</td>\n",
       "      <td>1</td>\n",
       "      <td>0</td>\n",
       "      <td>0</td>\n",
       "      <td>0</td>\n",
       "      <td>1</td>\n",
       "      <td>0</td>\n",
       "      <td>0</td>\n",
       "      <td>1</td>\n",
       "    </tr>\n",
       "    <tr>\n",
       "      <th>2</th>\n",
       "      <td>1</td>\n",
       "      <td>0 &lt;= .. &lt;200DM</td>\n",
       "      <td>12</td>\n",
       "      <td>all credits paid back duly til now</td>\n",
       "      <td>business</td>\n",
       "      <td>841</td>\n",
       "      <td>100 &lt;= ..&lt;500 DM</td>\n",
       "      <td>4 &lt;= ... &lt; 7 years</td>\n",
       "      <td>2</td>\n",
       "      <td>female : divorced/separated/married</td>\n",
       "      <td>...</td>\n",
       "      <td>0</td>\n",
       "      <td>1</td>\n",
       "      <td>0</td>\n",
       "      <td>0</td>\n",
       "      <td>0</td>\n",
       "      <td>1</td>\n",
       "      <td>1</td>\n",
       "      <td>0</td>\n",
       "      <td>0</td>\n",
       "      <td>1</td>\n",
       "    </tr>\n",
       "    <tr>\n",
       "      <th>3</th>\n",
       "      <td>1</td>\n",
       "      <td>&lt;0DM</td>\n",
       "      <td>12</td>\n",
       "      <td>critical account/ other credits existing (not ...</td>\n",
       "      <td>car(new)</td>\n",
       "      <td>2122</td>\n",
       "      <td>..&lt;100 DM</td>\n",
       "      <td>1 &lt;= ... &lt; 4 years</td>\n",
       "      <td>3</td>\n",
       "      <td>male : single</td>\n",
       "      <td>...</td>\n",
       "      <td>0</td>\n",
       "      <td>1</td>\n",
       "      <td>0</td>\n",
       "      <td>0</td>\n",
       "      <td>0</td>\n",
       "      <td>1</td>\n",
       "      <td>1</td>\n",
       "      <td>0</td>\n",
       "      <td>1</td>\n",
       "      <td>0</td>\n",
       "    </tr>\n",
       "    <tr>\n",
       "      <th>4</th>\n",
       "      <td>1</td>\n",
       "      <td>&lt;0DM</td>\n",
       "      <td>12</td>\n",
       "      <td>critical account/ other credits existing (not ...</td>\n",
       "      <td>car(new)</td>\n",
       "      <td>2171</td>\n",
       "      <td>..&lt;100 DM</td>\n",
       "      <td>1 &lt;= ... &lt; 4 years</td>\n",
       "      <td>4</td>\n",
       "      <td>male : single</td>\n",
       "      <td>...</td>\n",
       "      <td>1</td>\n",
       "      <td>0</td>\n",
       "      <td>0</td>\n",
       "      <td>0</td>\n",
       "      <td>0</td>\n",
       "      <td>1</td>\n",
       "      <td>1</td>\n",
       "      <td>0</td>\n",
       "      <td>1</td>\n",
       "      <td>0</td>\n",
       "    </tr>\n",
       "  </tbody>\n",
       "</table>\n",
       "<p>5 rows × 75 columns</p>\n",
       "</div>"
      ],
      "text/plain": [
       "   Creditability Status_of_existing_account  Duration_of_Credit_month  \\\n",
       "0              1                       <0DM                        18   \n",
       "1              1                       <0DM                         9   \n",
       "2              1             0 <= .. <200DM                        12   \n",
       "3              1                       <0DM                        12   \n",
       "4              1                       <0DM                        12   \n",
       "\n",
       "                                      Credit_History              Purpose  \\\n",
       "0  critical account/ other credits existing (not ...  furniture/equipment   \n",
       "1  critical account/ other credits existing (not ...             car(new)   \n",
       "2                 all credits paid back duly til now             business   \n",
       "3  critical account/ other credits existing (not ...             car(new)   \n",
       "4  critical account/ other credits existing (not ...             car(new)   \n",
       "\n",
       "   Credit_Amount   Savings_account Years_of_Present_Employment  \\\n",
       "0           1049         ..<100 DM                   ..<=1year   \n",
       "1           2799         ..<100 DM          1 <= ... < 4 years   \n",
       "2            841  100 <= ..<500 DM          4 <= ... < 7 years   \n",
       "3           2122         ..<100 DM          1 <= ... < 4 years   \n",
       "4           2171         ..<100 DM          1 <= ... < 4 years   \n",
       "\n",
       "   Percentage_of_disposable_income                 Sex_&_Marital_Status  ...  \\\n",
       "0                                4  female : divorced/separated/married  ...   \n",
       "1                                2                        male : single  ...   \n",
       "2                                2  female : divorced/separated/married  ...   \n",
       "3                                3                        male : single  ...   \n",
       "4                                4                        male : single  ...   \n",
       "\n",
       "  var_Housing_own  var_Housing_rent  \\\n",
       "0               0                 1   \n",
       "1               0                 1   \n",
       "2               0                 1   \n",
       "3               0                 1   \n",
       "4               1                 0   \n",
       "\n",
       "  var_Occupation_: skilled employee / official  \\\n",
       "0                                            1   \n",
       "1                                            1   \n",
       "2                                            0   \n",
       "3                                            0   \n",
       "4                                            0   \n",
       "\n",
       "   var_Occupation_management/ self-employed/highly  \\\n",
       "0                                                0   \n",
       "1                                                0   \n",
       "2                                                0   \n",
       "3                                                0   \n",
       "4                                                0   \n",
       "\n",
       "  var_Occupation_unemployed/ unskilled - non-resident  \\\n",
       "0                                                  0    \n",
       "1                                                  0    \n",
       "2                                                  0    \n",
       "3                                                  0    \n",
       "4                                                  0    \n",
       "\n",
       "  var_Occupation_unskilled - resident  var_Telephone_No  \\\n",
       "0                                   0                 1   \n",
       "1                                   0                 1   \n",
       "2                                   1                 1   \n",
       "3                                   1                 1   \n",
       "4                                   1                 1   \n",
       "\n",
       "  var_Telephone_yes, registered under the customers name  \\\n",
       "0                                                  0       \n",
       "1                                                  0       \n",
       "2                                                  0       \n",
       "3                                                  0       \n",
       "4                                                  0       \n",
       "\n",
       "   var_Foreign_Worker_No var_Foreign_Worker_Yes  \n",
       "0                      0                      1  \n",
       "1                      0                      1  \n",
       "2                      0                      1  \n",
       "3                      1                      0  \n",
       "4                      1                      0  \n",
       "\n",
       "[5 rows x 75 columns]"
      ]
     },
     "execution_count": 55,
     "metadata": {},
     "output_type": "execute_result"
    }
   ],
   "source": [
    "df.head()\n"
   ]
  },
  {
   "cell_type": "code",
   "execution_count": 56,
   "metadata": {},
   "outputs": [],
   "source": [
    "for col in Categorical:\n",
    "    df.drop(col,axis=1,inplace=True)\n",
    "    "
   ]
  },
  {
   "cell_type": "code",
   "execution_count": 57,
   "metadata": {},
   "outputs": [
    {
     "data": {
      "text/plain": [
       "Index(['Creditability', 'Duration_of_Credit_month', 'Credit_Amount',\n",
       "       'Percentage_of_disposable_income', 'Duration_in_Present_Residence',\n",
       "       'Age', 'No_of_Credits_at_this__Bank', 'No_of_dependents',\n",
       "       'var_Status_of_existing_account_0 <= .. <200DM',\n",
       "       'var_Status_of_existing_account_<0DM',\n",
       "       'var_Status_of_existing_account_>=200DM',\n",
       "       'var_Status_of_existing_account_no chking acc',\n",
       "       'var_Credit_History_all credits paid back duly',\n",
       "       'var_Credit_History_all credits paid back duly til now',\n",
       "       'var_Credit_History_critical account/ other credits existing (not at this bank)',\n",
       "       'var_Credit_History_delay in paying off in the past',\n",
       "       'var_Credit_History_no credits taken', 'var_Purpose_business',\n",
       "       'var_Purpose_car(new)', 'var_Purpose_car(old)',\n",
       "       'var_Purpose_domestic appliances', 'var_Purpose_education',\n",
       "       'var_Purpose_furniture/equipment', 'var_Purpose_others',\n",
       "       'var_Purpose_radio/television', 'var_Purpose_repairs',\n",
       "       'var_Purpose_retraining', 'var_Savings_account_.. >= 1000 DM',\n",
       "       'var_Savings_account_..<100 DM', 'var_Savings_account_100 <= ..<500 DM',\n",
       "       'var_Savings_account_500 <=..<=1000',\n",
       "       'var_Savings_account_unknown/ no savings account',\n",
       "       'var_Years_of_Present_Employment_.. >= 7 years',\n",
       "       'var_Years_of_Present_Employment_..<=1year',\n",
       "       'var_Years_of_Present_Employment_1 <= ... < 4 years',\n",
       "       'var_Years_of_Present_Employment_4 <= ... < 7 years',\n",
       "       'var_Years_of_Present_Employment_unemployed',\n",
       "       'var_Sex_&_Marital_Status_female : divorced/separated/married',\n",
       "       'var_Sex_&_Marital_Status_male : divorced/separated',\n",
       "       'var_Sex_&_Marital_Status_male : married/widowed',\n",
       "       'var_Sex_&_Marital_Status_male : single',\n",
       "       'var_Guarantors/Debtors_Co-applicant',\n",
       "       'var_Guarantors/Debtors_Guarntor', 'var_Guarantors/Debtors_None',\n",
       "       'var_Property_if not 1 : building society savings agreement/ lifeinsurance',\n",
       "       'var_Property_if not A121/A122 : car or other, not in attribute 6',\n",
       "       'var_Property_real_estate', 'var_Property_unknown/noproperty',\n",
       "       'var_Concurrent_Credits_bank', 'var_Concurrent_Credits_none',\n",
       "       'var_Concurrent_Credits_stores', 'var_Housing_for free',\n",
       "       'var_Housing_own', 'var_Housing_rent',\n",
       "       'var_Occupation_: skilled employee / official',\n",
       "       'var_Occupation_management/ self-employed/highly',\n",
       "       'var_Occupation_unemployed/ unskilled - non-resident',\n",
       "       'var_Occupation_unskilled - resident', 'var_Telephone_No',\n",
       "       'var_Telephone_yes, registered under the customers name',\n",
       "       'var_Foreign_Worker_No', 'var_Foreign_Worker_Yes'],\n",
       "      dtype='object')"
      ]
     },
     "execution_count": 57,
     "metadata": {},
     "output_type": "execute_result"
    }
   ],
   "source": [
    "df.columns"
   ]
  },
  {
   "cell_type": "code",
   "execution_count": 58,
   "metadata": {},
   "outputs": [],
   "source": [
    "#Lets scale the numerical features\n",
    "from sklearn.preprocessing import StandardScaler\n",
    "scaler=StandardScaler()\n",
    "colums_to_scale=['Credit_Amount','Duration_of_Credit_month','Percentage_of_disposable_income','Age','No_of_Credits_at_this__Bank','No_of_dependents']\n",
    "df[colums_to_scale]=scaler.fit_transform(df[colums_to_scale])"
   ]
  },
  {
   "cell_type": "code",
   "execution_count": 59,
   "metadata": {},
   "outputs": [],
   "source": [
    "df.head()\n",
    "df.dtypes\n",
    "df_with_dummies=df.copy()"
   ]
  },
  {
   "cell_type": "code",
   "execution_count": 60,
   "metadata": {},
   "outputs": [],
   "source": [
    "X=df.drop('Creditability',axis=1)\n",
    "Y=df['Creditability']\n"
   ]
  },
  {
   "cell_type": "code",
   "execution_count": 61,
   "metadata": {},
   "outputs": [
    {
     "name": "stdout",
     "output_type": "stream",
     "text": [
      "(800, 61)\n",
      "(200, 61)\n",
      "(800,)\n",
      "(200,)\n"
     ]
    }
   ],
   "source": [
    "#Splitting Data in Train and Test\n",
    "from sklearn.model_selection import train_test_split\n",
    "X_train,x_test,Y_train,y_test=train_test_split(X,Y,random_state=15,test_size=0.2)\n",
    "print(X_train.shape)\n",
    "print(x_test.shape)\n",
    "print(Y_train.shape)\n",
    "print(y_test.shape)"
   ]
  },
  {
   "cell_type": "markdown",
   "metadata": {},
   "source": [
    "## Base Model"
   ]
  },
  {
   "cell_type": "code",
   "execution_count": 62,
   "metadata": {},
   "outputs": [],
   "source": [
    "#Base Model Considering every Feature\n",
    "from sklearn.linear_model import LogisticRegression"
   ]
  },
  {
   "cell_type": "code",
   "execution_count": 63,
   "metadata": {},
   "outputs": [
    {
     "data": {
      "text/plain": [
       "LogisticRegression(random_state=15)"
      ]
     },
     "execution_count": 63,
     "metadata": {},
     "output_type": "execute_result"
    }
   ],
   "source": [
    "logreg=LogisticRegression(random_state=15)\n",
    "logreg.fit(X_train,Y_train)"
   ]
  },
  {
   "cell_type": "code",
   "execution_count": 64,
   "metadata": {},
   "outputs": [],
   "source": [
    "y_pred=logreg.predict(x_test)\n",
    "y_pred_train=logreg.predict(X_train)"
   ]
  },
  {
   "cell_type": "code",
   "execution_count": 65,
   "metadata": {},
   "outputs": [],
   "source": [
    "#Lets test the metrics of our Base Model\n",
    "from sklearn import metrics"
   ]
  },
  {
   "cell_type": "code",
   "execution_count": 66,
   "metadata": {},
   "outputs": [
    {
     "name": "stdout",
     "output_type": "stream",
     "text": [
      "For test set 0.76\n",
      "For train set 0.785\n"
     ]
    }
   ],
   "source": [
    "print('For test set',metrics.accuracy_score(y_test,y_pred))\n",
    "print('For train set',metrics.accuracy_score(Y_train,y_pred_train))"
   ]
  },
  {
   "cell_type": "code",
   "execution_count": 67,
   "metadata": {},
   "outputs": [
    {
     "name": "stdout",
     "output_type": "stream",
     "text": [
      "              precision    recall  f1-score   support\n",
      "\n",
      "           0       0.73      0.45      0.56        67\n",
      "           1       0.77      0.92      0.84       133\n",
      "\n",
      "    accuracy                           0.76       200\n",
      "   macro avg       0.75      0.68      0.70       200\n",
      "weighted avg       0.76      0.76      0.74       200\n",
      "\n"
     ]
    }
   ],
   "source": [
    "print(metrics.classification_report(y_test,y_pred))"
   ]
  },
  {
   "cell_type": "code",
   "execution_count": 68,
   "metadata": {},
   "outputs": [
    {
     "name": "stdout",
     "output_type": "stream",
     "text": [
      "              precision    recall  f1-score   support\n",
      "\n",
      "           0       0.67      0.51      0.58       233\n",
      "           1       0.82      0.90      0.86       567\n",
      "\n",
      "    accuracy                           0.79       800\n",
      "   macro avg       0.74      0.70      0.72       800\n",
      "weighted avg       0.77      0.79      0.78       800\n",
      "\n"
     ]
    }
   ],
   "source": [
    "print(metrics.classification_report(Y_train,y_pred_train))"
   ]
  },
  {
   "cell_type": "code",
   "execution_count": 69,
   "metadata": {},
   "outputs": [
    {
     "name": "stdout",
     "output_type": "stream",
     "text": [
      "True Negative 30\n",
      "False Postives 37\n",
      "False Negatives 11\n",
      "True Postives 122\n"
     ]
    }
   ],
   "source": [
    "tn,fp,fn,tp = metrics.confusion_matrix(y_test,y_pred).ravel()\n",
    "print('True Negative',tn)\n",
    "print('False Postives',fp)\n",
    "print('False Negatives',fn)\n",
    "print('True Postives',tp)\n"
   ]
  },
  {
   "cell_type": "code",
   "execution_count": 70,
   "metadata": {},
   "outputs": [
    {
     "data": {
      "image/png": "[encoded data removed]",
      "text/plain": [
       "<Figure size 432x288 with 1 Axes>"
      ]
     },
     "metadata": {},
     "output_type": "display_data"
    }
   ],
   "source": [
    "fpr,tpr,thresholds=metrics.roc_curve(y_test,logreg.predict_proba(x_test)[:,1])\n",
    "plt.grid(True)\n",
    "plt.plot(fpr,tpr)\n",
    "plt.xlabel('FPR')\n",
    "plt.ylabel('TPR')\n",
    "plt.show()\n"
   ]
  },
  {
   "cell_type": "code",
   "execution_count": 71,
   "metadata": {},
   "outputs": [],
   "source": [
    "t=[i for i in thresholds]\n",
    "tpr=[i for i in tpr]\n",
    "fpr=[i for i in fpr]"
   ]
  },
  {
   "cell_type": "code",
   "execution_count": 72,
   "metadata": {},
   "outputs": [],
   "source": [
    "Rocdf=pd.DataFrame((tpr,fpr,t)).T"
   ]
  },
  {
   "cell_type": "code",
   "execution_count": 73,
   "metadata": {},
   "outputs": [],
   "source": [
    "Rocdf.columns=('Threshold','fpr','tpr')"
   ]
  },
  {
   "cell_type": "code",
   "execution_count": 74,
   "metadata": {},
   "outputs": [
    {
     "data": {
      "text/html": [
       "<div>\n",
       "<style scoped>\n",
       "    .dataframe tbody tr th:only-of-type {\n",
       "        vertical-align: middle;\n",
       "    }\n",
       "\n",
       "    .dataframe tbody tr th {\n",
       "        vertical-align: top;\n",
       "    }\n",
       "\n",
       "    .dataframe thead th {\n",
       "        text-align: right;\n",
       "    }\n",
       "</style>\n",
       "<table border=\"1\" class=\"dataframe\">\n",
       "  <thead>\n",
       "    <tr style=\"text-align: right;\">\n",
       "      <th></th>\n",
       "      <th>Threshold</th>\n",
       "      <th>fpr</th>\n",
       "      <th>tpr</th>\n",
       "    </tr>\n",
       "  </thead>\n",
       "  <tbody>\n",
       "    <tr>\n",
       "      <th>0</th>\n",
       "      <td>0.000000</td>\n",
       "      <td>0.000000</td>\n",
       "      <td>1.988471</td>\n",
       "    </tr>\n",
       "    <tr>\n",
       "      <th>1</th>\n",
       "      <td>0.007519</td>\n",
       "      <td>0.000000</td>\n",
       "      <td>0.988471</td>\n",
       "    </tr>\n",
       "    <tr>\n",
       "      <th>2</th>\n",
       "      <td>0.135338</td>\n",
       "      <td>0.000000</td>\n",
       "      <td>0.967878</td>\n",
       "    </tr>\n",
       "    <tr>\n",
       "      <th>3</th>\n",
       "      <td>0.135338</td>\n",
       "      <td>0.014925</td>\n",
       "      <td>0.967448</td>\n",
       "    </tr>\n",
       "    <tr>\n",
       "      <th>4</th>\n",
       "      <td>0.195489</td>\n",
       "      <td>0.014925</td>\n",
       "      <td>0.953301</td>\n",
       "    </tr>\n",
       "    <tr>\n",
       "      <th>5</th>\n",
       "      <td>0.195489</td>\n",
       "      <td>0.029851</td>\n",
       "      <td>0.947596</td>\n",
       "    </tr>\n",
       "    <tr>\n",
       "      <th>6</th>\n",
       "      <td>0.233083</td>\n",
       "      <td>0.029851</td>\n",
       "      <td>0.941996</td>\n",
       "    </tr>\n",
       "    <tr>\n",
       "      <th>7</th>\n",
       "      <td>0.233083</td>\n",
       "      <td>0.044776</td>\n",
       "      <td>0.941373</td>\n",
       "    </tr>\n",
       "    <tr>\n",
       "      <th>8</th>\n",
       "      <td>0.263158</td>\n",
       "      <td>0.044776</td>\n",
       "      <td>0.935581</td>\n",
       "    </tr>\n",
       "    <tr>\n",
       "      <th>9</th>\n",
       "      <td>0.263158</td>\n",
       "      <td>0.059701</td>\n",
       "      <td>0.934309</td>\n",
       "    </tr>\n",
       "    <tr>\n",
       "      <th>10</th>\n",
       "      <td>0.345865</td>\n",
       "      <td>0.059701</td>\n",
       "      <td>0.913743</td>\n",
       "    </tr>\n",
       "    <tr>\n",
       "      <th>11</th>\n",
       "      <td>0.345865</td>\n",
       "      <td>0.074627</td>\n",
       "      <td>0.912615</td>\n",
       "    </tr>\n",
       "    <tr>\n",
       "      <th>12</th>\n",
       "      <td>0.353383</td>\n",
       "      <td>0.074627</td>\n",
       "      <td>0.912495</td>\n",
       "    </tr>\n",
       "    <tr>\n",
       "      <th>13</th>\n",
       "      <td>0.353383</td>\n",
       "      <td>0.104478</td>\n",
       "      <td>0.911617</td>\n",
       "    </tr>\n",
       "  </tbody>\n",
       "</table>\n",
       "</div>"
      ],
      "text/plain": [
       "    Threshold       fpr       tpr\n",
       "0    0.000000  0.000000  1.988471\n",
       "1    0.007519  0.000000  0.988471\n",
       "2    0.135338  0.000000  0.967878\n",
       "3    0.135338  0.014925  0.967448\n",
       "4    0.195489  0.014925  0.953301\n",
       "5    0.195489  0.029851  0.947596\n",
       "6    0.233083  0.029851  0.941996\n",
       "7    0.233083  0.044776  0.941373\n",
       "8    0.263158  0.044776  0.935581\n",
       "9    0.263158  0.059701  0.934309\n",
       "10   0.345865  0.059701  0.913743\n",
       "11   0.345865  0.074627  0.912615\n",
       "12   0.353383  0.074627  0.912495\n",
       "13   0.353383  0.104478  0.911617"
      ]
     },
     "execution_count": 74,
     "metadata": {},
     "output_type": "execute_result"
    }
   ],
   "source": [
    "Rocdf[Rocdf['tpr']>0.90][Rocdf['fpr']<0.25]"
   ]
  },
  {
   "cell_type": "markdown",
   "metadata": {},
   "source": [
    "Oversampling and choosing best features which affect the classes"
   ]
  },
  {
   "cell_type": "code",
   "execution_count": 75,
   "metadata": {},
   "outputs": [],
   "source": [
    "#Lets try to balance the dataset with SMOTE (over-sampling)\n",
    "from imblearn import over_sampling\n",
    "from imblearn.over_sampling import SMOTE\n",
    "os = SMOTE(random_state=0)\n",
    "X_train1, x_test1, Y_train1, y_test1 = train_test_split(X, Y, test_size=0.2, random_state=14)\n",
    "os_data_X,os_data_y = os.fit_sample(X_train1, Y_train1)\n",
    "os_data_X = pd.DataFrame(data=os_data_X,columns=X_train1.columns.values.tolist())\n",
    "os_data_y=pd.DataFrame(data=os_data_y,columns=['Creditability'])\n"
   ]
  },
  {
   "cell_type": "code",
   "execution_count": 76,
   "metadata": {},
   "outputs": [
    {
     "name": "stdout",
     "output_type": "stream",
     "text": [
      "<class 'pandas.core.frame.DataFrame'>\n",
      "<class 'pandas.core.frame.DataFrame'>\n"
     ]
    }
   ],
   "source": [
    "print(type(X_train1))\n",
    "print(type(os_data_X))\n"
   ]
  },
  {
   "cell_type": "code",
   "execution_count": 77,
   "metadata": {},
   "outputs": [
    {
     "name": "stdout",
     "output_type": "stream",
     "text": [
      "(1134, 61)\n",
      "(1134, 1)\n"
     ]
    }
   ],
   "source": [
    "print(os_data_X.shape)\n",
    "print(os_data_y.shape)"
   ]
  },
  {
   "cell_type": "code",
   "execution_count": 78,
   "metadata": {},
   "outputs": [],
   "source": [
    "#For 2nd feature selection technique\n",
    "x_test2=x_test1\n",
    "y_test2=y_test1\n",
    "x_test3=x_test1"
   ]
  },
  {
   "cell_type": "code",
   "execution_count": 79,
   "metadata": {},
   "outputs": [
    {
     "data": {
      "text/plain": [
       "1134"
      ]
     },
     "execution_count": 79,
     "metadata": {},
     "output_type": "execute_result"
    }
   ],
   "source": [
    "len(os_data_X)"
   ]
  },
  {
   "cell_type": "markdown",
   "metadata": {},
   "source": [
    "## IMPLEMENTING RECURSIVE FEATURE ELIMINATION"
   ]
  },
  {
   "cell_type": "code",
   "execution_count": 80,
   "metadata": {},
   "outputs": [
    {
     "name": "stdout",
     "output_type": "stream",
     "text": [
      "[False False False False False False False False False  True  True False\n",
      " False False False False False False  True False False False False False\n",
      " False False  True False False False False  True  True  True  True  True\n",
      "  True  True  True  True False  True False  True  True  True False  True\n",
      "  True  True  True  True False False False False False  True  True  True\n",
      " False]\n",
      "[30 21 23 36 29 32 31  3  4  1  1 26 15  6 14 34 13 37  1 12 33  9 20  8\n",
      " 22  7  1 28 24 27  5  1  1  1  1  1  1  1  1  1 35  1 25  1  1  1 19  1\n",
      "  1  1  1  1  2 17 18 11 16  1  1  1 10]\n"
     ]
    }
   ],
   "source": [
    "##Trying Feature Selection to Improve Model Result\n",
    "from sklearn.feature_selection import RFE\n",
    "rfe=RFE(logreg,25)\n",
    "rfe=rfe.fit(os_data_X,os_data_y.values.ravel())\n",
    "print(rfe.support_)\n",
    "print(rfe.ranking_)"
   ]
  },
  {
   "cell_type": "code",
   "execution_count": 81,
   "metadata": {},
   "outputs": [],
   "source": [
    "#Keeping only the best 25 features\n",
    "cols = []\n",
    "for i in range(len(os_data_X.columns)):\n",
    "    if rfe.ranking_[i] == 1:\n",
    "               cols.append(os_data_X.columns[i])"
   ]
  },
  {
   "cell_type": "code",
   "execution_count": null,
   "metadata": {},
   "outputs": [],
   "source": []
  },
  {
   "cell_type": "code",
   "execution_count": 82,
   "metadata": {},
   "outputs": [],
   "source": [
    "X1=os_data_X[cols]\n",
    "Y1=os_data_y['Creditability']\n",
    "x_test1=x_test1[cols]\n",
    "\n"
   ]
  },
  {
   "cell_type": "code",
   "execution_count": 83,
   "metadata": {},
   "outputs": [
    {
     "name": "stdout",
     "output_type": "stream",
     "text": [
      "(1134, 61)\n",
      "(1134, 1)\n"
     ]
    }
   ],
   "source": [
    "print(os_data_X.shape)\n",
    "print(os_data_y.shape)"
   ]
  },
  {
   "cell_type": "code",
   "execution_count": 84,
   "metadata": {},
   "outputs": [
    {
     "data": {
      "text/plain": [
       "LogisticRegression()"
      ]
     },
     "execution_count": 84,
     "metadata": {},
     "output_type": "execute_result"
    }
   ],
   "source": [
    "logreg=LogisticRegression()\n",
    "logreg.fit(X1,Y1)"
   ]
  },
  {
   "cell_type": "code",
   "execution_count": 85,
   "metadata": {},
   "outputs": [],
   "source": [
    "y_pred=logreg.predict(x_test1)"
   ]
  },
  {
   "cell_type": "code",
   "execution_count": 86,
   "metadata": {},
   "outputs": [
    {
     "name": "stdout",
     "output_type": "stream",
     "text": [
      "True Negative 37\n",
      "False Postives 30\n",
      "False Negatives 27\n",
      "True Postives 106\n"
     ]
    }
   ],
   "source": [
    "tn, fp, fn, tp = metrics.confusion_matrix(y_test1,y_pred).ravel()\n",
    "print('True Negative',tn)\n",
    "print('False Postives',fp)\n",
    "print('False Negatives',fn)\n",
    "print('True Postives',tp)"
   ]
  },
  {
   "cell_type": "code",
   "execution_count": 87,
   "metadata": {},
   "outputs": [
    {
     "name": "stdout",
     "output_type": "stream",
     "text": [
      "              precision    recall  f1-score   support\n",
      "\n",
      "           0       0.58      0.55      0.56        67\n",
      "           1       0.78      0.80      0.79       133\n",
      "\n",
      "    accuracy                           0.71       200\n",
      "   macro avg       0.68      0.67      0.68       200\n",
      "weighted avg       0.71      0.71      0.71       200\n",
      "\n"
     ]
    }
   ],
   "source": [
    "print(metrics.classification_report(y_test1,y_pred))\n",
    "#Here we see the result is  quite better than our base model"
   ]
  },
  {
   "cell_type": "code",
   "execution_count": 88,
   "metadata": {},
   "outputs": [
    {
     "data": {
      "text/plain": [
       "[<matplotlib.lines.Line2D at 0x173abf4c288>]"
      ]
     },
     "execution_count": 88,
     "metadata": {},
     "output_type": "execute_result"
    },
    {
     "data": {
      "image/png": "[encoded data removed]",
      "text/plain": [
       "<Figure size 432x288 with 1 Axes>"
      ]
     },
     "metadata": {},
     "output_type": "display_data"
    }
   ],
   "source": [
    "fpr,tpr,thresholds=metrics.roc_curve(y_test1,logreg.predict_proba(x_test1)[:,1])\n",
    "plt.grid(True)\n",
    "plt.plot(fpr,tpr)"
   ]
  },
  {
   "cell_type": "code",
   "execution_count": 89,
   "metadata": {},
   "outputs": [
    {
     "name": "stdout",
     "output_type": "stream",
     "text": [
      "Optimization terminated successfully.\n",
      "         Current function value: 0.494210\n",
      "         Iterations 7\n",
      "                                                     Results: Logit\n",
      "=========================================================================================================================\n",
      "Model:                                  Logit                              Pseudo R-squared:                   0.287     \n",
      "Dependent Variable:                     Creditability                      AIC:                                1170.8684 \n",
      "Date:                                   2020-07-16 19:28                   BIC:                                1296.7061 \n",
      "No. Observations:                       1134                               Log-Likelihood:                     -560.43   \n",
      "Df Model:                               24                                 LL-Null:                            -786.03   \n",
      "Df Residuals:                           1109                               LLR p-value:                        2.1505e-80\n",
      "Converged:                              1.0000                             Scale:                              1.0000    \n",
      "No. Iterations:                         7.0000                                                                           \n",
      "-------------------------------------------------------------------------------------------------------------------------\n",
      "                                                                           Coef.  Std.Err.    z    P>|z|   [0.025  0.975]\n",
      "-------------------------------------------------------------------------------------------------------------------------\n",
      "var_Status_of_existing_account_>=200DM                                     1.7469   0.3483  5.0158 0.0000  1.0643  2.4295\n",
      "var_Status_of_existing_account_no chking acc                               2.2016   0.1903 11.5671 0.0000  1.8286  2.5747\n",
      "var_Purpose_car(old)                                                       1.4008   0.3450  4.0607 0.0000  0.7247  2.0769\n",
      "var_Savings_account_.. >= 1000 DM                                          1.7314   0.5419  3.1950 0.0014  0.6693  2.7935\n",
      "var_Years_of_Present_Employment_.. >= 7 years                              1.5293   0.2950  5.1843 0.0000  0.9512  2.1075\n",
      "var_Years_of_Present_Employment_..<=1year                                  0.8660   0.3038  2.8508 0.0044  0.2706  1.4614\n",
      "var_Years_of_Present_Employment_1 <= ... < 4 years                         0.9082   0.2740  3.3142 0.0009  0.3711  1.4453\n",
      "var_Years_of_Present_Employment_4 <= ... < 7 years                         1.6732   0.3167  5.2835 0.0000  1.0525  2.2939\n",
      "var_Years_of_Present_Employment_unemployed                                 1.8828   0.4243  4.4380 0.0000  1.0513  2.7144\n",
      "var_Sex_&_Marital_Status_female : divorced/separated/married              -0.5938   0.2652 -2.2386 0.0252 -1.1136 -0.0739\n",
      "var_Sex_&_Marital_Status_male : divorced/separated                        -0.0687   0.4715 -0.1457 0.8841 -0.9928  0.8554\n",
      "var_Sex_&_Marital_Status_male : married/widowed                           -0.0825   0.3675 -0.2246 0.8223 -0.8028  0.6377\n",
      "var_Sex_&_Marital_Status_male : single                                    -0.2612   0.2486 -1.0506 0.2934 -0.7485  0.2261\n",
      "var_Guarantors/Debtors_Guarntor                                            1.9717   0.4965  3.9708 0.0001  0.9985  2.9449\n",
      "var_Property_if not 1 : building society savings agreement/ lifeinsurance  1.3804   0.2654  5.2009 0.0000  0.8602  1.9006\n",
      "var_Property_if not A121/A122 : car or other, not in attribute 6           1.2398   0.2536  4.8898 0.0000  0.7429  1.7368\n",
      "var_Property_real_estate                                                   1.8648   0.2786  6.6938 0.0000  1.3187  2.4108\n",
      "var_Concurrent_Credits_bank                                               -1.2723   0.3294 -3.8626 0.0001 -1.9178 -0.6267\n",
      "var_Concurrent_Credits_none                                               -1.1364   0.2626 -4.3273 0.0000 -1.6511 -0.6217\n",
      "var_Concurrent_Credits_stores                                             -1.2330   0.4771 -2.5846 0.0097 -2.1681 -0.2980\n",
      "var_Housing_for free                                                       0.1558   0.3308  0.4710 0.6376 -0.4925  0.8041\n",
      "var_Housing_own                                                           -0.4363   0.1875 -2.3271 0.0200 -0.8038 -0.0688\n",
      "var_Telephone_No                                                          -1.4153   0.2595 -5.4530 0.0000 -1.9240 -0.9066\n",
      "var_Telephone_yes, registered under the customers name                    -1.0613   0.2773 -3.8270 0.0001 -1.6049 -0.5178\n",
      "var_Foreign_Worker_No                                                      2.3208   0.7759  2.9912 0.0028  0.8001  3.8415\n",
      "=========================================================================================================================\n",
      "\n"
     ]
    }
   ],
   "source": [
    "import statsmodels.api as sm\n",
    "logit_model=sm.Logit(Y1,X1)\n",
    "result=logit_model.fit()\n",
    "print(result.summary2())"
   ]
  },
  {
   "cell_type": "code",
   "execution_count": 90,
   "metadata": {},
   "outputs": [],
   "source": [
    "cols_=['var_Sex_&_Marital_Status_male : divorced/separated','var_Sex_&_Marital_Status_male : married/widowed','var_Sex_&_Marital_Status_male : single','var_Housing_for free']"
   ]
  },
  {
   "cell_type": "code",
   "execution_count": 91,
   "metadata": {},
   "outputs": [],
   "source": [
    "X1.drop(columns=cols_,axis=1,inplace=True)\n",
    "x_test1.drop(columns=cols_,axis=1,inplace=True)\n"
   ]
  },
  {
   "cell_type": "code",
   "execution_count": 92,
   "metadata": {},
   "outputs": [
    {
     "name": "stdout",
     "output_type": "stream",
     "text": [
      "              precision    recall  f1-score   support\n",
      "\n",
      "           0       0.53      0.52      0.53        67\n",
      "           1       0.76      0.77      0.76       133\n",
      "\n",
      "    accuracy                           0.69       200\n",
      "   macro avg       0.65      0.64      0.65       200\n",
      "weighted avg       0.68      0.69      0.68       200\n",
      "\n"
     ]
    }
   ],
   "source": [
    "logreg.fit(X1,Y1)\n",
    "y_pred=logreg.predict(x_test1)\n",
    "print(metrics.classification_report(y_test1,y_pred))"
   ]
  },
  {
   "cell_type": "code",
   "execution_count": 93,
   "metadata": {},
   "outputs": [
    {
     "name": "stdout",
     "output_type": "stream",
     "text": [
      "              precision    recall  f1-score   support\n",
      "\n",
      "           0       0.53      0.69      0.60        67\n",
      "           1       0.81      0.69      0.75       133\n",
      "\n",
      "    accuracy                           0.69       200\n",
      "   macro avg       0.67      0.69      0.67       200\n",
      "weighted avg       0.72      0.69      0.70       200\n",
      "\n"
     ]
    }
   ],
   "source": [
    "Threshold=0.6\n",
    "preds=np.where(logreg.predict_proba(x_test1)[:,1]>Threshold,1,0)\n",
    "print(metrics.classification_report(y_test1,preds))\n"
   ]
  },
  {
   "cell_type": "code",
   "execution_count": 94,
   "metadata": {},
   "outputs": [
    {
     "name": "stdout",
     "output_type": "stream",
     "text": [
      "True Negative 46\n",
      "False Postives 21\n",
      "False Negatives 41\n",
      "True Postives 92\n"
     ]
    }
   ],
   "source": [
    "tn, fp, fn, tp = metrics.confusion_matrix(y_test1,preds).ravel()\n",
    "print('True Negative',tn)\n",
    "print('False Postives',fp)\n",
    "print('False Negatives',fn)\n",
    "print('True Postives',tp)"
   ]
  },
  {
   "cell_type": "code",
   "execution_count": 95,
   "metadata": {},
   "outputs": [
    {
     "data": {
      "image/png": "[encoded data removed]",
      "text/plain": [
       "<Figure size 432x288 with 1 Axes>"
      ]
     },
     "metadata": {},
     "output_type": "display_data"
    }
   ],
   "source": [
    "from sklearn.metrics import roc_auc_score\n",
    "from sklearn.metrics import roc_curve\n",
    "logit_roc_auc = roc_auc_score(y_test1,preds)\n",
    "fpr, tpr, thresholds = roc_curve(y_test1, logreg.predict_proba(x_test1)[:,1])\n",
    "plt.figure()\n",
    "plt.plot(fpr, tpr, label='Logistic Regression (area = %0.2f)' % logit_roc_auc)\n",
    "plt.plot([0, 1], [0, 1],'r--')\n",
    "plt.xlim([0.0, 1.0])\n",
    "plt.ylim([0.0, 1.05])\n",
    "plt.xlabel('False Positive Rate')\n",
    "plt.ylabel('True Positive Rate')\n",
    "plt.title('Receiver operating characteristic')\n",
    "plt.legend(loc=\"lower right\")\n",
    "\n",
    "plt.savefig('Log_ROC')\n",
    "plt.show()"
   ]
  },
  {
   "cell_type": "code",
   "execution_count": 96,
   "metadata": {},
   "outputs": [
    {
     "data": {
      "text/plain": [
       "Index(['var_Status_of_existing_account_>=200DM',\n",
       "       'var_Status_of_existing_account_no chking acc',\n",
       "       'var_Credit_History_critical account/ other credits existing (not at this bank)',\n",
       "       'var_Credit_History_delay in paying off in the past',\n",
       "       'var_Purpose_business', 'var_Purpose_car(old)',\n",
       "       'var_Purpose_furniture/equipment', 'var_Purpose_radio/television',\n",
       "       'var_Purpose_retraining', 'var_Savings_account_.. >= 1000 DM',\n",
       "       'var_Savings_account_unknown/ no savings account',\n",
       "       'var_Years_of_Present_Employment_.. >= 7 years',\n",
       "       'var_Years_of_Present_Employment_..<=1year',\n",
       "       'var_Years_of_Present_Employment_4 <= ... < 7 years',\n",
       "       'var_Sex_&_Marital_Status_male : married/widowed',\n",
       "       'var_Sex_&_Marital_Status_male : single',\n",
       "       'var_Guarantors/Debtors_Guarntor',\n",
       "       'var_Property_if not 1 : building society savings agreement/ lifeinsurance',\n",
       "       'var_Property_if not A121/A122 : car or other, not in attribute 6',\n",
       "       'var_Property_real_estate', 'var_Concurrent_Credits_none',\n",
       "       'var_Housing_for free',\n",
       "       'var_Occupation_unemployed/ unskilled - non-resident',\n",
       "       'var_Telephone_yes, registered under the customers name',\n",
       "       'var_Foreign_Worker_No'],\n",
       "      dtype='object')"
      ]
     },
     "execution_count": 96,
     "metadata": {},
     "output_type": "execute_result"
    }
   ],
   "source": [
    "#Trying another method called Selectfrommodel\n",
    "from sklearn.feature_selection import SelectFromModel\n",
    "smf=SelectFromModel(logreg,threshold=-np.inf,max_features=25)\n",
    "smf.fit(os_data_X,os_data_y)\n",
    "feature_id=smf.get_support()\n",
    "feature_name=os_data_X.columns[feature_id]\n",
    "feature_name"
   ]
  },
  {
   "cell_type": "code",
   "execution_count": 97,
   "metadata": {},
   "outputs": [
    {
     "data": {
      "text/plain": [
       "(200, 61)"
      ]
     },
     "execution_count": 97,
     "metadata": {},
     "output_type": "execute_result"
    }
   ],
   "source": [
    "x_test2.shape"
   ]
  },
  {
   "cell_type": "code",
   "execution_count": 98,
   "metadata": {},
   "outputs": [],
   "source": [
    "X2=os_data_X[feature_name]\n",
    "Y2=os_data_y\n",
    "x_test2=x_test2[feature_name]\n"
   ]
  },
  {
   "cell_type": "code",
   "execution_count": 99,
   "metadata": {},
   "outputs": [
    {
     "data": {
      "text/plain": [
       "(200, 25)"
      ]
     },
     "execution_count": 99,
     "metadata": {},
     "output_type": "execute_result"
    }
   ],
   "source": [
    "x_test2.shape"
   ]
  },
  {
   "cell_type": "code",
   "execution_count": 100,
   "metadata": {},
   "outputs": [
    {
     "data": {
      "text/plain": [
       "LogisticRegression()"
      ]
     },
     "execution_count": 100,
     "metadata": {},
     "output_type": "execute_result"
    }
   ],
   "source": [
    "logreg.fit(X2,Y2)\n"
   ]
  },
  {
   "cell_type": "code",
   "execution_count": 101,
   "metadata": {},
   "outputs": [
    {
     "name": "stdout",
     "output_type": "stream",
     "text": [
      "              precision    recall  f1-score   support\n",
      "\n",
      "           0       0.58      0.52      0.55        67\n",
      "           1       0.77      0.81      0.79       133\n",
      "\n",
      "    accuracy                           0.71       200\n",
      "   macro avg       0.68      0.67      0.67       200\n",
      "weighted avg       0.71      0.71      0.71       200\n",
      "\n"
     ]
    }
   ],
   "source": [
    "y_pred2=logreg.predict(x_test2)\n",
    "print(metrics.classification_report(y_test2,y_pred2))"
   ]
  },
  {
   "cell_type": "code",
   "execution_count": 102,
   "metadata": {},
   "outputs": [
    {
     "name": "stdout",
     "output_type": "stream",
     "text": [
      "True Negative 35\n",
      "False Postives 32\n",
      "False Negatives 25\n",
      "True Postives 108\n"
     ]
    }
   ],
   "source": [
    "tn, fp, fn, tp = metrics.confusion_matrix(y_test2,y_pred2).ravel()\n",
    "print('True Negative',tn)\n",
    "print('False Postives',fp)\n",
    "print('False Negatives',fn)\n",
    "print('True Postives',tp)"
   ]
  },
  {
   "cell_type": "code",
   "execution_count": 103,
   "metadata": {},
   "outputs": [
    {
     "name": "stdout",
     "output_type": "stream",
     "text": [
      "Optimization terminated successfully.\n",
      "         Current function value: 0.518661\n",
      "         Iterations 7\n"
     ]
    }
   ],
   "source": [
    "#Analyse summary using stats model\n",
    "import statsmodels.api as sm\n",
    "logit_model=sm.Logit(Y2,X2)\n",
    "result=logit_model.fit()\n"
   ]
  },
  {
   "cell_type": "code",
   "execution_count": 104,
   "metadata": {},
   "outputs": [
    {
     "name": "stdout",
     "output_type": "stream",
     "text": [
      "                                                        Results: Logit\n",
      "==============================================================================================================================\n",
      "Model:                                   Logit                                Pseudo R-squared:                     0.252     \n",
      "Dependent Variable:                      Creditability                        AIC:                                  1226.3228 \n",
      "Date:                                    2020-07-16 19:28                     BIC:                                  1352.1605 \n",
      "No. Observations:                        1134                                 Log-Likelihood:                       -588.16   \n",
      "Df Model:                                24                                   LL-Null:                              -786.03   \n",
      "Df Residuals:                            1109                                 LLR p-value:                          5.6353e-69\n",
      "Converged:                               1.0000                               Scale:                                1.0000    \n",
      "No. Iterations:                          7.0000                                                                               \n",
      "------------------------------------------------------------------------------------------------------------------------------\n",
      "                                                                                Coef.  Std.Err.    z    P>|z|   [0.025  0.975]\n",
      "------------------------------------------------------------------------------------------------------------------------------\n",
      "var_Status_of_existing_account_>=200DM                                          1.3506   0.3500  3.8586 0.0001  0.6646  2.0367\n",
      "var_Status_of_existing_account_no chking acc                                    1.8526   0.1913  9.6843 0.0000  1.4777  2.2275\n",
      "var_Credit_History_critical account/ other credits existing (not at this bank)  0.7046   0.1855  3.7992 0.0001  0.3411  1.0681\n",
      "var_Credit_History_delay in paying off in the past                              0.6146   0.3024  2.0325 0.0421  0.0219  1.2072\n",
      "var_Purpose_business                                                            0.5171   0.2911  1.7762 0.0757 -0.0535  1.0877\n",
      "var_Purpose_car(old)                                                            1.9313   0.3484  5.5438 0.0000  1.2485  2.6141\n",
      "var_Purpose_furniture/equipment                                                 0.7546   0.2161  3.4916 0.0005  0.3310  1.1781\n",
      "var_Purpose_radio/television                                                    0.8557   0.1981  4.3192 0.0000  0.4674  1.2439\n",
      "var_Purpose_retraining                                                          2.1823   1.1293  1.9325 0.0533 -0.0310  4.3956\n",
      "var_Savings_account_.. >= 1000 DM                                               1.3706   0.5417  2.5303 0.0114  0.3089  2.4323\n",
      "var_Savings_account_unknown/ no savings account                                 0.8727   0.2455  3.5551 0.0004  0.3916  1.3538\n",
      "var_Years_of_Present_Employment_.. >= 7 years                                   0.2807   0.1994  1.4077 0.1592 -0.1101  0.6714\n",
      "var_Years_of_Present_Employment_..<=1year                                      -0.4673   0.2087 -2.2397 0.0251 -0.8763 -0.0584\n",
      "var_Years_of_Present_Employment_4 <= ... < 7 years                              0.4845   0.2306  2.1011 0.0356  0.0326  0.9365\n",
      "var_Sex_&_Marital_Status_male : married/widowed                                -0.2519   0.2944 -0.8555 0.3923 -0.8289  0.3252\n",
      "var_Sex_&_Marital_Status_male : single                                         -0.5454   0.1510 -3.6130 0.0003 -0.8413 -0.2496\n",
      "var_Guarantors/Debtors_Guarntor                                                 1.7132   0.4848  3.5335 0.0004  0.7629  2.6635\n",
      "var_Property_if not 1 : building society savings agreement/ lifeinsurance      -0.0862   0.2184 -0.3948 0.6930 -0.5144  0.3419\n",
      "var_Property_if not A121/A122 : car or other, not in attribute 6               -0.1382   0.2000 -0.6909 0.4896 -0.5301  0.2538\n",
      "var_Property_real_estate                                                        0.4107   0.2258  1.8188 0.0689 -0.0319  0.8533\n",
      "var_Concurrent_Credits_none                                                    -1.0790   0.1527 -7.0648 0.0000 -1.3784 -0.7797\n",
      "var_Housing_for free                                                           -0.4792   0.2780 -1.7235 0.0848 -1.0241  0.0657\n",
      "var_Occupation_unemployed/ unskilled - non-resident                             0.9254   0.5634  1.6427 0.1005 -0.1788  2.0296\n",
      "var_Telephone_yes, registered under the customers name                         -0.1131   0.1561 -0.7248 0.4686 -0.4191  0.1928\n",
      "var_Foreign_Worker_No                                                           2.1718   0.7862  2.7624 0.0057  0.6309  3.7127\n",
      "==============================================================================================================================\n",
      "\n"
     ]
    }
   ],
   "source": [
    "print(result.summary2())"
   ]
  },
  {
   "cell_type": "code",
   "execution_count": 105,
   "metadata": {},
   "outputs": [],
   "source": [
    "#Removing the features according to their P-values\n",
    "cols_=['var_Telephone_yes, registered under the customers name','var_Occupation_unemployed/ unskilled - non-resident','var_Housing_for free','var_Property_real_estate','var_Property_if not 1 : building society savings agreement/ lifeinsurance','var_Sex_&_Marital_Status_male : married/widowed','var_Years_of_Present_Employment_.. >= 7 years']"
   ]
  },
  {
   "cell_type": "code",
   "execution_count": 106,
   "metadata": {},
   "outputs": [
    {
     "name": "stdout",
     "output_type": "stream",
     "text": [
      "(1134, 18)\n"
     ]
    }
   ],
   "source": [
    "X2.drop(columns=cols_,axis=1,inplace=True)\n",
    "print(X2.shape)\n",
    "X2.head()\n",
    "x_test2.drop(columns=cols_,axis=1,inplace=True)"
   ]
  },
  {
   "cell_type": "code",
   "execution_count": 107,
   "metadata": {},
   "outputs": [
    {
     "name": "stdout",
     "output_type": "stream",
     "text": [
      "Optimization terminated successfully.\n",
      "         Current function value: 0.525420\n",
      "         Iterations 7\n",
      "                                                        Results: Logit\n",
      "==============================================================================================================================\n",
      "Model:                                   Logit                                Pseudo R-squared:                     0.242     \n",
      "Dependent Variable:                      Creditability                        AIC:                                  1227.6522 \n",
      "Date:                                    2020-07-16 19:28                     BIC:                                  1318.2553 \n",
      "No. Observations:                        1134                                 Log-Likelihood:                       -595.83   \n",
      "Df Model:                                17                                   LL-Null:                              -786.03   \n",
      "Df Residuals:                            1116                                 LLR p-value:                          2.2923e-70\n",
      "Converged:                               1.0000                               Scale:                                1.0000    \n",
      "No. Iterations:                          7.0000                                                                               \n",
      "------------------------------------------------------------------------------------------------------------------------------\n",
      "                                                                                Coef.  Std.Err.    z    P>|z|   [0.025  0.975]\n",
      "------------------------------------------------------------------------------------------------------------------------------\n",
      "var_Status_of_existing_account_>=200DM                                          1.3299   0.3444  3.8610 0.0001  0.6548  2.0050\n",
      "var_Status_of_existing_account_no chking acc                                    1.8761   0.1872 10.0214 0.0000  1.5092  2.2431\n",
      "var_Credit_History_critical account/ other credits existing (not at this bank)  0.7279   0.1828  3.9818 0.0001  0.3696  1.0863\n",
      "var_Credit_History_delay in paying off in the past                              0.5404   0.2965  1.8226 0.0684 -0.0407  1.1216\n",
      "var_Purpose_business                                                            0.5792   0.2810  2.0612 0.0393  0.0284  1.1300\n",
      "var_Purpose_car(old)                                                            1.7433   0.3328  5.2385 0.0000  1.0910  2.3955\n",
      "var_Purpose_furniture/equipment                                                 0.7468   0.2091  3.5718 0.0004  0.3370  1.1566\n",
      "var_Purpose_radio/television                                                    0.9157   0.1898  4.8247 0.0000  0.5437  1.2877\n",
      "var_Purpose_retraining                                                          2.2036   1.1285  1.9527 0.0509 -0.0082  4.4154\n",
      "var_Savings_account_.. >= 1000 DM                                               1.4266   0.5338  2.6724 0.0075  0.3803  2.4729\n",
      "var_Savings_account_unknown/ no savings account                                 0.8789   0.2391  3.6756 0.0002  0.4103  1.3476\n",
      "var_Years_of_Present_Employment_..<=1year                                      -0.5009   0.1985 -2.5229 0.0116 -0.8900 -0.1118\n",
      "var_Years_of_Present_Employment_4 <= ... < 7 years                              0.3786   0.2209  1.7138 0.0866 -0.0544  0.8116\n",
      "var_Sex_&_Marital_Status_male : single                                         -0.5280   0.1348 -3.9174 0.0001 -0.7921 -0.2638\n",
      "var_Guarantors/Debtors_Guarntor                                                 1.7779   0.4777  3.7217 0.0002  0.8416  2.7142\n",
      "var_Property_if not A121/A122 : car or other, not in attribute 6               -0.1690   0.1588 -1.0638 0.2874 -0.4803  0.1423\n",
      "var_Concurrent_Credits_none                                                    -1.0342   0.1309 -7.9005 0.0000 -1.2907 -0.7776\n",
      "var_Foreign_Worker_No                                                           2.3412   0.7829  2.9904 0.0028  0.8067  3.8756\n",
      "==============================================================================================================================\n",
      "\n"
     ]
    }
   ],
   "source": [
    "logit_model=sm.Logit(Y2,X2)\n",
    "result=logit_model.fit()\n",
    "print(result.summary2())"
   ]
  },
  {
   "cell_type": "code",
   "execution_count": 108,
   "metadata": {},
   "outputs": [],
   "source": [
    "cols_=['var_Property_if not A121/A122 : car or other, not in attribute 6','var_Years_of_Present_Employment_4 <= ... < 7 years','var_Credit_History_delay in paying off in the past']"
   ]
  },
  {
   "cell_type": "code",
   "execution_count": 109,
   "metadata": {},
   "outputs": [
    {
     "name": "stdout",
     "output_type": "stream",
     "text": [
      "(1134, 15)\n"
     ]
    }
   ],
   "source": [
    "X2.drop(columns=cols_,axis=1,inplace=True)\n",
    "print(X2.shape)\n",
    "X2.head()\n",
    "x_test2.drop(columns=cols_,axis=1,inplace=True)"
   ]
  },
  {
   "cell_type": "code",
   "execution_count": 110,
   "metadata": {},
   "outputs": [
    {
     "name": "stdout",
     "output_type": "stream",
     "text": [
      "Optimization terminated successfully.\n",
      "         Current function value: 0.528681\n",
      "         Iterations 7\n",
      "                                                        Results: Logit\n",
      "==============================================================================================================================\n",
      "Model:                                   Logit                                Pseudo R-squared:                     0.237     \n",
      "Dependent Variable:                      Creditability                        AIC:                                  1229.0492 \n",
      "Date:                                    2020-07-16 19:28                     BIC:                                  1304.5518 \n",
      "No. Observations:                        1134                                 Log-Likelihood:                       -599.52   \n",
      "Df Model:                                14                                   LL-Null:                              -786.03   \n",
      "Df Residuals:                            1119                                 LLR p-value:                          6.0691e-71\n",
      "Converged:                               1.0000                               Scale:                                1.0000    \n",
      "No. Iterations:                          7.0000                                                                               \n",
      "------------------------------------------------------------------------------------------------------------------------------\n",
      "                                                                                Coef.  Std.Err.    z    P>|z|   [0.025  0.975]\n",
      "------------------------------------------------------------------------------------------------------------------------------\n",
      "var_Status_of_existing_account_>=200DM                                          1.2670   0.3407  3.7186 0.0002  0.5992  1.9347\n",
      "var_Status_of_existing_account_no chking acc                                    1.8913   0.1858 10.1802 0.0000  1.5272  2.2554\n",
      "var_Credit_History_critical account/ other credits existing (not at this bank)  0.6871   0.1803  3.8113 0.0001  0.3337  1.0404\n",
      "var_Purpose_business                                                            0.7019   0.2711  2.5888 0.0096  0.1705  1.2333\n",
      "var_Purpose_car(old)                                                            1.7234   0.3301  5.2204 0.0000  1.0764  2.3705\n",
      "var_Purpose_furniture/equipment                                                 0.7350   0.2073  3.5462 0.0004  0.3288  1.1412\n",
      "var_Purpose_radio/television                                                    0.9089   0.1879  4.8378 0.0000  0.5407  1.2771\n",
      "var_Purpose_retraining                                                          2.2286   1.1252  1.9806 0.0476  0.0233  4.4338\n",
      "var_Savings_account_.. >= 1000 DM                                               1.4680   0.5281  2.7798 0.0054  0.4329  2.5031\n",
      "var_Savings_account_unknown/ no savings account                                 0.9024   0.2383  3.7872 0.0002  0.4354  1.3695\n",
      "var_Years_of_Present_Employment_..<=1year                                      -0.5423   0.1959 -2.7680 0.0056 -0.9264 -0.1583\n",
      "var_Sex_&_Marital_Status_male : single                                         -0.4702   0.1306 -3.6002 0.0003 -0.7262 -0.2142\n",
      "var_Guarantors/Debtors_Guarntor                                                 1.8032   0.4746  3.7997 0.0001  0.8730  2.7333\n",
      "var_Concurrent_Credits_none                                                    -1.0153   0.1266 -8.0229 0.0000 -1.2634 -0.7673\n",
      "var_Foreign_Worker_No                                                           2.3963   0.7807  3.0694 0.0021  0.8661  3.9264\n",
      "==============================================================================================================================\n",
      "\n"
     ]
    }
   ],
   "source": [
    "logit_model=sm.Logit(Y2,X2)\n",
    "result=logit_model.fit()\n",
    "print(result.summary2())"
   ]
  },
  {
   "cell_type": "code",
   "execution_count": 111,
   "metadata": {},
   "outputs": [
    {
     "data": {
      "text/plain": [
       "LogisticRegression()"
      ]
     },
     "execution_count": 111,
     "metadata": {},
     "output_type": "execute_result"
    }
   ],
   "source": [
    "#Again checking the model for scores after removing features\n",
    "logreg.fit(X2,Y2)\n"
   ]
  },
  {
   "cell_type": "code",
   "execution_count": 112,
   "metadata": {},
   "outputs": [],
   "source": [
    "y_preds3=logreg.predict(x_test2)"
   ]
  },
  {
   "cell_type": "code",
   "execution_count": 113,
   "metadata": {},
   "outputs": [
    {
     "name": "stdout",
     "output_type": "stream",
     "text": [
      "True Negative 39\n",
      "False Postives 28\n",
      "False Negatives 33\n",
      "True Postives 100\n"
     ]
    }
   ],
   "source": [
    "tn, fp, fn, tp = metrics.confusion_matrix(y_test2,y_preds3).ravel()\n",
    "print('True Negative',tn)\n",
    "print('False Postives',fp)\n",
    "print('False Negatives',fn)\n",
    "print('True Postives',tp)"
   ]
  },
  {
   "cell_type": "code",
   "execution_count": 114,
   "metadata": {},
   "outputs": [
    {
     "name": "stdout",
     "output_type": "stream",
     "text": [
      "              precision    recall  f1-score   support\n",
      "\n",
      "           0       0.54      0.58      0.56        67\n",
      "           1       0.78      0.75      0.77       133\n",
      "\n",
      "    accuracy                           0.69       200\n",
      "   macro avg       0.66      0.67      0.66       200\n",
      "weighted avg       0.70      0.69      0.70       200\n",
      "\n"
     ]
    }
   ],
   "source": [
    "print(metrics.classification_report(y_test2,y_preds3))"
   ]
  },
  {
   "cell_type": "code",
   "execution_count": 115,
   "metadata": {},
   "outputs": [
    {
     "data": {
      "text/plain": [
       "0.695"
      ]
     },
     "execution_count": 115,
     "metadata": {},
     "output_type": "execute_result"
    }
   ],
   "source": [
    "metrics.accuracy_score(y_test2,y_preds3)"
   ]
  },
  {
   "cell_type": "code",
   "execution_count": 116,
   "metadata": {},
   "outputs": [
    {
     "name": "stdout",
     "output_type": "stream",
     "text": [
      "              precision    recall  f1-score   support\n",
      "\n",
      "           0       0.51      0.64      0.57        67\n",
      "           1       0.79      0.68      0.73       133\n",
      "\n",
      "    accuracy                           0.67       200\n",
      "   macro avg       0.65      0.66      0.65       200\n",
      "weighted avg       0.70      0.67      0.68       200\n",
      "\n"
     ]
    }
   ],
   "source": [
    "Threshold=0.60\n",
    "preds1=np.where(logreg.predict_proba(x_test2)[:,1]>Threshold,1,0)\n",
    "print(metrics.classification_report(y_test2,preds1))"
   ]
  },
  {
   "cell_type": "code",
   "execution_count": 117,
   "metadata": {},
   "outputs": [
    {
     "data": {
      "image/png": "[encoded data removed]",
      "text/plain": [
       "<Figure size 432x288 with 1 Axes>"
      ]
     },
     "metadata": {},
     "output_type": "display_data"
    }
   ],
   "source": [
    "from sklearn.metrics import roc_auc_score\n",
    "from sklearn.metrics import roc_curve\n",
    "auc = roc_auc_score(y_test2,preds1)\n",
    "fpr, tpr, thresholds = roc_curve(y_test2, logreg.predict_proba(x_test2)[:,1])\n",
    "plt.figure()\n",
    "plt.plot(fpr, tpr, label='Logistic Regression (area = %0.2f)' % auc)\n",
    "plt.plot([0, 1], [0, 1],'r--')\n",
    "plt.xlim([0.0, 1.0])\n",
    "plt.ylim([0.0, 1.05])\n",
    "plt.xlabel('FPR')\n",
    "plt.ylabel('TPR')\n",
    "plt.legend(loc=\"bottom right\")\n",
    "plt.savefig('SelectFromModel')\n",
    "\n",
    "\n",
    "plt.show()"
   ]
  },
  {
   "cell_type": "markdown",
   "metadata": {},
   "source": [
    "## Applying PCA to the original dummy categorical data to reduce features from 61 to a lesser number."
   ]
  },
  {
   "cell_type": "code",
   "execution_count": 118,
   "metadata": {},
   "outputs": [
    {
     "data": {
      "text/html": [
       "<div>\n",
       "<style scoped>\n",
       "    .dataframe tbody tr th:only-of-type {\n",
       "        vertical-align: middle;\n",
       "    }\n",
       "\n",
       "    .dataframe tbody tr th {\n",
       "        vertical-align: top;\n",
       "    }\n",
       "\n",
       "    .dataframe thead th {\n",
       "        text-align: right;\n",
       "    }\n",
       "</style>\n",
       "<table border=\"1\" class=\"dataframe\">\n",
       "  <thead>\n",
       "    <tr style=\"text-align: right;\">\n",
       "      <th></th>\n",
       "      <th>Creditability</th>\n",
       "      <th>Duration_of_Credit_month</th>\n",
       "      <th>Credit_Amount</th>\n",
       "      <th>Percentage_of_disposable_income</th>\n",
       "      <th>Duration_in_Present_Residence</th>\n",
       "      <th>Age</th>\n",
       "      <th>No_of_Credits_at_this__Bank</th>\n",
       "      <th>No_of_dependents</th>\n",
       "      <th>var_Status_of_existing_account_0 &lt;= .. &lt;200DM</th>\n",
       "      <th>var_Status_of_existing_account_&lt;0DM</th>\n",
       "      <th>...</th>\n",
       "      <th>var_Housing_own</th>\n",
       "      <th>var_Housing_rent</th>\n",
       "      <th>var_Occupation_: skilled employee / official</th>\n",
       "      <th>var_Occupation_management/ self-employed/highly</th>\n",
       "      <th>var_Occupation_unemployed/ unskilled - non-resident</th>\n",
       "      <th>var_Occupation_unskilled - resident</th>\n",
       "      <th>var_Telephone_No</th>\n",
       "      <th>var_Telephone_yes, registered under the customers name</th>\n",
       "      <th>var_Foreign_Worker_No</th>\n",
       "      <th>var_Foreign_Worker_Yes</th>\n",
       "    </tr>\n",
       "  </thead>\n",
       "  <tbody>\n",
       "    <tr>\n",
       "      <th>0</th>\n",
       "      <td>1</td>\n",
       "      <td>-0.240857</td>\n",
       "      <td>-0.787657</td>\n",
       "      <td>0.918477</td>\n",
       "      <td>4</td>\n",
       "      <td>-1.281573</td>\n",
       "      <td>-0.704926</td>\n",
       "      <td>-0.428290</td>\n",
       "      <td>0</td>\n",
       "      <td>1</td>\n",
       "      <td>...</td>\n",
       "      <td>0</td>\n",
       "      <td>1</td>\n",
       "      <td>1</td>\n",
       "      <td>0</td>\n",
       "      <td>0</td>\n",
       "      <td>0</td>\n",
       "      <td>1</td>\n",
       "      <td>0</td>\n",
       "      <td>0</td>\n",
       "      <td>1</td>\n",
       "    </tr>\n",
       "    <tr>\n",
       "      <th>1</th>\n",
       "      <td>1</td>\n",
       "      <td>-0.987573</td>\n",
       "      <td>-0.167384</td>\n",
       "      <td>-0.870183</td>\n",
       "      <td>2</td>\n",
       "      <td>0.040363</td>\n",
       "      <td>1.027079</td>\n",
       "      <td>2.334869</td>\n",
       "      <td>0</td>\n",
       "      <td>1</td>\n",
       "      <td>...</td>\n",
       "      <td>0</td>\n",
       "      <td>1</td>\n",
       "      <td>1</td>\n",
       "      <td>0</td>\n",
       "      <td>0</td>\n",
       "      <td>0</td>\n",
       "      <td>1</td>\n",
       "      <td>0</td>\n",
       "      <td>0</td>\n",
       "      <td>1</td>\n",
       "    </tr>\n",
       "    <tr>\n",
       "      <th>2</th>\n",
       "      <td>1</td>\n",
       "      <td>-0.738668</td>\n",
       "      <td>-0.861381</td>\n",
       "      <td>-0.870183</td>\n",
       "      <td>4</td>\n",
       "      <td>-1.105315</td>\n",
       "      <td>-0.704926</td>\n",
       "      <td>-0.428290</td>\n",
       "      <td>1</td>\n",
       "      <td>0</td>\n",
       "      <td>...</td>\n",
       "      <td>0</td>\n",
       "      <td>1</td>\n",
       "      <td>0</td>\n",
       "      <td>0</td>\n",
       "      <td>0</td>\n",
       "      <td>1</td>\n",
       "      <td>1</td>\n",
       "      <td>0</td>\n",
       "      <td>0</td>\n",
       "      <td>1</td>\n",
       "    </tr>\n",
       "    <tr>\n",
       "      <th>3</th>\n",
       "      <td>1</td>\n",
       "      <td>-0.738668</td>\n",
       "      <td>-0.407341</td>\n",
       "      <td>0.024147</td>\n",
       "      <td>2</td>\n",
       "      <td>0.304750</td>\n",
       "      <td>1.027079</td>\n",
       "      <td>2.334869</td>\n",
       "      <td>0</td>\n",
       "      <td>1</td>\n",
       "      <td>...</td>\n",
       "      <td>0</td>\n",
       "      <td>1</td>\n",
       "      <td>0</td>\n",
       "      <td>0</td>\n",
       "      <td>0</td>\n",
       "      <td>1</td>\n",
       "      <td>1</td>\n",
       "      <td>0</td>\n",
       "      <td>1</td>\n",
       "      <td>0</td>\n",
       "    </tr>\n",
       "    <tr>\n",
       "      <th>4</th>\n",
       "      <td>1</td>\n",
       "      <td>-0.738668</td>\n",
       "      <td>-0.389974</td>\n",
       "      <td>0.918477</td>\n",
       "      <td>4</td>\n",
       "      <td>0.216621</td>\n",
       "      <td>1.027079</td>\n",
       "      <td>-0.428290</td>\n",
       "      <td>0</td>\n",
       "      <td>1</td>\n",
       "      <td>...</td>\n",
       "      <td>1</td>\n",
       "      <td>0</td>\n",
       "      <td>0</td>\n",
       "      <td>0</td>\n",
       "      <td>0</td>\n",
       "      <td>1</td>\n",
       "      <td>1</td>\n",
       "      <td>0</td>\n",
       "      <td>1</td>\n",
       "      <td>0</td>\n",
       "    </tr>\n",
       "  </tbody>\n",
       "</table>\n",
       "<p>5 rows × 62 columns</p>\n",
       "</div>"
      ],
      "text/plain": [
       "   Creditability  Duration_of_Credit_month  Credit_Amount  \\\n",
       "0              1                 -0.240857      -0.787657   \n",
       "1              1                 -0.987573      -0.167384   \n",
       "2              1                 -0.738668      -0.861381   \n",
       "3              1                 -0.738668      -0.407341   \n",
       "4              1                 -0.738668      -0.389974   \n",
       "\n",
       "   Percentage_of_disposable_income  Duration_in_Present_Residence       Age  \\\n",
       "0                         0.918477                              4 -1.281573   \n",
       "1                        -0.870183                              2  0.040363   \n",
       "2                        -0.870183                              4 -1.105315   \n",
       "3                         0.024147                              2  0.304750   \n",
       "4                         0.918477                              4  0.216621   \n",
       "\n",
       "   No_of_Credits_at_this__Bank  No_of_dependents  \\\n",
       "0                    -0.704926         -0.428290   \n",
       "1                     1.027079          2.334869   \n",
       "2                    -0.704926         -0.428290   \n",
       "3                     1.027079          2.334869   \n",
       "4                     1.027079         -0.428290   \n",
       "\n",
       "   var_Status_of_existing_account_0 <= .. <200DM  \\\n",
       "0                                              0   \n",
       "1                                              0   \n",
       "2                                              1   \n",
       "3                                              0   \n",
       "4                                              0   \n",
       "\n",
       "   var_Status_of_existing_account_<0DM  ...  var_Housing_own  \\\n",
       "0                                    1  ...                0   \n",
       "1                                    1  ...                0   \n",
       "2                                    0  ...                0   \n",
       "3                                    1  ...                0   \n",
       "4                                    1  ...                1   \n",
       "\n",
       "   var_Housing_rent  var_Occupation_: skilled employee / official  \\\n",
       "0                 1                                             1   \n",
       "1                 1                                             1   \n",
       "2                 1                                             0   \n",
       "3                 1                                             0   \n",
       "4                 0                                             0   \n",
       "\n",
       "   var_Occupation_management/ self-employed/highly  \\\n",
       "0                                                0   \n",
       "1                                                0   \n",
       "2                                                0   \n",
       "3                                                0   \n",
       "4                                                0   \n",
       "\n",
       "   var_Occupation_unemployed/ unskilled - non-resident  \\\n",
       "0                                                  0     \n",
       "1                                                  0     \n",
       "2                                                  0     \n",
       "3                                                  0     \n",
       "4                                                  0     \n",
       "\n",
       "   var_Occupation_unskilled - resident  var_Telephone_No  \\\n",
       "0                                    0                 1   \n",
       "1                                    0                 1   \n",
       "2                                    1                 1   \n",
       "3                                    1                 1   \n",
       "4                                    1                 1   \n",
       "\n",
       "   var_Telephone_yes, registered under the customers name  \\\n",
       "0                                                  0        \n",
       "1                                                  0        \n",
       "2                                                  0        \n",
       "3                                                  0        \n",
       "4                                                  0        \n",
       "\n",
       "   var_Foreign_Worker_No  var_Foreign_Worker_Yes  \n",
       "0                      0                       1  \n",
       "1                      0                       1  \n",
       "2                      0                       1  \n",
       "3                      1                       0  \n",
       "4                      1                       0  \n",
       "\n",
       "[5 rows x 62 columns]"
      ]
     },
     "execution_count": 118,
     "metadata": {},
     "output_type": "execute_result"
    }
   ],
   "source": [
    "df_with_dummies.head()"
   ]
  },
  {
   "cell_type": "code",
   "execution_count": 119,
   "metadata": {},
   "outputs": [],
   "source": [
    "x_pca=df_with_dummies.drop('Creditability',axis=1)\n",
    "y_pca=df_with_dummies['Creditability']"
   ]
  },
  {
   "cell_type": "code",
   "execution_count": 120,
   "metadata": {},
   "outputs": [],
   "source": [
    "#reducing dimensions to 45 from 61"
   ]
  },
  {
   "cell_type": "code",
   "execution_count": 121,
   "metadata": {},
   "outputs": [
    {
     "data": {
      "text/plain": [
       "(1000, 40)"
      ]
     },
     "execution_count": 121,
     "metadata": {},
     "output_type": "execute_result"
    }
   ],
   "source": [
    "from sklearn.decomposition import PCA\n",
    "pca = PCA(n_components=40)\n",
    "principalComponents = pca.fit_transform(x_pca)\n",
    "X = pd.DataFrame(data = principalComponents)\n",
    "X.shape"
   ]
  },
  {
   "cell_type": "code",
   "execution_count": 122,
   "metadata": {},
   "outputs": [],
   "source": [
    "from imblearn import over_sampling\n",
    "from imblearn.over_sampling import SMOTE\n",
    "from sklearn.model_selection import train_test_split\n",
    "os = SMOTE(random_state=0)\n",
    "X_train1, x_test1, Y_train1, y_test1 = train_test_split(X,y_pca, test_size=0.2, random_state=14)\n",
    "os_data_X,os_data_y = os.fit_sample(X_train1, Y_train1)\n",
    "os_data_X = pd.DataFrame(data=os_data_X,columns=X_train1.columns.values.tolist())\n",
    "os_data_y=pd.DataFrame(data=os_data_y,columns=['Creditability'])"
   ]
  },
  {
   "cell_type": "code",
   "execution_count": 123,
   "metadata": {},
   "outputs": [],
   "source": [
    "logreg.fit(os_data_X,os_data_y)\n",
    "y_pred=logreg.predict(x_test1)"
   ]
  },
  {
   "cell_type": "code",
   "execution_count": 124,
   "metadata": {},
   "outputs": [
    {
     "name": "stdout",
     "output_type": "stream",
     "text": [
      "              precision    recall  f1-score   support\n",
      "\n",
      "           0       0.57      0.70      0.63        67\n",
      "           1       0.83      0.73      0.78       133\n",
      "\n",
      "    accuracy                           0.72       200\n",
      "   macro avg       0.70      0.72      0.70       200\n",
      "weighted avg       0.74      0.72      0.73       200\n",
      "\n"
     ]
    }
   ],
   "source": [
    "print(metrics.classification_report(y_test1,y_pred))"
   ]
  },
  {
   "cell_type": "code",
   "execution_count": 125,
   "metadata": {},
   "outputs": [
    {
     "name": "stdout",
     "output_type": "stream",
     "text": [
      "True Negatives 47\n",
      "False Positives 20\n",
      "False Negatives 36\n",
      "True Positives 97\n"
     ]
    }
   ],
   "source": [
    "tn,fp,fn,tp=metrics.confusion_matrix(y_test1,y_pred).ravel()\n",
    "print('True Negatives',tn)\n",
    "print('False Positives',fp)\n",
    "print('False Negatives',fn)\n",
    "print('True Positives',tp)"
   ]
  },
  {
   "cell_type": "code",
   "execution_count": 126,
   "metadata": {},
   "outputs": [],
   "source": [
    "#Increasing Threshold to get less false positives and more True Negatives"
   ]
  },
  {
   "cell_type": "code",
   "execution_count": 127,
   "metadata": {},
   "outputs": [
    {
     "name": "stdout",
     "output_type": "stream",
     "text": [
      "              precision    recall  f1-score   support\n",
      "\n",
      "           0       0.56      0.82      0.66        67\n",
      "           1       0.88      0.67      0.76       133\n",
      "\n",
      "    accuracy                           0.72       200\n",
      "   macro avg       0.72      0.75      0.71       200\n",
      "weighted avg       0.77      0.72      0.73       200\n",
      "\n"
     ]
    }
   ],
   "source": [
    "Threshold=0.60\n",
    "preds1=np.where(logreg.predict_proba(x_test1)[:,1]>Threshold,1,0)\n",
    "print(metrics.classification_report(y_test1,preds1))"
   ]
  },
  {
   "cell_type": "code",
   "execution_count": 128,
   "metadata": {},
   "outputs": [
    {
     "name": "stdout",
     "output_type": "stream",
     "text": [
      "True Negatives 55\n",
      "False Positives 12\n",
      "False Negatives 44\n",
      "True Positives 89\n"
     ]
    }
   ],
   "source": [
    "tn,fp,fn,tp=metrics.confusion_matrix(y_test1,preds1).ravel()\n",
    "print('True Negatives',tn)\n",
    "print('False Positives',fp)\n",
    "print('False Negatives',fn)\n",
    "print('True Positives',tp)"
   ]
  },
  {
   "cell_type": "code",
   "execution_count": 129,
   "metadata": {},
   "outputs": [
    {
     "data": {
      "image/png": "[encoded data removed]",
      "text/plain": [
       "<Figure size 432x288 with 1 Axes>"
      ]
     },
     "metadata": {},
     "output_type": "display_data"
    }
   ],
   "source": [
    "from sklearn.metrics import roc_auc_score\n",
    "from sklearn.metrics import roc_curve\n",
    "auc = roc_auc_score(y_test1,preds1)\n",
    "fpr, tpr, thresholds = roc_curve(y_test1, logreg.predict_proba(x_test1)[:,1])\n",
    "plt.figure()\n",
    "plt.plot(fpr, tpr, label='Logistic Regression WITH PCA (area = %0.2f)' % auc)\n",
    "plt.plot([0, 1], [0, 1],'r--')\n",
    "plt.xlim([0.0, 1.0])\n",
    "plt.ylim([0.0, 1.05])\n",
    "plt.xlabel('FPR')\n",
    "plt.ylabel('TPR')\n",
    "plt.title('PCA')\n",
    "plt.legend(loc=\"bottom right\")\n",
    "plt.savefig('SelectFromModel_Pca')"
   ]
  },
  {
   "cell_type": "markdown",
   "metadata": {},
   "source": [
    "## Applying KPrototype"
   ]
  },
  {
   "cell_type": "code",
   "execution_count": 130,
   "metadata": {},
   "outputs": [
    {
     "name": "stdout",
     "output_type": "stream",
     "text": [
      "Requirement already satisfied: kmodes in c:\\users\\mayur\\anaconda3\\lib\\site-packages (0.10.2)\n",
      "Requirement already satisfied: joblib>=0.11 in c:\\users\\mayur\\anaconda3\\lib\\site-packages (from kmodes) (0.14.1)\n",
      "Requirement already satisfied: numpy>=1.10.4 in c:\\users\\mayur\\anaconda3\\lib\\site-packages (from kmodes) (1.18.1)\n",
      "Requirement already satisfied: scikit-learn>=0.19.0 in c:\\users\\mayur\\anaconda3\\lib\\site-packages (from kmodes) (0.23.1)\n",
      "Requirement already satisfied: scipy>=0.13.3 in c:\\users\\mayur\\anaconda3\\lib\\site-packages (from kmodes) (1.3.2)\n",
      "Requirement already satisfied: threadpoolctl>=2.0.0 in c:\\users\\mayur\\anaconda3\\lib\\site-packages (from scikit-learn>=0.19.0->kmodes) (2.1.0)\n"
     ]
    }
   ],
   "source": [
    "!pip install kmodes\n",
    "\n"
   ]
  },
  {
   "cell_type": "code",
   "execution_count": 131,
   "metadata": {},
   "outputs": [
    {
     "data": {
      "text/html": [
       "<div>\n",
       "<style scoped>\n",
       "    .dataframe tbody tr th:only-of-type {\n",
       "        vertical-align: middle;\n",
       "    }\n",
       "\n",
       "    .dataframe tbody tr th {\n",
       "        vertical-align: top;\n",
       "    }\n",
       "\n",
       "    .dataframe thead th {\n",
       "        text-align: right;\n",
       "    }\n",
       "</style>\n",
       "<table border=\"1\" class=\"dataframe\">\n",
       "  <thead>\n",
       "    <tr style=\"text-align: right;\">\n",
       "      <th></th>\n",
       "      <th>Creditability</th>\n",
       "      <th>Status_of_existing_account</th>\n",
       "      <th>Duration_of_Credit_month</th>\n",
       "      <th>Credit_History</th>\n",
       "      <th>Purpose</th>\n",
       "      <th>Credit_Amount</th>\n",
       "      <th>Savings_account</th>\n",
       "      <th>Years_of_Present_Employment</th>\n",
       "      <th>Percentage_of_disposable_income</th>\n",
       "      <th>Sex_&amp;_Marital_Status</th>\n",
       "      <th>...</th>\n",
       "      <th>Duration_in_Present_Residence</th>\n",
       "      <th>Property</th>\n",
       "      <th>Age</th>\n",
       "      <th>Concurrent_Credits</th>\n",
       "      <th>Housing</th>\n",
       "      <th>No_of_Credits_at_this__Bank</th>\n",
       "      <th>Occupation</th>\n",
       "      <th>No_of_dependents</th>\n",
       "      <th>Telephone</th>\n",
       "      <th>Foreign_Worker</th>\n",
       "    </tr>\n",
       "  </thead>\n",
       "  <tbody>\n",
       "    <tr>\n",
       "      <th>0</th>\n",
       "      <td>1</td>\n",
       "      <td>&lt;0DM</td>\n",
       "      <td>18</td>\n",
       "      <td>critical account/ other credits existing (not ...</td>\n",
       "      <td>furniture/equipment</td>\n",
       "      <td>1049</td>\n",
       "      <td>..&lt;100 DM</td>\n",
       "      <td>..&lt;=1year</td>\n",
       "      <td>4</td>\n",
       "      <td>female : divorced/separated/married</td>\n",
       "      <td>...</td>\n",
       "      <td>4</td>\n",
       "      <td>if not 1 : building society savings agreement/...</td>\n",
       "      <td>21</td>\n",
       "      <td>none</td>\n",
       "      <td>rent</td>\n",
       "      <td>1</td>\n",
       "      <td>: skilled employee / official</td>\n",
       "      <td>1</td>\n",
       "      <td>No</td>\n",
       "      <td>Yes</td>\n",
       "    </tr>\n",
       "    <tr>\n",
       "      <th>1</th>\n",
       "      <td>1</td>\n",
       "      <td>&lt;0DM</td>\n",
       "      <td>9</td>\n",
       "      <td>critical account/ other credits existing (not ...</td>\n",
       "      <td>car(new)</td>\n",
       "      <td>2799</td>\n",
       "      <td>..&lt;100 DM</td>\n",
       "      <td>1 &lt;= ... &lt; 4 years</td>\n",
       "      <td>2</td>\n",
       "      <td>male : single</td>\n",
       "      <td>...</td>\n",
       "      <td>2</td>\n",
       "      <td>real_estate</td>\n",
       "      <td>36</td>\n",
       "      <td>none</td>\n",
       "      <td>rent</td>\n",
       "      <td>2</td>\n",
       "      <td>: skilled employee / official</td>\n",
       "      <td>2</td>\n",
       "      <td>No</td>\n",
       "      <td>Yes</td>\n",
       "    </tr>\n",
       "    <tr>\n",
       "      <th>2</th>\n",
       "      <td>1</td>\n",
       "      <td>0 &lt;= .. &lt;200DM</td>\n",
       "      <td>12</td>\n",
       "      <td>all credits paid back duly til now</td>\n",
       "      <td>business</td>\n",
       "      <td>841</td>\n",
       "      <td>100 &lt;= ..&lt;500 DM</td>\n",
       "      <td>4 &lt;= ... &lt; 7 years</td>\n",
       "      <td>2</td>\n",
       "      <td>female : divorced/separated/married</td>\n",
       "      <td>...</td>\n",
       "      <td>4</td>\n",
       "      <td>real_estate</td>\n",
       "      <td>23</td>\n",
       "      <td>none</td>\n",
       "      <td>rent</td>\n",
       "      <td>1</td>\n",
       "      <td>unskilled - resident</td>\n",
       "      <td>1</td>\n",
       "      <td>No</td>\n",
       "      <td>Yes</td>\n",
       "    </tr>\n",
       "    <tr>\n",
       "      <th>3</th>\n",
       "      <td>1</td>\n",
       "      <td>&lt;0DM</td>\n",
       "      <td>12</td>\n",
       "      <td>critical account/ other credits existing (not ...</td>\n",
       "      <td>car(new)</td>\n",
       "      <td>2122</td>\n",
       "      <td>..&lt;100 DM</td>\n",
       "      <td>1 &lt;= ... &lt; 4 years</td>\n",
       "      <td>3</td>\n",
       "      <td>male : single</td>\n",
       "      <td>...</td>\n",
       "      <td>2</td>\n",
       "      <td>real_estate</td>\n",
       "      <td>39</td>\n",
       "      <td>none</td>\n",
       "      <td>rent</td>\n",
       "      <td>2</td>\n",
       "      <td>unskilled - resident</td>\n",
       "      <td>2</td>\n",
       "      <td>No</td>\n",
       "      <td>No</td>\n",
       "    </tr>\n",
       "    <tr>\n",
       "      <th>4</th>\n",
       "      <td>1</td>\n",
       "      <td>&lt;0DM</td>\n",
       "      <td>12</td>\n",
       "      <td>critical account/ other credits existing (not ...</td>\n",
       "      <td>car(new)</td>\n",
       "      <td>2171</td>\n",
       "      <td>..&lt;100 DM</td>\n",
       "      <td>1 &lt;= ... &lt; 4 years</td>\n",
       "      <td>4</td>\n",
       "      <td>male : single</td>\n",
       "      <td>...</td>\n",
       "      <td>4</td>\n",
       "      <td>if not 1 : building society savings agreement/...</td>\n",
       "      <td>38</td>\n",
       "      <td>bank</td>\n",
       "      <td>own</td>\n",
       "      <td>2</td>\n",
       "      <td>unskilled - resident</td>\n",
       "      <td>1</td>\n",
       "      <td>No</td>\n",
       "      <td>No</td>\n",
       "    </tr>\n",
       "  </tbody>\n",
       "</table>\n",
       "<p>5 rows × 21 columns</p>\n",
       "</div>"
      ],
      "text/plain": [
       "   Creditability Status_of_existing_account  Duration_of_Credit_month  \\\n",
       "0              1                       <0DM                        18   \n",
       "1              1                       <0DM                         9   \n",
       "2              1             0 <= .. <200DM                        12   \n",
       "3              1                       <0DM                        12   \n",
       "4              1                       <0DM                        12   \n",
       "\n",
       "                                      Credit_History              Purpose  \\\n",
       "0  critical account/ other credits existing (not ...  furniture/equipment   \n",
       "1  critical account/ other credits existing (not ...             car(new)   \n",
       "2                 all credits paid back duly til now             business   \n",
       "3  critical account/ other credits existing (not ...             car(new)   \n",
       "4  critical account/ other credits existing (not ...             car(new)   \n",
       "\n",
       "   Credit_Amount   Savings_account Years_of_Present_Employment  \\\n",
       "0           1049         ..<100 DM                   ..<=1year   \n",
       "1           2799         ..<100 DM          1 <= ... < 4 years   \n",
       "2            841  100 <= ..<500 DM          4 <= ... < 7 years   \n",
       "3           2122         ..<100 DM          1 <= ... < 4 years   \n",
       "4           2171         ..<100 DM          1 <= ... < 4 years   \n",
       "\n",
       "   Percentage_of_disposable_income                 Sex_&_Marital_Status  ...  \\\n",
       "0                                4  female : divorced/separated/married  ...   \n",
       "1                                2                        male : single  ...   \n",
       "2                                2  female : divorced/separated/married  ...   \n",
       "3                                3                        male : single  ...   \n",
       "4                                4                        male : single  ...   \n",
       "\n",
       "  Duration_in_Present_Residence  \\\n",
       "0                             4   \n",
       "1                             2   \n",
       "2                             4   \n",
       "3                             2   \n",
       "4                             4   \n",
       "\n",
       "                                            Property Age  Concurrent_Credits  \\\n",
       "0  if not 1 : building society savings agreement/...  21                none   \n",
       "1                                        real_estate  36                none   \n",
       "2                                        real_estate  23                none   \n",
       "3                                        real_estate  39                none   \n",
       "4  if not 1 : building society savings agreement/...  38                bank   \n",
       "\n",
       "  Housing No_of_Credits_at_this__Bank                     Occupation  \\\n",
       "0    rent                           1  : skilled employee / official   \n",
       "1    rent                           2  : skilled employee / official   \n",
       "2    rent                           1           unskilled - resident   \n",
       "3    rent                           2           unskilled - resident   \n",
       "4     own                           2           unskilled - resident   \n",
       "\n",
       "  No_of_dependents  Telephone Foreign_Worker  \n",
       "0                1         No            Yes  \n",
       "1                2         No            Yes  \n",
       "2                1         No            Yes  \n",
       "3                2         No             No  \n",
       "4                1         No             No  \n",
       "\n",
       "[5 rows x 21 columns]"
      ]
     },
     "execution_count": 131,
     "metadata": {},
     "output_type": "execute_result"
    }
   ],
   "source": [
    "from kmodes.kprototypes import KPrototypes\n",
    "clus.head()\n"
   ]
  },
  {
   "cell_type": "code",
   "execution_count": 132,
   "metadata": {},
   "outputs": [
    {
     "data": {
      "text/plain": [
       "Index(['Creditability', 'Status_of_existing_account',\n",
       "       'Duration_of_Credit_month', 'Credit_History', 'Purpose',\n",
       "       'Credit_Amount', 'Savings_account', 'Years_of_Present_Employment',\n",
       "       'Percentage_of_disposable_income', 'Sex_&_Marital_Status',\n",
       "       'Guarantors/Debtors', 'Duration_in_Present_Residence', 'Property',\n",
       "       'Age', 'Concurrent_Credits', 'Housing', 'No_of_Credits_at_this__Bank',\n",
       "       'Occupation', 'No_of_dependents', 'Telephone', 'Foreign_Worker'],\n",
       "      dtype='object')"
      ]
     },
     "execution_count": 132,
     "metadata": {},
     "output_type": "execute_result"
    }
   ],
   "source": [
    "clus.columns"
   ]
  },
  {
   "cell_type": "code",
   "execution_count": 133,
   "metadata": {},
   "outputs": [],
   "source": [
    "df_array=clus.values"
   ]
  },
  {
   "cell_type": "code",
   "execution_count": 134,
   "metadata": {},
   "outputs": [],
   "source": [
    "#Numerical Features\n",
    "df_array[:, 2]=df_array[:,2].astype(float)\n",
    "df_array[:,5]=df_array[:,5].astype(float)\n",
    "df_array[:,8]=df_array[:,8].astype(float)\n",
    "df_array[:,11]=df_array[:,11].astype(float)\n",
    "df_array[:,13]=df_array[:,13].astype(float)\n",
    "df_array[:,16]=df_array[:,16].astype(float)\n",
    "df_array[:,18]=df_array[:,18].astype(float)"
   ]
  },
  {
   "cell_type": "code",
   "execution_count": 135,
   "metadata": {},
   "outputs": [],
   "source": [
    "#Randomly assigning a K value\n",
    "\n",
    "kproto=KPrototypes(n_clusters=4,verbose=2,max_iter=30)"
   ]
  },
  {
   "cell_type": "code",
   "execution_count": 136,
   "metadata": {},
   "outputs": [
    {
     "name": "stdout",
     "output_type": "stream",
     "text": [
      "Init: initializing centroids\n",
      "Init: initializing clusters\n",
      "Starting iterations...\n",
      "Run: 1, iteration: 1/30, moves: 297, ncost: 1648155786.5323105\n",
      "Run: 1, iteration: 2/30, moves: 194, ncost: 1378470007.5881932\n",
      "Run: 1, iteration: 3/30, moves: 191, ncost: 1207094918.556433\n",
      "Run: 1, iteration: 4/30, moves: 170, ncost: 1057617471.4294872\n",
      "Run: 1, iteration: 5/30, moves: 118, ncost: 898846740.6936401\n",
      "Run: 1, iteration: 6/30, moves: 119, ncost: 737348039.188219\n",
      "Run: 1, iteration: 7/30, moves: 78, ncost: 682318749.635775\n",
      "Run: 1, iteration: 8/30, moves: 43, ncost: 667036237.0545605\n",
      "Run: 1, iteration: 9/30, moves: 39, ncost: 654921118.0490835\n",
      "Run: 1, iteration: 10/30, moves: 9, ncost: 654296597.6066667\n",
      "Run: 1, iteration: 11/30, moves: 3, ncost: 654206816.1119487\n",
      "Run: 1, iteration: 12/30, moves: 2, ncost: 654183256.6353972\n",
      "Run: 1, iteration: 13/30, moves: 1, ncost: 654177280.9147999\n",
      "Run: 1, iteration: 14/30, moves: 0, ncost: 654177280.9147999\n",
      "Init: initializing centroids\n",
      "Init: initializing clusters\n",
      "Init: initializing centroids\n",
      "Init: initializing clusters\n",
      "Starting iterations...\n",
      "Run: 2, iteration: 1/30, moves: 174, ncost: 711793249.5516785\n",
      "Run: 2, iteration: 2/30, moves: 71, ncost: 656801359.7790028\n",
      "Run: 2, iteration: 3/30, moves: 20, ncost: 654183882.2276422\n",
      "Run: 2, iteration: 4/30, moves: 1, ncost: 654177892.7605602\n",
      "Run: 2, iteration: 5/30, moves: 0, ncost: 654177892.7605602\n",
      "Init: initializing centroids\n",
      "Init: initializing clusters\n",
      "Init: initializing centroids\n",
      "Init: initializing clusters\n",
      "Init: initializing centroids\n",
      "Init: initializing clusters\n",
      "Starting iterations...\n",
      "Run: 3, iteration: 1/30, moves: 59, ncost: 880968308.8519503\n",
      "Run: 3, iteration: 2/30, moves: 48, ncost: 734697027.3619918\n",
      "Run: 3, iteration: 3/30, moves: 48, ncost: 685422585.4846805\n",
      "Run: 3, iteration: 4/30, moves: 39, ncost: 666337609.1207107\n",
      "Run: 3, iteration: 5/30, moves: 35, ncost: 654921118.0490835\n",
      "Run: 3, iteration: 6/30, moves: 9, ncost: 654296597.6066667\n",
      "Run: 3, iteration: 7/30, moves: 3, ncost: 654206816.1119487\n",
      "Run: 3, iteration: 8/30, moves: 2, ncost: 654183256.6353972\n",
      "Run: 3, iteration: 9/30, moves: 1, ncost: 654177280.9147999\n",
      "Run: 3, iteration: 10/30, moves: 0, ncost: 654177280.9147999\n",
      "Init: initializing centroids\n",
      "Init: initializing clusters\n",
      "Starting iterations...\n",
      "Run: 4, iteration: 1/30, moves: 171, ncost: 1329981974.457309\n",
      "Run: 4, iteration: 2/30, moves: 87, ncost: 1140324289.31672\n",
      "Run: 4, iteration: 3/30, moves: 86, ncost: 1024835380.6789598\n",
      "Run: 4, iteration: 4/30, moves: 112, ncost: 862934570.3467289\n",
      "Run: 4, iteration: 5/30, moves: 97, ncost: 731001569.3266702\n",
      "Run: 4, iteration: 6/30, moves: 69, ncost: 680311522.674394\n",
      "Run: 4, iteration: 7/30, moves: 36, ncost: 666510327.7485837\n",
      "Run: 4, iteration: 8/30, moves: 36, ncost: 654921118.0490835\n",
      "Run: 4, iteration: 9/30, moves: 9, ncost: 654296597.6066667\n",
      "Run: 4, iteration: 10/30, moves: 3, ncost: 654206816.1119487\n",
      "Run: 4, iteration: 11/30, moves: 2, ncost: 654183256.6353972\n",
      "Run: 4, iteration: 12/30, moves: 1, ncost: 654177280.9147999\n",
      "Run: 4, iteration: 13/30, moves: 0, ncost: 654177280.9147999\n",
      "Init: initializing centroids\n",
      "Init: initializing clusters\n",
      "Init: initializing centroids\n",
      "Init: initializing clusters\n",
      "Starting iterations...\n",
      "Run: 5, iteration: 1/30, moves: 302, ncost: 1693840691.6472192\n",
      "Run: 5, iteration: 2/30, moves: 198, ncost: 1386082675.686903\n",
      "Run: 5, iteration: 3/30, moves: 195, ncost: 1213134850.2929888\n",
      "Run: 5, iteration: 4/30, moves: 173, ncost: 1060222249.1667936\n",
      "Run: 5, iteration: 5/30, moves: 122, ncost: 900464718.8880821\n",
      "Run: 5, iteration: 6/30, moves: 119, ncost: 737635116.3460459\n",
      "Run: 5, iteration: 7/30, moves: 78, ncost: 683110099.8216715\n",
      "Run: 5, iteration: 8/30, moves: 44, ncost: 667036237.0545605\n",
      "Run: 5, iteration: 9/30, moves: 39, ncost: 654921118.0490835\n",
      "Run: 5, iteration: 10/30, moves: 9, ncost: 654296597.6066667\n",
      "Run: 5, iteration: 11/30, moves: 3, ncost: 654206816.1119487\n",
      "Run: 5, iteration: 12/30, moves: 2, ncost: 654183256.6353972\n",
      "Run: 5, iteration: 13/30, moves: 1, ncost: 654177280.9147999\n",
      "Run: 5, iteration: 14/30, moves: 0, ncost: 654177280.9147999\n",
      "Init: initializing centroids\n",
      "Init: initializing clusters\n",
      "Starting iterations...\n",
      "Run: 6, iteration: 1/30, moves: 118, ncost: 1096228537.269215\n",
      "Run: 6, iteration: 2/30, moves: 87, ncost: 935706896.6526482\n",
      "Run: 6, iteration: 3/30, moves: 105, ncost: 742594847.6742764\n",
      "Run: 6, iteration: 4/30, moves: 60, ncost: 691096677.6256765\n",
      "Run: 6, iteration: 5/30, moves: 43, ncost: 668085678.6407634\n",
      "Run: 6, iteration: 6/30, moves: 40, ncost: 655690002.7639229\n",
      "Run: 6, iteration: 7/30, moves: 11, ncost: 654389928.4577249\n",
      "Run: 6, iteration: 8/30, moves: 5, ncost: 654224618.399463\n",
      "Run: 6, iteration: 9/30, moves: 3, ncost: 654183256.6353972\n",
      "Run: 6, iteration: 10/30, moves: 1, ncost: 654177280.9147999\n",
      "Run: 6, iteration: 11/30, moves: 0, ncost: 654177280.9147999\n",
      "Init: initializing centroids\n",
      "Init: initializing clusters\n",
      "Starting iterations...\n",
      "Run: 7, iteration: 1/30, moves: 94, ncost: 685932547.3114499\n",
      "Run: 7, iteration: 2/30, moves: 47, ncost: 655713077.404479\n",
      "Run: 7, iteration: 3/30, moves: 13, ncost: 654177892.7605602\n",
      "Run: 7, iteration: 4/30, moves: 0, ncost: 654177892.7605602\n",
      "Init: initializing centroids\n",
      "Init: initializing clusters\n",
      "Starting iterations...\n",
      "Run: 8, iteration: 1/30, moves: 217, ncost: 950149819.6868534\n",
      "Run: 8, iteration: 2/30, moves: 92, ncost: 749532152.268504\n",
      "Run: 8, iteration: 3/30, moves: 49, ncost: 683520554.5121642\n",
      "Run: 8, iteration: 4/30, moves: 36, ncost: 665175662.6012938\n",
      "Run: 8, iteration: 5/30, moves: 31, ncost: 654687382.1650755\n",
      "Run: 8, iteration: 6/30, moves: 6, ncost: 654296597.6066667\n",
      "Run: 8, iteration: 7/30, moves: 3, ncost: 654206816.1119487\n",
      "Run: 8, iteration: 8/30, moves: 2, ncost: 654183256.6353972\n",
      "Run: 8, iteration: 9/30, moves: 1, ncost: 654177280.9147999\n",
      "Run: 8, iteration: 10/30, moves: 0, ncost: 654177280.9147999\n",
      "Init: initializing centroids\n",
      "Init: initializing clusters\n",
      "Starting iterations...\n",
      "Run: 9, iteration: 1/30, moves: 180, ncost: 1182956700.7776487\n",
      "Run: 9, iteration: 2/30, moves: 150, ncost: 1050572741.9840877\n",
      "Run: 9, iteration: 3/30, moves: 119, ncost: 891086712.6112487\n",
      "Run: 9, iteration: 4/30, moves: 114, ncost: 735594498.1293006\n",
      "Run: 9, iteration: 5/30, moves: 76, ncost: 681490915.1544868\n",
      "Run: 9, iteration: 6/30, moves: 39, ncost: 667036237.0545605\n",
      "Run: 9, iteration: 7/30, moves: 39, ncost: 654921118.0490835\n",
      "Run: 9, iteration: 8/30, moves: 9, ncost: 654296597.6066667\n",
      "Run: 9, iteration: 9/30, moves: 3, ncost: 654206816.1119487\n",
      "Run: 9, iteration: 10/30, moves: 2, ncost: 654183256.6353972\n",
      "Run: 9, iteration: 11/30, moves: 1, ncost: 654177280.9147999\n",
      "Run: 9, iteration: 12/30, moves: 0, ncost: 654177280.9147999\n",
      "Init: initializing centroids\n",
      "Init: initializing clusters\n",
      "Init: initializing centroids\n",
      "Init: initializing clusters\n",
      "Starting iterations...\n",
      "Run: 10, iteration: 1/30, moves: 42, ncost: 687904091.9583604\n",
      "Run: 10, iteration: 2/30, moves: 21, ncost: 662666636.3389032\n",
      "Run: 10, iteration: 3/30, moves: 18, ncost: 654632528.4145564\n",
      "Run: 10, iteration: 4/30, moves: 7, ncost: 654224618.399463\n",
      "Run: 10, iteration: 5/30, moves: 3, ncost: 654183256.6353972\n",
      "Run: 10, iteration: 6/30, moves: 1, ncost: 654177280.9147999\n",
      "Run: 10, iteration: 7/30, moves: 0, ncost: 654177280.9147999\n",
      "Best run was number 1\n"
     ]
    }
   ],
   "source": [
    "clusters=kproto.fit_predict(df_array,categorical=[0,1,3,4,6,7,9,10,12,14,15,17,19,20])"
   ]
  },
  {
   "cell_type": "code",
   "execution_count": 137,
   "metadata": {},
   "outputs": [
    {
     "name": "stdout",
     "output_type": "stream",
     "text": [
      "[array([[4.02619048e+01, 1.25117143e+04, 2.35714286e+00, 2.97619048e+00,\n",
      "        3.66666667e+01, 1.40476190e+00, 1.14285714e+00],\n",
      "       [3.33461538e+01, 7.12752308e+03, 2.53846154e+00, 2.85384615e+00,\n",
      "        3.68000000e+01, 1.48461538e+00, 1.17692308e+00],\n",
      "       [1.50607735e+01, 1.46933702e+03, 3.26151013e+00, 2.79926335e+00,\n",
      "        3.56169429e+01, 1.40515654e+00, 1.13259669e+00],\n",
      "       [2.35052632e+01, 3.58360702e+03, 2.71228070e+00, 2.90877193e+00,\n",
      "        3.46596491e+01, 1.37543860e+00, 1.18947368e+00]]), array([['0', '0 <= .. <200DM', 'all credits paid back duly til now',\n",
      "        'car(new)', '..<100 DM', '1 <= ... < 4 years', 'male : single',\n",
      "        'None', 'unknown/noproperty', 'none', 'own',\n",
      "        'management/ self-employed/highly',\n",
      "        'yes, registered under the customers name', 'Yes'],\n",
      "       ['1', 'no chking acc', 'all credits paid back duly til now',\n",
      "        'car(old)', '..<100 DM', '1 <= ... < 4 years', 'male : single',\n",
      "        'None', 'if not A121/A122 : car or other, not in attribute 6',\n",
      "        'none', 'own', ': skilled employee / official',\n",
      "        'yes, registered under the customers name', 'Yes'],\n",
      "       ['1', 'no chking acc', 'all credits paid back duly til now',\n",
      "        'radio/television', '..<100 DM', '1 <= ... < 4 years',\n",
      "        'male : single', 'None', 'real_estate', 'none', 'own',\n",
      "        ': skilled employee / official', 'No', 'Yes'],\n",
      "       ['1', 'no chking acc', 'all credits paid back duly til now',\n",
      "        'furniture/equipment', '..<100 DM', '1 <= ... < 4 years',\n",
      "        'male : single', 'None',\n",
      "        'if not A121/A122 : car or other, not in attribute 6', 'none',\n",
      "        'own', ': skilled employee / official', 'No', 'Yes']],\n",
      "      dtype='<U51')]\n"
     ]
    }
   ],
   "source": [
    "print(kproto.cluster_centroids_)"
   ]
  },
  {
   "cell_type": "code",
   "execution_count": 138,
   "metadata": {
    "scrolled": true
   },
   "outputs": [
    {
     "name": "stdout",
     "output_type": "stream",
     "text": [
      "Init: initializing centroids\n",
      "Init: initializing clusters\n",
      "Starting iterations...\n",
      "Run: 1, iteration: 1/50, moves: 0, ncost: 7964648426.634495\n",
      "Init: initializing centroids\n",
      "Init: initializing clusters\n",
      "Starting iterations...\n",
      "Run: 2, iteration: 1/50, moves: 0, ncost: 7964648426.634495\n",
      "Init: initializing centroids\n",
      "Init: initializing clusters\n",
      "Starting iterations...\n",
      "Run: 3, iteration: 1/50, moves: 0, ncost: 7964648426.634495\n",
      "Init: initializing centroids\n",
      "Init: initializing clusters\n",
      "Starting iterations...\n",
      "Run: 4, iteration: 1/50, moves: 0, ncost: 7964648426.634495\n",
      "Init: initializing centroids\n",
      "Init: initializing clusters\n",
      "Starting iterations...\n",
      "Run: 5, iteration: 1/50, moves: 0, ncost: 7964648426.634495\n",
      "Init: initializing centroids\n",
      "Init: initializing clusters\n",
      "Starting iterations...\n",
      "Run: 6, iteration: 1/50, moves: 0, ncost: 7964648426.634495\n",
      "Init: initializing centroids\n",
      "Init: initializing clusters\n",
      "Starting iterations...\n",
      "Run: 7, iteration: 1/50, moves: 0, ncost: 7964648426.634495\n",
      "Init: initializing centroids\n",
      "Init: initializing clusters\n",
      "Starting iterations...\n",
      "Run: 8, iteration: 1/50, moves: 0, ncost: 7964648426.634495\n",
      "Init: initializing centroids\n",
      "Init: initializing clusters\n",
      "Starting iterations...\n",
      "Run: 9, iteration: 1/50, moves: 0, ncost: 7964648426.634495\n",
      "Init: initializing centroids\n",
      "Init: initializing clusters\n",
      "Starting iterations...\n",
      "Run: 10, iteration: 1/50, moves: 0, ncost: 7964648426.634495\n",
      "Best run was number 1\n",
      "Init: initializing centroids\n",
      "Init: initializing clusters\n",
      "Starting iterations...\n",
      "Run: 1, iteration: 1/50, moves: 51, ncost: 2425291579.617741\n",
      "Run: 1, iteration: 2/50, moves: 19, ncost: 2409934217.686522\n",
      "Run: 1, iteration: 3/50, moves: 1, ncost: 2409867101.6321034\n",
      "Run: 1, iteration: 4/50, moves: 0, ncost: 2409867101.6321034\n",
      "Init: initializing centroids\n",
      "Init: initializing clusters\n",
      "Starting iterations...\n",
      "Run: 2, iteration: 1/50, moves: 46, ncost: 2427059211.542636\n",
      "Run: 2, iteration: 2/50, moves: 16, ncost: 2410250338.192336\n",
      "Run: 2, iteration: 3/50, moves: 2, ncost: 2409925810.225501\n",
      "Run: 2, iteration: 4/50, moves: 1, ncost: 2409857779.0667257\n",
      "Run: 2, iteration: 5/50, moves: 0, ncost: 2409857779.0667257\n",
      "Init: initializing centroids\n",
      "Init: initializing clusters\n",
      "Init: initializing centroids\n",
      "Init: initializing clusters\n",
      "Starting iterations...\n",
      "Run: 3, iteration: 1/50, moves: 156, ncost: 2546147019.2787476\n",
      "Run: 3, iteration: 2/50, moves: 49, ncost: 2420850868.6822114\n",
      "Run: 3, iteration: 3/50, moves: 15, ncost: 2409934217.686522\n",
      "Run: 3, iteration: 4/50, moves: 1, ncost: 2409867101.6321034\n",
      "Run: 3, iteration: 5/50, moves: 0, ncost: 2409867101.6321034\n",
      "Init: initializing centroids\n",
      "Init: initializing clusters\n",
      "Starting iterations...\n",
      "Run: 4, iteration: 1/50, moves: 52, ncost: 2439891981.5650535\n",
      "Run: 4, iteration: 2/50, moves: 22, ncost: 2410250338.192336\n",
      "Run: 4, iteration: 3/50, moves: 2, ncost: 2409925810.225501\n",
      "Run: 4, iteration: 4/50, moves: 1, ncost: 2409857779.0667257\n",
      "Run: 4, iteration: 5/50, moves: 0, ncost: 2409857779.0667257\n",
      "Init: initializing centroids\n",
      "Init: initializing clusters\n",
      "Starting iterations...\n",
      "Run: 5, iteration: 1/50, moves: 58, ncost: 2429230352.7420645\n",
      "Run: 5, iteration: 2/50, moves: 17, ncost: 2411801829.641098\n",
      "Run: 5, iteration: 3/50, moves: 5, ncost: 2409934217.686522\n",
      "Run: 5, iteration: 4/50, moves: 1, ncost: 2409867101.6321034\n",
      "Run: 5, iteration: 5/50, moves: 0, ncost: 2409867101.6321034\n",
      "Init: initializing centroids\n",
      "Init: initializing clusters\n",
      "Starting iterations...\n",
      "Run: 6, iteration: 1/50, moves: 451, ncost: 3349765688.8562083\n",
      "Run: 6, iteration: 2/50, moves: 173, ncost: 2533965156.7609253\n",
      "Run: 6, iteration: 3/50, moves: 48, ncost: 2417693524.659884\n",
      "Run: 6, iteration: 4/50, moves: 12, ncost: 2409934217.686522\n",
      "Run: 6, iteration: 5/50, moves: 1, ncost: 2409867101.6321034\n",
      "Run: 6, iteration: 6/50, moves: 0, ncost: 2409867101.6321034\n",
      "Init: initializing centroids\n",
      "Init: initializing clusters\n",
      "Starting iterations...\n",
      "Run: 7, iteration: 1/50, moves: 11, ncost: 2410886171.305133\n",
      "Run: 7, iteration: 2/50, moves: 3, ncost: 2409934217.686522\n",
      "Run: 7, iteration: 3/50, moves: 1, ncost: 2409867101.6321034\n",
      "Run: 7, iteration: 4/50, moves: 0, ncost: 2409867101.6321034\n",
      "Init: initializing centroids\n",
      "Init: initializing clusters\n",
      "Starting iterations...\n",
      "Run: 8, iteration: 1/50, moves: 0, ncost: 2409867101.6321034\n",
      "Init: initializing centroids\n",
      "Init: initializing clusters\n",
      "Starting iterations...\n",
      "Run: 9, iteration: 1/50, moves: 44, ncost: 2419734468.083818\n",
      "Run: 9, iteration: 2/50, moves: 14, ncost: 2409934217.686522\n",
      "Run: 9, iteration: 3/50, moves: 1, ncost: 2409867101.6321034\n",
      "Run: 9, iteration: 4/50, moves: 0, ncost: 2409867101.6321034\n",
      "Init: initializing centroids\n",
      "Init: initializing clusters\n",
      "Starting iterations...\n",
      "Run: 10, iteration: 1/50, moves: 419, ncost: 3227200813.3555183\n",
      "Run: 10, iteration: 2/50, moves: 157, ncost: 2509628545.3824697\n",
      "Run: 10, iteration: 3/50, moves: 42, ncost: 2416601136.142026\n",
      "Run: 10, iteration: 4/50, moves: 11, ncost: 2409934217.686522\n",
      "Run: 10, iteration: 5/50, moves: 1, ncost: 2409867101.6321034\n",
      "Run: 10, iteration: 6/50, moves: 0, ncost: 2409867101.6321034\n",
      "Best run was number 2\n",
      "Init: initializing centroids\n",
      "Init: initializing clusters\n",
      "Starting iterations...\n",
      "Run: 1, iteration: 1/50, moves: 149, ncost: 1544727808.8484046\n",
      "Run: 1, iteration: 2/50, moves: 104, ncost: 1446042882.6464622\n",
      "Run: 1, iteration: 3/50, moves: 65, ncost: 1382418451.2407553\n",
      "Run: 1, iteration: 4/50, moves: 44, ncost: 1353537615.6188295\n",
      "Run: 1, iteration: 5/50, moves: 27, ncost: 1343282711.3758082\n",
      "Run: 1, iteration: 6/50, moves: 20, ncost: 1334430528.2695034\n",
      "Run: 1, iteration: 7/50, moves: 17, ncost: 1321212351.0053113\n",
      "Run: 1, iteration: 8/50, moves: 13, ncost: 1314151500.799642\n",
      "Run: 1, iteration: 9/50, moves: 12, ncost: 1307169599.2884698\n",
      "Run: 1, iteration: 10/50, moves: 15, ncost: 1299988748.8258662\n",
      "Run: 1, iteration: 11/50, moves: 15, ncost: 1296172032.6059947\n",
      "Run: 1, iteration: 12/50, moves: 5, ncost: 1295758525.3216076\n",
      "Run: 1, iteration: 13/50, moves: 5, ncost: 1295225528.9700086\n",
      "Run: 1, iteration: 14/50, moves: 13, ncost: 1290313786.1448214\n",
      "Run: 1, iteration: 15/50, moves: 13, ncost: 1284682385.9551241\n",
      "Run: 1, iteration: 16/50, moves: 4, ncost: 1284252956.572404\n",
      "Run: 1, iteration: 17/50, moves: 2, ncost: 1283714471.2024179\n",
      "Run: 1, iteration: 18/50, moves: 5, ncost: 1282605005.3781497\n",
      "Run: 1, iteration: 19/50, moves: 2, ncost: 1282556886.03138\n",
      "Run: 1, iteration: 20/50, moves: 0, ncost: 1282556886.03138\n",
      "Init: initializing centroids\n",
      "Init: initializing clusters\n",
      "Starting iterations...\n",
      "Run: 2, iteration: 1/50, moves: 122, ncost: 1392007102.8307414\n",
      "Run: 2, iteration: 2/50, moves: 30, ncost: 1353845732.6945283\n",
      "Run: 2, iteration: 3/50, moves: 25, ncost: 1343282711.3758082\n",
      "Run: 2, iteration: 4/50, moves: 20, ncost: 1334430528.2695034\n",
      "Run: 2, iteration: 5/50, moves: 17, ncost: 1321212351.0053113\n",
      "Run: 2, iteration: 6/50, moves: 13, ncost: 1314151500.799642\n",
      "Run: 2, iteration: 7/50, moves: 12, ncost: 1307169599.2884698\n",
      "Run: 2, iteration: 8/50, moves: 15, ncost: 1299988748.8258662\n",
      "Run: 2, iteration: 9/50, moves: 15, ncost: 1296172032.6059947\n",
      "Run: 2, iteration: 10/50, moves: 5, ncost: 1295758525.3216076\n",
      "Run: 2, iteration: 11/50, moves: 5, ncost: 1295225528.9700086\n",
      "Run: 2, iteration: 12/50, moves: 13, ncost: 1290313786.1448214\n",
      "Run: 2, iteration: 13/50, moves: 13, ncost: 1284682385.9551241\n",
      "Run: 2, iteration: 14/50, moves: 4, ncost: 1284252956.572404\n",
      "Run: 2, iteration: 15/50, moves: 2, ncost: 1283714471.2024179\n",
      "Run: 2, iteration: 16/50, moves: 5, ncost: 1282605005.3781497\n",
      "Run: 2, iteration: 17/50, moves: 2, ncost: 1282556886.03138\n",
      "Run: 2, iteration: 18/50, moves: 0, ncost: 1282556886.03138\n",
      "Init: initializing centroids\n",
      "Init: initializing clusters\n",
      "Starting iterations...\n",
      "Run: 3, iteration: 1/50, moves: 206, ncost: 1384937344.7483015\n",
      "Run: 3, iteration: 2/50, moves: 39, ncost: 1351136922.3934634\n",
      "Run: 3, iteration: 3/50, moves: 19, ncost: 1342634221.6274695\n",
      "Run: 3, iteration: 4/50, moves: 18, ncost: 1334430528.2695034\n",
      "Run: 3, iteration: 5/50, moves: 17, ncost: 1321212351.0053113\n",
      "Run: 3, iteration: 6/50, moves: 13, ncost: 1314151500.799642\n",
      "Run: 3, iteration: 7/50, moves: 12, ncost: 1307169599.2884698\n",
      "Run: 3, iteration: 8/50, moves: 15, ncost: 1299988748.8258662\n",
      "Run: 3, iteration: 9/50, moves: 15, ncost: 1296172032.6059947\n"
     ]
    },
    {
     "name": "stdout",
     "output_type": "stream",
     "text": [
      "Run: 3, iteration: 10/50, moves: 5, ncost: 1295758525.3216076\n",
      "Run: 3, iteration: 11/50, moves: 5, ncost: 1295225528.9700086\n",
      "Run: 3, iteration: 12/50, moves: 13, ncost: 1290313786.1448214\n",
      "Run: 3, iteration: 13/50, moves: 13, ncost: 1284682385.9551241\n",
      "Run: 3, iteration: 14/50, moves: 4, ncost: 1284252956.572404\n",
      "Run: 3, iteration: 15/50, moves: 2, ncost: 1283714471.2024179\n",
      "Run: 3, iteration: 16/50, moves: 5, ncost: 1282605005.3781497\n",
      "Run: 3, iteration: 17/50, moves: 2, ncost: 1282556886.03138\n",
      "Run: 3, iteration: 18/50, moves: 0, ncost: 1282556886.03138\n",
      "Init: initializing centroids\n",
      "Init: initializing clusters\n",
      "Starting iterations...\n",
      "Run: 4, iteration: 1/50, moves: 402, ncost: 2389979845.680226\n",
      "Run: 4, iteration: 2/50, moves: 310, ncost: 1642219815.035765\n",
      "Run: 4, iteration: 3/50, moves: 123, ncost: 1504879490.119932\n",
      "Run: 4, iteration: 4/50, moves: 88, ncost: 1419811696.661475\n",
      "Run: 4, iteration: 5/50, moves: 53, ncost: 1372038968.2260287\n",
      "Run: 4, iteration: 6/50, moves: 33, ncost: 1351991281.590507\n",
      "Run: 4, iteration: 7/50, moves: 24, ncost: 1342634221.6274695\n",
      "Run: 4, iteration: 8/50, moves: 18, ncost: 1334430528.2695034\n",
      "Run: 4, iteration: 9/50, moves: 17, ncost: 1321212351.0053113\n",
      "Run: 4, iteration: 10/50, moves: 13, ncost: 1314151500.799642\n",
      "Run: 4, iteration: 11/50, moves: 12, ncost: 1307169599.2884698\n",
      "Run: 4, iteration: 12/50, moves: 15, ncost: 1299988748.8258662\n",
      "Run: 4, iteration: 13/50, moves: 15, ncost: 1296172032.6059947\n",
      "Run: 4, iteration: 14/50, moves: 5, ncost: 1295758525.3216076\n",
      "Run: 4, iteration: 15/50, moves: 5, ncost: 1295225528.9700086\n",
      "Run: 4, iteration: 16/50, moves: 13, ncost: 1290313786.1448214\n",
      "Run: 4, iteration: 17/50, moves: 13, ncost: 1284682385.9551241\n",
      "Run: 4, iteration: 18/50, moves: 4, ncost: 1284252956.572404\n",
      "Run: 4, iteration: 19/50, moves: 2, ncost: 1283714471.2024179\n",
      "Run: 4, iteration: 20/50, moves: 5, ncost: 1282605005.3781497\n",
      "Run: 4, iteration: 21/50, moves: 2, ncost: 1282556886.03138\n",
      "Run: 4, iteration: 22/50, moves: 0, ncost: 1282556886.03138\n",
      "Init: initializing centroids\n",
      "Init: initializing clusters\n",
      "Starting iterations...\n",
      "Run: 5, iteration: 1/50, moves: 269, ncost: 1777340044.7614791\n",
      "Run: 5, iteration: 2/50, moves: 151, ncost: 1520580208.3586004\n",
      "Run: 5, iteration: 3/50, moves: 91, ncost: 1429473769.685098\n",
      "Run: 5, iteration: 4/50, moves: 61, ncost: 1372961613.386049\n",
      "Run: 5, iteration: 5/50, moves: 35, ncost: 1351991281.590507\n",
      "Run: 5, iteration: 6/50, moves: 24, ncost: 1342634221.6274695\n",
      "Run: 5, iteration: 7/50, moves: 18, ncost: 1334430528.2695034\n",
      "Run: 5, iteration: 8/50, moves: 17, ncost: 1321212351.0053113\n",
      "Run: 5, iteration: 9/50, moves: 13, ncost: 1314151500.799642\n",
      "Run: 5, iteration: 10/50, moves: 12, ncost: 1307169599.2884698\n",
      "Run: 5, iteration: 11/50, moves: 15, ncost: 1299988748.8258662\n",
      "Run: 5, iteration: 12/50, moves: 15, ncost: 1296172032.6059947\n",
      "Run: 5, iteration: 13/50, moves: 5, ncost: 1295758525.3216076\n",
      "Run: 5, iteration: 14/50, moves: 5, ncost: 1295225528.9700086\n",
      "Run: 5, iteration: 15/50, moves: 13, ncost: 1290313786.1448214\n",
      "Run: 5, iteration: 16/50, moves: 13, ncost: 1284682385.9551241\n",
      "Run: 5, iteration: 17/50, moves: 4, ncost: 1284252956.572404\n",
      "Run: 5, iteration: 18/50, moves: 2, ncost: 1283714471.2024179\n",
      "Run: 5, iteration: 19/50, moves: 5, ncost: 1282605005.3781497\n",
      "Run: 5, iteration: 20/50, moves: 2, ncost: 1282556886.03138\n",
      "Run: 5, iteration: 21/50, moves: 0, ncost: 1282556886.03138\n",
      "Init: initializing centroids\n",
      "Init: initializing clusters\n",
      "Starting iterations...\n",
      "Run: 6, iteration: 1/50, moves: 166, ncost: 1551579767.2181466\n",
      "Run: 6, iteration: 2/50, moves: 80, ncost: 1458318082.962783\n",
      "Run: 6, iteration: 3/50, moves: 48, ncost: 1397872785.0025752\n",
      "Run: 6, iteration: 4/50, moves: 48, ncost: 1358253073.513842\n",
      "Run: 6, iteration: 5/50, moves: 27, ncost: 1347985313.4353974\n",
      "Run: 6, iteration: 6/50, moves: 21, ncost: 1338565109.1696432\n",
      "Run: 6, iteration: 7/50, moves: 22, ncost: 1325307026.1527948\n",
      "Run: 6, iteration: 8/50, moves: 13, ncost: 1318331480.4057484\n",
      "Run: 6, iteration: 9/50, moves: 7, ncost: 1313411093.257108\n",
      "Run: 6, iteration: 10/50, moves: 12, ncost: 1306192729.9647436\n",
      "Run: 6, iteration: 11/50, moves: 17, ncost: 1299207994.414502\n",
      "Run: 6, iteration: 12/50, moves: 13, ncost: 1296051732.0422652\n",
      "Run: 6, iteration: 13/50, moves: 4, ncost: 1295758525.3216076\n",
      "Run: 6, iteration: 14/50, moves: 5, ncost: 1295225528.9700086\n",
      "Run: 6, iteration: 15/50, moves: 13, ncost: 1290313786.1448214\n",
      "Run: 6, iteration: 16/50, moves: 13, ncost: 1284682385.9551241\n",
      "Run: 6, iteration: 17/50, moves: 4, ncost: 1284252956.572404\n",
      "Run: 6, iteration: 18/50, moves: 2, ncost: 1283714471.2024179\n",
      "Run: 6, iteration: 19/50, moves: 5, ncost: 1282605005.3781497\n",
      "Run: 6, iteration: 20/50, moves: 2, ncost: 1282556886.03138\n",
      "Run: 6, iteration: 21/50, moves: 0, ncost: 1282556886.03138\n",
      "Init: initializing centroids\n",
      "Init: initializing clusters\n",
      "Starting iterations...\n",
      "Run: 7, iteration: 1/50, moves: 204, ncost: 1405596239.4820397\n",
      "Run: 7, iteration: 2/50, moves: 34, ncost: 1358668882.1932588\n",
      "Run: 7, iteration: 3/50, moves: 22, ncost: 1347985313.4353974\n",
      "Run: 7, iteration: 4/50, moves: 21, ncost: 1338565109.1696432\n",
      "Run: 7, iteration: 5/50, moves: 22, ncost: 1325307026.1527948\n",
      "Run: 7, iteration: 6/50, moves: 13, ncost: 1318331480.4057484\n",
      "Run: 7, iteration: 7/50, moves: 7, ncost: 1313411093.257108\n",
      "Run: 7, iteration: 8/50, moves: 12, ncost: 1306192729.9647436\n",
      "Run: 7, iteration: 9/50, moves: 17, ncost: 1299207994.414502\n",
      "Run: 7, iteration: 10/50, moves: 13, ncost: 1296051732.0422652\n",
      "Run: 7, iteration: 11/50, moves: 4, ncost: 1295758525.3216076\n",
      "Run: 7, iteration: 12/50, moves: 5, ncost: 1295225528.9700086\n",
      "Run: 7, iteration: 13/50, moves: 13, ncost: 1290313786.1448214\n",
      "Run: 7, iteration: 14/50, moves: 13, ncost: 1284682385.9551241\n",
      "Run: 7, iteration: 15/50, moves: 4, ncost: 1284252956.572404\n",
      "Run: 7, iteration: 16/50, moves: 2, ncost: 1283714471.2024179\n",
      "Run: 7, iteration: 17/50, moves: 5, ncost: 1282605005.3781497\n",
      "Run: 7, iteration: 18/50, moves: 2, ncost: 1282556886.03138\n",
      "Run: 7, iteration: 19/50, moves: 0, ncost: 1282556886.03138\n",
      "Init: initializing centroids\n",
      "Init: initializing clusters\n",
      "Starting iterations...\n",
      "Run: 8, iteration: 1/50, moves: 181, ncost: 1395488368.165062\n",
      "Run: 8, iteration: 2/50, moves: 31, ncost: 1353346447.9132776\n",
      "Run: 8, iteration: 3/50, moves: 23, ncost: 1343282711.3758082\n",
      "Run: 8, iteration: 4/50, moves: 20, ncost: 1334430528.2695034\n",
      "Run: 8, iteration: 5/50, moves: 17, ncost: 1321212351.0053113\n",
      "Run: 8, iteration: 6/50, moves: 13, ncost: 1314151500.799642\n",
      "Run: 8, iteration: 7/50, moves: 12, ncost: 1307169599.2884698\n",
      "Run: 8, iteration: 8/50, moves: 15, ncost: 1299988748.8258662\n",
      "Run: 8, iteration: 9/50, moves: 15, ncost: 1296172032.6059947\n",
      "Run: 8, iteration: 10/50, moves: 5, ncost: 1295758525.3216076\n",
      "Run: 8, iteration: 11/50, moves: 5, ncost: 1295225528.9700086\n",
      "Run: 8, iteration: 12/50, moves: 13, ncost: 1290313786.1448214\n",
      "Run: 8, iteration: 13/50, moves: 13, ncost: 1284682385.9551241\n",
      "Run: 8, iteration: 14/50, moves: 4, ncost: 1284252956.572404\n",
      "Run: 8, iteration: 15/50, moves: 2, ncost: 1283714471.2024179\n",
      "Run: 8, iteration: 16/50, moves: 5, ncost: 1282605005.3781497\n",
      "Run: 8, iteration: 17/50, moves: 2, ncost: 1282556886.03138\n",
      "Run: 8, iteration: 18/50, moves: 0, ncost: 1282556886.03138\n",
      "Init: initializing centroids\n",
      "Init: initializing clusters\n",
      "Starting iterations...\n",
      "Run: 9, iteration: 1/50, moves: 114, ncost: 1529685392.1364694\n",
      "Run: 9, iteration: 2/50, moves: 92, ncost: 1435441177.3720684\n",
      "Run: 9, iteration: 3/50, moves: 58, ncost: 1378219926.5610857\n",
      "Run: 9, iteration: 4/50, moves: 41, ncost: 1352578061.101125\n",
      "Run: 9, iteration: 5/50, moves: 24, ncost: 1343282711.3758082\n",
      "Run: 9, iteration: 6/50, moves: 20, ncost: 1334430528.2695034\n",
      "Run: 9, iteration: 7/50, moves: 17, ncost: 1321212351.0053113\n",
      "Run: 9, iteration: 8/50, moves: 13, ncost: 1314151500.799642\n",
      "Run: 9, iteration: 9/50, moves: 12, ncost: 1307169599.2884698\n",
      "Run: 9, iteration: 10/50, moves: 15, ncost: 1299988748.8258662\n",
      "Run: 9, iteration: 11/50, moves: 15, ncost: 1296172032.6059947\n",
      "Run: 9, iteration: 12/50, moves: 5, ncost: 1295758525.3216076\n",
      "Run: 9, iteration: 13/50, moves: 5, ncost: 1295225528.9700086\n",
      "Run: 9, iteration: 14/50, moves: 13, ncost: 1290313786.1448214\n",
      "Run: 9, iteration: 15/50, moves: 13, ncost: 1284682385.9551241\n",
      "Run: 9, iteration: 16/50, moves: 4, ncost: 1284252956.572404\n",
      "Run: 9, iteration: 17/50, moves: 2, ncost: 1283714471.2024179\n",
      "Run: 9, iteration: 18/50, moves: 5, ncost: 1282605005.3781497\n"
     ]
    },
    {
     "name": "stdout",
     "output_type": "stream",
     "text": [
      "Run: 9, iteration: 19/50, moves: 2, ncost: 1282556886.03138\n",
      "Run: 9, iteration: 20/50, moves: 0, ncost: 1282556886.03138\n",
      "Init: initializing centroids\n",
      "Init: initializing clusters\n",
      "Starting iterations...\n",
      "Run: 10, iteration: 1/50, moves: 69, ncost: 1431656408.2943037\n",
      "Run: 10, iteration: 2/50, moves: 58, ncost: 1374667843.9507766\n",
      "Run: 10, iteration: 3/50, moves: 36, ncost: 1351991281.590507\n",
      "Run: 10, iteration: 4/50, moves: 24, ncost: 1342634221.6274695\n",
      "Run: 10, iteration: 5/50, moves: 18, ncost: 1334430528.2695034\n",
      "Run: 10, iteration: 6/50, moves: 17, ncost: 1321212351.0053113\n",
      "Run: 10, iteration: 7/50, moves: 13, ncost: 1314151500.799642\n",
      "Run: 10, iteration: 8/50, moves: 12, ncost: 1307169599.2884698\n",
      "Run: 10, iteration: 9/50, moves: 15, ncost: 1299988748.8258662\n",
      "Run: 10, iteration: 10/50, moves: 15, ncost: 1296172032.6059947\n",
      "Run: 10, iteration: 11/50, moves: 5, ncost: 1295758525.3216076\n",
      "Run: 10, iteration: 12/50, moves: 5, ncost: 1295225528.9700086\n",
      "Run: 10, iteration: 13/50, moves: 13, ncost: 1290313786.1448214\n",
      "Run: 10, iteration: 14/50, moves: 13, ncost: 1284682385.9551241\n",
      "Run: 10, iteration: 15/50, moves: 4, ncost: 1284252956.572404\n",
      "Run: 10, iteration: 16/50, moves: 2, ncost: 1283714471.2024179\n",
      "Run: 10, iteration: 17/50, moves: 5, ncost: 1282605005.3781497\n",
      "Run: 10, iteration: 18/50, moves: 2, ncost: 1282556886.03138\n",
      "Run: 10, iteration: 19/50, moves: 0, ncost: 1282556886.03138\n",
      "Best run was number 1\n",
      "Init: initializing centroids\n",
      "Init: initializing clusters\n",
      "Init: initializing centroids\n",
      "Init: initializing clusters\n",
      "Init: initializing centroids\n",
      "Init: initializing clusters\n",
      "Init: initializing centroids\n",
      "Init: initializing clusters\n",
      "Starting iterations...\n",
      "Run: 1, iteration: 1/50, moves: 94, ncost: 1039980964.597075\n",
      "Run: 1, iteration: 2/50, moves: 101, ncost: 868522428.5618476\n",
      "Run: 1, iteration: 3/50, moves: 97, ncost: 730730754.8386503\n",
      "Run: 1, iteration: 4/50, moves: 68, ncost: 680311522.674394\n",
      "Run: 1, iteration: 5/50, moves: 36, ncost: 666510327.7485837\n",
      "Run: 1, iteration: 6/50, moves: 36, ncost: 654921118.0490835\n",
      "Run: 1, iteration: 7/50, moves: 9, ncost: 654296597.6066667\n",
      "Run: 1, iteration: 8/50, moves: 3, ncost: 654206816.1119487\n",
      "Run: 1, iteration: 9/50, moves: 2, ncost: 654183256.6353972\n",
      "Run: 1, iteration: 10/50, moves: 1, ncost: 654177280.9147999\n",
      "Run: 1, iteration: 11/50, moves: 0, ncost: 654177280.9147999\n",
      "Init: initializing centroids\n",
      "Init: initializing clusters\n",
      "Init: initializing centroids\n",
      "Init: initializing clusters\n",
      "Starting iterations...\n",
      "Run: 2, iteration: 1/50, moves: 152, ncost: 703821972.8311421\n",
      "Run: 2, iteration: 2/50, moves: 36, ncost: 663388629.1651851\n",
      "Run: 2, iteration: 3/50, moves: 16, ncost: 654632528.4145564\n",
      "Run: 2, iteration: 4/50, moves: 7, ncost: 654224618.399463\n",
      "Run: 2, iteration: 5/50, moves: 3, ncost: 654183256.6353972\n",
      "Run: 2, iteration: 6/50, moves: 1, ncost: 654177280.9147999\n",
      "Run: 2, iteration: 7/50, moves: 0, ncost: 654177280.9147999\n",
      "Init: initializing centroids\n",
      "Init: initializing clusters\n",
      "Starting iterations...\n",
      "Run: 3, iteration: 1/50, moves: 426, ncost: 1919661593.613044\n",
      "Run: 3, iteration: 2/50, moves: 293, ncost: 1470274567.7169662\n",
      "Run: 3, iteration: 3/50, moves: 211, ncost: 1287357191.7343802\n",
      "Run: 3, iteration: 4/50, moves: 205, ncost: 1117195289.8144412\n",
      "Run: 3, iteration: 5/50, moves: 135, ncost: 1006580011.8310785\n",
      "Run: 3, iteration: 6/50, moves: 122, ncost: 834298764.258629\n",
      "Run: 3, iteration: 7/50, moves: 91, ncost: 731536059.3560753\n",
      "Run: 3, iteration: 8/50, moves: 66, ncost: 681283822.0134001\n",
      "Run: 3, iteration: 9/50, moves: 38, ncost: 667036237.0545605\n",
      "Run: 3, iteration: 10/50, moves: 39, ncost: 654921118.0490835\n",
      "Run: 3, iteration: 11/50, moves: 9, ncost: 654296597.6066667\n",
      "Run: 3, iteration: 12/50, moves: 3, ncost: 654206816.1119487\n",
      "Run: 3, iteration: 13/50, moves: 2, ncost: 654183256.6353972\n",
      "Run: 3, iteration: 14/50, moves: 1, ncost: 654177280.9147999\n",
      "Run: 3, iteration: 15/50, moves: 0, ncost: 654177280.9147999\n",
      "Init: initializing centroids\n",
      "Init: initializing clusters\n",
      "Init: initializing centroids\n",
      "Init: initializing clusters\n",
      "Starting iterations...\n",
      "Run: 4, iteration: 1/50, moves: 122, ncost: 1275273904.6848567\n",
      "Run: 4, iteration: 2/50, moves: 97, ncost: 1076665404.539389\n",
      "Run: 4, iteration: 3/50, moves: 89, ncost: 963839789.2788488\n",
      "Run: 4, iteration: 4/50, moves: 121, ncost: 776363391.078621\n",
      "Run: 4, iteration: 5/50, moves: 81, ncost: 701612248.8293428\n",
      "Run: 4, iteration: 6/50, moves: 54, ncost: 669488677.1509472\n",
      "Run: 4, iteration: 7/50, moves: 40, ncost: 656824743.7562395\n",
      "Run: 4, iteration: 8/50, moves: 16, ncost: 654501302.8289453\n",
      "Run: 4, iteration: 9/50, moves: 6, ncost: 654224618.399463\n",
      "Run: 4, iteration: 10/50, moves: 3, ncost: 654183256.6353972\n",
      "Run: 4, iteration: 11/50, moves: 1, ncost: 654177280.9147999\n",
      "Run: 4, iteration: 12/50, moves: 0, ncost: 654177280.9147999\n",
      "Init: initializing centroids\n",
      "Init: initializing clusters\n",
      "Init: initializing centroids\n",
      "Init: initializing clusters\n",
      "Starting iterations...\n",
      "Run: 5, iteration: 1/50, moves: 145, ncost: 1079487836.1863227\n",
      "Run: 5, iteration: 2/50, moves: 91, ncost: 967505197.2100946\n",
      "Run: 5, iteration: 3/50, moves: 117, ncost: 784413864.5262669\n",
      "Run: 5, iteration: 4/50, moves: 77, ncost: 711532078.8621212\n",
      "Run: 5, iteration: 5/50, moves: 58, ncost: 674206177.8766056\n",
      "Run: 5, iteration: 6/50, moves: 38, ncost: 660577068.7261382\n",
      "Run: 5, iteration: 7/50, moves: 28, ncost: 654632528.4145564\n",
      "Run: 5, iteration: 8/50, moves: 7, ncost: 654224618.399463\n",
      "Run: 5, iteration: 9/50, moves: 3, ncost: 654183256.6353972\n",
      "Run: 5, iteration: 10/50, moves: 1, ncost: 654177280.9147999\n",
      "Run: 5, iteration: 11/50, moves: 0, ncost: 654177280.9147999\n",
      "Init: initializing centroids\n",
      "Init: initializing clusters\n",
      "Starting iterations...\n",
      "Run: 6, iteration: 1/50, moves: 215, ncost: 1323378690.790452\n",
      "Run: 6, iteration: 2/50, moves: 187, ncost: 1141900183.1427088\n",
      "Run: 6, iteration: 3/50, moves: 107, ncost: 1037509662.7255579\n",
      "Run: 6, iteration: 4/50, moves: 118, ncost: 876928996.362431\n",
      "Run: 6, iteration: 5/50, moves: 104, ncost: 734084150.2882329\n",
      "Run: 6, iteration: 6/50, moves: 71, ncost: 681490915.1544868\n",
      "Run: 6, iteration: 7/50, moves: 39, ncost: 667036237.0545605\n",
      "Run: 6, iteration: 8/50, moves: 39, ncost: 654921118.0490835\n",
      "Run: 6, iteration: 9/50, moves: 9, ncost: 654296597.6066667\n",
      "Run: 6, iteration: 10/50, moves: 3, ncost: 654206816.1119487\n",
      "Run: 6, iteration: 11/50, moves: 2, ncost: 654183256.6353972\n",
      "Run: 6, iteration: 12/50, moves: 1, ncost: 654177280.9147999\n",
      "Run: 6, iteration: 13/50, moves: 0, ncost: 654177280.9147999\n",
      "Init: initializing centroids\n",
      "Init: initializing clusters\n",
      "Starting iterations...\n",
      "Run: 7, iteration: 1/50, moves: 239, ncost: 778198562.1377305\n",
      "Run: 7, iteration: 2/50, moves: 88, ncost: 674968795.2431029\n",
      "Run: 7, iteration: 3/50, moves: 26, ncost: 656180471.8326576\n",
      "Run: 7, iteration: 4/50, moves: 7, ncost: 654296597.6066667\n",
      "Run: 7, iteration: 5/50, moves: 3, ncost: 654206816.1119487\n",
      "Run: 7, iteration: 6/50, moves: 2, ncost: 654183256.6353972\n",
      "Run: 7, iteration: 7/50, moves: 1, ncost: 654177280.9147999\n",
      "Run: 7, iteration: 8/50, moves: 0, ncost: 654177280.9147999\n",
      "Init: initializing centroids\n",
      "Init: initializing clusters\n",
      "Starting iterations...\n",
      "Run: 8, iteration: 1/50, moves: 211, ncost: 1276772662.174365\n",
      "Run: 8, iteration: 2/50, moves: 97, ncost: 1079572941.2234359\n",
      "Run: 8, iteration: 3/50, moves: 94, ncost: 952879951.389659\n",
      "Run: 8, iteration: 4/50, moves: 122, ncost: 763516605.1935071\n",
      "Run: 8, iteration: 5/50, moves: 78, ncost: 697025717.0158715\n",
      "Run: 8, iteration: 6/50, moves: 47, ncost: 669296793.1657494\n",
      "Run: 8, iteration: 7/50, moves: 40, ncost: 656455216.4044285\n",
      "Run: 8, iteration: 8/50, moves: 15, ncost: 654501302.8289453\n",
      "Run: 8, iteration: 9/50, moves: 6, ncost: 654224618.399463\n",
      "Run: 8, iteration: 10/50, moves: 3, ncost: 654183256.6353972\n",
      "Run: 8, iteration: 11/50, moves: 1, ncost: 654177280.9147999\n",
      "Run: 8, iteration: 12/50, moves: 0, ncost: 654177280.9147999\n",
      "Init: initializing centroids\n",
      "Init: initializing clusters\n",
      "Starting iterations...\n",
      "Run: 9, iteration: 1/50, moves: 113, ncost: 988342511.2563982\n",
      "Run: 9, iteration: 2/50, moves: 122, ncost: 804210774.9431009\n",
      "Run: 9, iteration: 3/50, moves: 84, ncost: 715803751.0577275\n",
      "Run: 9, iteration: 4/50, moves: 59, ncost: 675237763.6527883\n",
      "Run: 9, iteration: 5/50, moves: 35, ncost: 662104488.7915406\n",
      "Run: 9, iteration: 6/50, moves: 30, ncost: 654921118.0490835\n"
     ]
    },
    {
     "name": "stdout",
     "output_type": "stream",
     "text": [
      "Run: 9, iteration: 7/50, moves: 9, ncost: 654296597.6066667\n",
      "Run: 9, iteration: 8/50, moves: 3, ncost: 654206816.1119487\n",
      "Run: 9, iteration: 9/50, moves: 2, ncost: 654183256.6353972\n",
      "Run: 9, iteration: 10/50, moves: 1, ncost: 654177280.9147999\n",
      "Run: 9, iteration: 11/50, moves: 0, ncost: 654177280.9147999\n",
      "Init: initializing centroids\n",
      "Init: initializing clusters\n",
      "Starting iterations...\n",
      "Run: 10, iteration: 1/50, moves: 195, ncost: 1467952404.6222382\n",
      "Run: 10, iteration: 2/50, moves: 184, ncost: 1294400486.5448215\n",
      "Run: 10, iteration: 3/50, moves: 201, ncost: 1109056941.6722136\n",
      "Run: 10, iteration: 4/50, moves: 124, ncost: 998715436.784755\n",
      "Run: 10, iteration: 5/50, moves: 134, ncost: 801064357.1280621\n",
      "Run: 10, iteration: 6/50, moves: 86, ncost: 713076909.0650576\n",
      "Run: 10, iteration: 7/50, moves: 58, ncost: 675237763.6527883\n",
      "Run: 10, iteration: 8/50, moves: 35, ncost: 662104488.7915406\n",
      "Run: 10, iteration: 9/50, moves: 30, ncost: 654921118.0490835\n",
      "Run: 10, iteration: 10/50, moves: 9, ncost: 654296597.6066667\n",
      "Run: 10, iteration: 11/50, moves: 3, ncost: 654206816.1119487\n",
      "Run: 10, iteration: 12/50, moves: 2, ncost: 654183256.6353972\n",
      "Run: 10, iteration: 13/50, moves: 1, ncost: 654177280.9147999\n",
      "Run: 10, iteration: 14/50, moves: 0, ncost: 654177280.9147999\n",
      "Best run was number 1\n"
     ]
    }
   ],
   "source": [
    "#Choosing best value for clustering \n",
    "no_of_cluster=[]\n",
    "for i in range(1,5):\n",
    "    kproto=KPrototypes(n_clusters=i,verbose=1,max_iter=50)\n",
    "    kproto.fit_predict(df_array,categorical=[0,1,3,4,6,7,9,10,12,14,15,17,19,20])\n",
    "    no_of_cluster.append(kproto.cost_)\n",
    "    \n"
   ]
  },
  {
   "cell_type": "code",
   "execution_count": 139,
   "metadata": {},
   "outputs": [
    {
     "data": {
      "image/png": "[encoded data removed]",
      "text/plain": [
       "<Figure size 432x288 with 1 Axes>"
      ]
     },
     "metadata": {},
     "output_type": "display_data"
    }
   ],
   "source": [
    "#Lets plot the graph for clusters\n",
    "y=np.array([i for i in range(1,5)])\n",
    "plt.plot(y,no_of_cluster)\n",
    "plt.savefig('Elbow Graph',bbox_inches='tight')\n",
    "plt.show()\n",
    "#Taking 2 as the no of clusters "
   ]
  },
  {
   "cell_type": "code",
   "execution_count": 140,
   "metadata": {},
   "outputs": [
    {
     "name": "stdout",
     "output_type": "stream",
     "text": [
      "Init: initializing centroids\n",
      "Init: initializing clusters\n",
      "Starting iterations...\n",
      "Run: 1, iteration: 1/50, moves: 372, ncost: 3175491225.1331754\n",
      "Run: 1, iteration: 2/50, moves: 149, ncost: 2503492204.9547486\n",
      "Run: 1, iteration: 3/50, moves: 41, ncost: 2415612257.538436\n",
      "Run: 1, iteration: 4/50, moves: 10, ncost: 2409934217.686522\n",
      "Run: 1, iteration: 5/50, moves: 1, ncost: 2409867101.6321034\n",
      "Run: 1, iteration: 6/50, moves: 0, ncost: 2409867101.6321034\n",
      "Init: initializing centroids\n",
      "Init: initializing clusters\n",
      "Starting iterations...\n",
      "Run: 2, iteration: 1/50, moves: 44, ncost: 2419734468.083818\n",
      "Run: 2, iteration: 2/50, moves: 14, ncost: 2409934217.686522\n",
      "Run: 2, iteration: 3/50, moves: 1, ncost: 2409867101.6321034\n",
      "Run: 2, iteration: 4/50, moves: 0, ncost: 2409867101.6321034\n",
      "Init: initializing centroids\n",
      "Init: initializing clusters\n",
      "Starting iterations...\n",
      "Run: 3, iteration: 1/50, moves: 95, ncost: 2462622158.017878\n",
      "Run: 3, iteration: 2/50, moves: 29, ncost: 2414774184.9043846\n",
      "Run: 3, iteration: 3/50, moves: 9, ncost: 2409934217.686522\n",
      "Run: 3, iteration: 4/50, moves: 1, ncost: 2409867101.6321034\n",
      "Run: 3, iteration: 5/50, moves: 0, ncost: 2409867101.6321034\n",
      "Init: initializing centroids\n",
      "Init: initializing clusters\n",
      "Starting iterations...\n",
      "Run: 4, iteration: 1/50, moves: 158, ncost: 2556705284.0866485\n",
      "Run: 4, iteration: 2/50, moves: 52, ncost: 2420850868.6822114\n",
      "Run: 4, iteration: 3/50, moves: 15, ncost: 2409934217.686522\n",
      "Run: 4, iteration: 4/50, moves: 1, ncost: 2409867101.6321034\n",
      "Run: 4, iteration: 5/50, moves: 0, ncost: 2409867101.6321034\n",
      "Init: initializing centroids\n",
      "Init: initializing clusters\n",
      "Starting iterations...\n",
      "Run: 5, iteration: 1/50, moves: 378, ncost: 3180779254.098007\n",
      "Run: 5, iteration: 2/50, moves: 150, ncost: 2503492204.9547486\n",
      "Run: 5, iteration: 3/50, moves: 41, ncost: 2415612257.538436\n",
      "Run: 5, iteration: 4/50, moves: 10, ncost: 2409934217.686522\n",
      "Run: 5, iteration: 5/50, moves: 1, ncost: 2409867101.6321034\n",
      "Run: 5, iteration: 6/50, moves: 0, ncost: 2409867101.6321034\n",
      "Init: initializing centroids\n",
      "Init: initializing clusters\n",
      "Starting iterations...\n",
      "Run: 6, iteration: 1/50, moves: 35, ncost: 2415612257.538436\n",
      "Run: 6, iteration: 2/50, moves: 10, ncost: 2409934217.686522\n",
      "Run: 6, iteration: 3/50, moves: 1, ncost: 2409867101.6321034\n",
      "Run: 6, iteration: 4/50, moves: 0, ncost: 2409867101.6321034\n",
      "Init: initializing centroids\n",
      "Init: initializing clusters\n",
      "Starting iterations...\n",
      "Run: 7, iteration: 1/50, moves: 452, ncost: 3349765688.8562083\n",
      "Run: 7, iteration: 2/50, moves: 173, ncost: 2533965156.7609253\n",
      "Run: 7, iteration: 3/50, moves: 48, ncost: 2417693524.659884\n",
      "Run: 7, iteration: 4/50, moves: 12, ncost: 2409934217.686522\n",
      "Run: 7, iteration: 5/50, moves: 1, ncost: 2409867101.6321034\n",
      "Run: 7, iteration: 6/50, moves: 0, ncost: 2409867101.6321034\n",
      "Init: initializing centroids\n",
      "Init: initializing clusters\n",
      "Starting iterations...\n",
      "Run: 8, iteration: 1/50, moves: 296, ncost: 3031349291.045405\n",
      "Run: 8, iteration: 2/50, moves: 133, ncost: 2465561155.0765376\n",
      "Run: 8, iteration: 3/50, moves: 30, ncost: 2414774184.9043846\n",
      "Run: 8, iteration: 4/50, moves: 9, ncost: 2409934217.686522\n",
      "Run: 8, iteration: 5/50, moves: 1, ncost: 2409867101.6321034\n",
      "Run: 8, iteration: 6/50, moves: 0, ncost: 2409867101.6321034\n",
      "Init: initializing centroids\n",
      "Init: initializing clusters\n",
      "Init: initializing centroids\n",
      "Init: initializing clusters\n",
      "Starting iterations...\n",
      "Run: 9, iteration: 1/50, moves: 20, ncost: 2415612257.538436\n",
      "Run: 9, iteration: 2/50, moves: 10, ncost: 2409934217.686522\n",
      "Run: 9, iteration: 3/50, moves: 1, ncost: 2409867101.6321034\n",
      "Run: 9, iteration: 4/50, moves: 0, ncost: 2409867101.6321034\n",
      "Init: initializing centroids\n",
      "Init: initializing clusters\n",
      "Starting iterations...\n",
      "Run: 10, iteration: 1/50, moves: 179, ncost: 2589777712.6268106\n",
      "Run: 10, iteration: 2/50, moves: 60, ncost: 2421985376.829306\n",
      "Run: 10, iteration: 3/50, moves: 16, ncost: 2409934217.686522\n",
      "Run: 10, iteration: 4/50, moves: 1, ncost: 2409867101.6321034\n",
      "Run: 10, iteration: 5/50, moves: 0, ncost: 2409867101.6321034\n",
      "Best run was number 1\n"
     ]
    }
   ],
   "source": [
    "kproto=KPrototypes(n_clusters=2,verbose=1,max_iter=50)\n",
    "clust=kproto.fit_predict(df_array,categorical=[0,1,3,4,6,7,9,10,12,14,15,17,19,20])"
   ]
  },
  {
   "cell_type": "code",
   "execution_count": 141,
   "metadata": {},
   "outputs": [
    {
     "data": {
      "text/html": [
       "<div>\n",
       "<style scoped>\n",
       "    .dataframe tbody tr th:only-of-type {\n",
       "        vertical-align: middle;\n",
       "    }\n",
       "\n",
       "    .dataframe tbody tr th {\n",
       "        vertical-align: top;\n",
       "    }\n",
       "\n",
       "    .dataframe thead th {\n",
       "        text-align: right;\n",
       "    }\n",
       "</style>\n",
       "<table border=\"1\" class=\"dataframe\">\n",
       "  <thead>\n",
       "    <tr style=\"text-align: right;\">\n",
       "      <th></th>\n",
       "      <th>0</th>\n",
       "    </tr>\n",
       "  </thead>\n",
       "  <tbody>\n",
       "    <tr>\n",
       "      <th>0</th>\n",
       "      <td>1</td>\n",
       "    </tr>\n",
       "    <tr>\n",
       "      <th>1</th>\n",
       "      <td>1</td>\n",
       "    </tr>\n",
       "    <tr>\n",
       "      <th>2</th>\n",
       "      <td>1</td>\n",
       "    </tr>\n",
       "    <tr>\n",
       "      <th>3</th>\n",
       "      <td>1</td>\n",
       "    </tr>\n",
       "    <tr>\n",
       "      <th>4</th>\n",
       "      <td>1</td>\n",
       "    </tr>\n",
       "  </tbody>\n",
       "</table>\n",
       "</div>"
      ],
      "text/plain": [
       "   0\n",
       "0  1\n",
       "1  1\n",
       "2  1\n",
       "3  1\n",
       "4  1"
      ]
     },
     "execution_count": 141,
     "metadata": {},
     "output_type": "execute_result"
    }
   ],
   "source": [
    "#Combining Predicted Clusters into our main Dataframe\n",
    "clusters_=pd.DataFrame(clust)\n",
    "clusters_.head()"
   ]
  },
  {
   "cell_type": "code",
   "execution_count": 142,
   "metadata": {},
   "outputs": [
    {
     "data": {
      "text/html": [
       "<div>\n",
       "<style scoped>\n",
       "    .dataframe tbody tr th:only-of-type {\n",
       "        vertical-align: middle;\n",
       "    }\n",
       "\n",
       "    .dataframe tbody tr th {\n",
       "        vertical-align: top;\n",
       "    }\n",
       "\n",
       "    .dataframe thead th {\n",
       "        text-align: right;\n",
       "    }\n",
       "</style>\n",
       "<table border=\"1\" class=\"dataframe\">\n",
       "  <thead>\n",
       "    <tr style=\"text-align: right;\">\n",
       "      <th></th>\n",
       "      <th>0</th>\n",
       "    </tr>\n",
       "  </thead>\n",
       "  <tbody>\n",
       "    <tr>\n",
       "      <th>0</th>\n",
       "      <td>1</td>\n",
       "    </tr>\n",
       "    <tr>\n",
       "      <th>1</th>\n",
       "      <td>1</td>\n",
       "    </tr>\n",
       "    <tr>\n",
       "      <th>2</th>\n",
       "      <td>1</td>\n",
       "    </tr>\n",
       "    <tr>\n",
       "      <th>3</th>\n",
       "      <td>1</td>\n",
       "    </tr>\n",
       "    <tr>\n",
       "      <th>4</th>\n",
       "      <td>1</td>\n",
       "    </tr>\n",
       "    <tr>\n",
       "      <th>...</th>\n",
       "      <td>...</td>\n",
       "    </tr>\n",
       "    <tr>\n",
       "      <th>995</th>\n",
       "      <td>1</td>\n",
       "    </tr>\n",
       "    <tr>\n",
       "      <th>996</th>\n",
       "      <td>1</td>\n",
       "    </tr>\n",
       "    <tr>\n",
       "      <th>997</th>\n",
       "      <td>0</td>\n",
       "    </tr>\n",
       "    <tr>\n",
       "      <th>998</th>\n",
       "      <td>0</td>\n",
       "    </tr>\n",
       "    <tr>\n",
       "      <th>999</th>\n",
       "      <td>0</td>\n",
       "    </tr>\n",
       "  </tbody>\n",
       "</table>\n",
       "<p>1000 rows × 1 columns</p>\n",
       "</div>"
      ],
      "text/plain": [
       "     0\n",
       "0    1\n",
       "1    1\n",
       "2    1\n",
       "3    1\n",
       "4    1\n",
       "..  ..\n",
       "995  1\n",
       "996  1\n",
       "997  0\n",
       "998  0\n",
       "999  0\n",
       "\n",
       "[1000 rows x 1 columns]"
      ]
     },
     "execution_count": 142,
     "metadata": {},
     "output_type": "execute_result"
    }
   ],
   "source": [
    "clusters_"
   ]
  },
  {
   "cell_type": "code",
   "execution_count": 143,
   "metadata": {},
   "outputs": [],
   "source": [
    "clust=pd.concat([clus,clusters_],axis=1).reset_index()"
   ]
  },
  {
   "cell_type": "code",
   "execution_count": 144,
   "metadata": {},
   "outputs": [],
   "source": [
    "clust.rename(columns={0:'Cluster'},inplace=True)"
   ]
  },
  {
   "cell_type": "code",
   "execution_count": 145,
   "metadata": {},
   "outputs": [
    {
     "data": {
      "image/png": "[encoded data removed]",
      "text/plain": [
       "<Figure size 432x288 with 1 Axes>"
      ]
     },
     "metadata": {},
     "output_type": "display_data"
    }
   ],
   "source": [
    "sns.scatterplot(x='Age',y='Credit_Amount',hue='Cluster',data=clust)\n",
    "\n",
    "plt.savefig('Clusters',bbox_inches='tight')\n",
    "plt.show()"
   ]
  },
  {
   "cell_type": "code",
   "execution_count": 155,
   "metadata": {},
   "outputs": [],
   "source": [
    "cluster1=clust[clust['Cluster']==1]\n",
    "cluster0=clust[clust['Cluster']==0]"
   ]
  },
  {
   "cell_type": "code",
   "execution_count": 156,
   "metadata": {},
   "outputs": [
    {
     "data": {
      "text/plain": [
       "pandas.core.frame.DataFrame"
      ]
     },
     "execution_count": 156,
     "metadata": {},
     "output_type": "execute_result"
    }
   ],
   "source": [
    "type(cluster1)"
   ]
  },
  {
   "cell_type": "code",
   "execution_count": 158,
   "metadata": {},
   "outputs": [],
   "source": [
    "occ1=cluster1['Occupation'].value_counts()\n",
    "occ0=cluster0['Occupation'].value_counts()"
   ]
  },
  {
   "cell_type": "code",
   "execution_count": 159,
   "metadata": {},
   "outputs": [
    {
     "data": {
      "text/plain": [
       ": skilled employee / official           535\n",
       "unskilled - resident                    185\n",
       "management/ self-employed/highly         86\n",
       "unemployed/ unskilled - non-resident     19\n",
       "Name: Occupation, dtype: int64"
      ]
     },
     "execution_count": 159,
     "metadata": {},
     "output_type": "execute_result"
    }
   ],
   "source": [
    "occ1"
   ]
  },
  {
   "cell_type": "code",
   "execution_count": 160,
   "metadata": {},
   "outputs": [
    {
     "data": {
      "text/plain": [
       ": skilled employee / official           95\n",
       "management/ self-employed/highly        62\n",
       "unskilled - resident                    15\n",
       "unemployed/ unskilled - non-resident     3\n",
       "Name: Occupation, dtype: int64"
      ]
     },
     "execution_count": 160,
     "metadata": {},
     "output_type": "execute_result"
    }
   ],
   "source": [
    "occ0"
   ]
  },
  {
   "cell_type": "code",
   "execution_count": null,
   "metadata": {},
   "outputs": [],
   "source": []
  }
 ],
 "metadata": {
  "kernelspec": {
   "display_name": "Python 3",
   "language": "python",
   "name": "python3"
  },
  "language_info": {
   "codemirror_mode": {
    "name": "ipython",
    "version": 3
   },
   "file_extension": ".py",
   "mimetype": "text/x-python",
   "name": "python",
   "nbconvert_exporter": "python",
   "pygments_lexer": "ipython3",
   "version": "3.7.6"
  }
 },
 "nbformat": 4,
 "nbformat_minor": 2
}
